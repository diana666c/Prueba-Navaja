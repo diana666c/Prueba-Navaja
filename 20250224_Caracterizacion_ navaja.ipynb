{
 "cells": [
  {
   "cell_type": "code",
   "execution_count": 1,
   "id": "2873e057-bc69-4a4e-b523-e438c01f3aa0",
   "metadata": {},
   "outputs": [],
   "source": [
    "#Carga de librerias\n",
    "import numpy as np \n",
    "import matplotlib.pyplot as plt \n",
    "import matplotlib.image as mpimg\n",
    "import os \n",
    "from pathlib import Path\n",
    "import pandas as pd\n",
    "#%matplotlib inline\n",
    "#%matplotlib notebook\n",
    "import cv2\n",
    "from pylab import *             # importar todas las funciones de pylab, en particular poder trabajar\n",
    "                                # con \"xticks\" y \"yticks\"\n",
    "from scipy.fft import ifftn\n",
    "from numpy import fft as fft\n",
    "\n",
    "\n",
    "from scipy.optimize import curve_fit\n",
    "from matplotlib import gridspec\n",
    "from matplotlib.patches import Ellipse\n",
    "from lmfit.models import LinearModel, ConstantModel\n",
    "from lmfit import Parameters, Model\n",
    "from lmfit import conf_interval\n",
    "import glob\n",
    "#from numpy import fft as fft\n",
    "#from sklearn.metrics import r2_score\n",
    "\n",
    "#import matplotlib.pyplot as plt\n",
    "#from numpy import exp, loadtxt, pi, sqrt\n",
    "\n",
    "#from lmfit import Model\n",
    "#from numpy import exp, linspace, random\n",
    "#import BeamProfilerCopy as bp\n",
    "\n",
    "import numpy as np\n",
    "import scipy.optimize as opt\n",
    "import matplotlib.pyplot as plt\n",
    "\n",
    "import numpy as np\n",
    "import matplotlib.pyplot as plt\n",
    "from scipy import optimize\n",
    "from scipy.special import erf  # Importar erf desde scipy.special"
   ]
  },
  {
   "cell_type": "code",
   "execution_count": 3,
   "id": "3784fe33-b81a-4d6d-9960-be762f164a30",
   "metadata": {},
   "outputs": [],
   "source": [
    "general_path_figure = 'C:\\\\Users\\\\dell 5810\\\\SynologyDrive\\\\projects\\\\propagation_of_vortices\\\\figures\\\\navaja'"
   ]
  },
  {
   "cell_type": "code",
   "execution_count": 5,
   "id": "17b58772-468e-4212-95d4-b3ed4787ce89",
   "metadata": {},
   "outputs": [],
   "source": [
    "#Escala de color de Negro a Azul definida como my_cmap3\n",
    "\n",
    "#plt.figure()\n",
    "a=np.outer(np.arange(0,1,0.01),np.ones(10))\n",
    "cdict3 = {'red':   [(0.0,  0.0, 0.0),\n",
    "                    (0.4,  0.0, 0.0),\n",
    "                    (0.50,  0.0, 0.0),\n",
    "                    (1.0, 1.0, 1.0)],\n",
    "         'green': [(0.0,  0.0, 0.0),\n",
    "                   (0.4, 0.5, 0.5),\n",
    "                   (0.70,  1.0, 1.0),\n",
    "                   (1.0, 1.0, 1.0)],\n",
    "     'blue':  [(0.0,  0.0, 0.0),\n",
    "               (0.4,  1.0, 1.0),\n",
    "               (0.70,  1.0, 1.0),\n",
    "               (1.0 , 1.0 , 1.0)]} \n",
    "my_cmap3 = matplotlib.colors.LinearSegmentedColormap('my_colormap3',cdict3,256)\n",
    "#plt.imshow(a,aspect='auto', cmap = my_cmap3)                   \n",
    "#plt.show()"
   ]
  },
  {
   "cell_type": "code",
   "execution_count": 6,
   "id": "0450521d-83f9-450b-a425-f22a9139c198",
   "metadata": {},
   "outputs": [],
   "source": [
    "def twoD_Gaussian(xy, amplitude, xo, yo, sigma_x, sigma_y, theta, offset):\n",
    "    x, y = xy\n",
    "    xo = float(xo)\n",
    "    yo = float(yo)\n",
    "    a = (np.cos(theta)**2)/(2*sigma_x**2) + (np.sin(theta)**2)/(2*sigma_y**2)\n",
    "    b = -(np.sin(2*theta))/(4*sigma_x**2) + (np.sin(2*theta))/(4*sigma_y**2)\n",
    "    c = (np.sin(theta)**2)/(2*sigma_x**2) + (np.cos(theta)**2)/(2*sigma_y**2)\n",
    "    g = offset + amplitude*np.exp( - (a*((x-xo)**2) + 2*b*(x-xo)*(y-yo)\n",
    "                            + c*((y-yo)**2)))\n",
    "    return g.ravel()"
   ]
  },
  {
   "cell_type": "code",
   "execution_count": 9,
   "id": "37fb12e1-776b-4bec-a526-2a433a3a1048",
   "metadata": {},
   "outputs": [],
   "source": [
    "def Gaussian_2d(xy,A,mu_x,mu_y,sigma_x,sigma_y):\n",
    "    x, y = xy\n",
    "    mu_x = float(mu_x)\n",
    "    mu_y = float(mu_y)\n",
    "    #G= A*np.exp(-(x-mu_x)**2/(2*sigma_x**2) - (y-mu_y)**2/(2*sigma_y**2))\n",
    "    G= A*np.exp(-(x-mu_x)**2/(sigma_x**2) - (y-mu_y)**2/(sigma_y**2))\n",
    "    return G.ravel()"
   ]
  },
  {
   "cell_type": "code",
   "execution_count": 11,
   "id": "63ced9ae-0bd6-4549-bf06-52f69740cc6a",
   "metadata": {},
   "outputs": [],
   "source": [
    "ruta1 = os.path.realpath(\"20240920-desintonia-776\")"
   ]
  },
  {
   "cell_type": "code",
   "execution_count": 13,
   "id": "42803126-39a7-417d-861b-90f0d37a70d1",
   "metadata": {},
   "outputs": [
    {
     "data": {
      "text/plain": [
       "'C:\\\\Users\\\\dell 5810\\\\SynologyDrive\\\\projects\\\\propagation_of_vortices\\\\scripts\\\\Analisis'"
      ]
     },
     "execution_count": 13,
     "metadata": {},
     "output_type": "execute_result"
    }
   ],
   "source": [
    "os.getcwd()"
   ]
  },
  {
   "cell_type": "code",
   "execution_count": 15,
   "id": "d32b6a1d-ebdf-4cf0-883c-c45ef5da3f39",
   "metadata": {},
   "outputs": [],
   "source": [
    "#general_path = '/Users/lafrioc/lafrioc/projects/propagation_of_vortices/data/Gauss/'\n",
    "general_path = '\\\\Users\\\\dell 5810\\\\SynologyDrive\\\\projects\\\\propagation_of_vortices\\\\data\\\\Gauss\\\\'"
   ]
  },
  {
   "cell_type": "code",
   "execution_count": 17,
   "id": "59a2622d-077b-492a-9433-27b62dc8d8b1",
   "metadata": {},
   "outputs": [],
   "source": [
    "ruta2 = general_path + '20241213-haz-420/'\n",
    "ruta3 = general_path + '776/20241213/'\n",
    "ruta4 = general_path + '420\\\\20250107-distancia\\\\'\n",
    "ruta5 = general_path + '776\\\\20241213\\\\'\n",
    "#ruta5 = general_path + '20241011-vortices-vs-distancia/20241011vortice-vs-desintonia/'\n",
    "#ruta6 = general_path + '20241015-2vortices-vs-distancia776/'\n",
    "#ruta7 = general_path + '20241015-2vortices-vs-distancia776/2vortices-420/'\n",
    "#ruta11 = general_path + '20241108-1y2vortices-vs-distancia/20241108-2vortices/'\n",
    "#ruta8 = general_path + '20241114-4vortices-vs-distancia/'\n",
    "#ruta9 = general_path + '20241114-4vortices-vs-distancia/776/'\n",
    "#ruta10 = general_path + '20241128-2vortices-vs-distancia/'\n",
    "#ruta12 = general_path + '20241202-4vortices-vs-distancia/'"
   ]
  },
  {
   "cell_type": "code",
   "execution_count": 19,
   "id": "f5d43de0-d862-4286-80fd-14f9fc2103d7",
   "metadata": {},
   "outputs": [
    {
     "data": {
      "text/plain": [
       "(36,)"
      ]
     },
     "execution_count": 19,
     "metadata": {},
     "output_type": "execute_result"
    }
   ],
   "source": [
    "# Ruta para fotos de 2 y 4 vortices con una separacion de 40 px\n",
    "Gauss_420 = np.array(list(sorted(Path(ruta2).glob('20241213-azul-d*.jpg'))))\n",
    "Gauss_420_2 = np.array(list(sorted(Path(ruta4).glob('20250107_*mm.jpg'))))\n",
    "Gauss_780 = np.array(list(sorted(Path(ruta3).glob('20241213_780_*mm.jpg'))))\n",
    "Gauss_776 = np.array(list(sorted(Path(ruta3).glob('20241213_776_*mm.jpg'))))\n",
    "Gauss_780.shape"
   ]
  },
  {
   "cell_type": "code",
   "execution_count": 21,
   "id": "ba7ebe92-5935-4212-9e99-04e0ae710173",
   "metadata": {},
   "outputs": [
    {
     "data": {
      "image/png": "[encoded data removed]",
      "text/plain": [
       "<Figure size 640x480 with 1 Axes>"
      ]
     },
     "metadata": {},
     "output_type": "display_data"
    }
   ],
   "source": [
    "prueba0 = mpimg.imread(Gauss_780[0]) \n",
    "prueba30 = np.array((prueba0),dtype=int)[:,:,0]\n",
    "plt.imshow(prueba30, cmap = my_cmap3)  #tamaño:  (150,150)\n",
    "plt.show()\n",
    "#prueba0"
   ]
  },
  {
   "cell_type": "code",
   "execution_count": 22,
   "id": "45cd8b36-b7f4-4c03-b0dc-3be406f1e87f",
   "metadata": {},
   "outputs": [],
   "source": [
    "#prueba30.reshape(201, 201)"
   ]
  },
  {
   "cell_type": "code",
   "execution_count": 25,
   "id": "1ce7cd19-245b-4e15-88d0-2ebcdfcf4980",
   "metadata": {},
   "outputs": [
    {
     "name": "stdout",
     "output_type": "stream",
     "text": [
      "[ 75.73783939 688.01249851 504.32751921 393.15739729 371.57429469]\n"
     ]
    }
   ],
   "source": [
    "im = cv2.imread(Gauss_780[0])\n",
    "im = np.array((im),dtype=int)[:,:,0]\n",
    "    #im = cv2.imread(r\"path_to_load\\im.png\", -1) \n",
    "h, w = im.shape\n",
    "data = im.ravel()\n",
    "    \n",
    "x = np.linspace(0, w, w)\n",
    "y = np.linspace(0, h, h)\n",
    "x, y = np.meshgrid(x, y)\n",
    "    \n",
    "    # initial guess of parameters: amplitude, xo, yo, sigma_x, sigma_y, theta, offset\n",
    "initial_guess = (50, 700, 500, 120, 129)\n",
    "    \n",
    "    # find the optimal Gaussian parameters\n",
    "popt, pcov = curve_fit(Gaussian_2d, (x, y), data, p0=initial_guess) \n",
    "#popt, pcov = curve_fit(twoD_Gaussian, (x, y), data, p0=initial_guess) \n",
    "    \n",
    "# create new data with these parameters\n",
    "data_fitted = Gaussian_2d((x, y), *popt)\n",
    "data_fitted =data_fitted.reshape(h,w)\n",
    "print(popt)\n"
   ]
  },
  {
   "cell_type": "code",
   "execution_count": null,
   "id": "b7e9a024-7948-4bac-bd83-24e63eb05582",
   "metadata": {},
   "outputs": [],
   "source": []
  },
  {
   "cell_type": "code",
   "execution_count": 30,
   "id": "185aa5ed-74c5-4b1d-8b35-77450a823078",
   "metadata": {},
   "outputs": [],
   "source": [
    "from PIL import Image\n",
    "\n",
    "\n",
    "# Cargar la imagen\n",
    "im = cv2.imread(Gauss_780[35])\n",
    "\n",
    "\n",
    "# Definir las coordenadas de la región (esquina superior izquierda y esquina inferior derecha)\n",
    "x2=1440\n",
    "\n",
    "x = []\n",
    "for i in range (0,101):\n",
    "    x1 =int(np .floor (  i*1440 /101) )\n",
    "    x.append(x1)\n",
    "\n",
    "y1, y2 = 0, 1260 # Coordenada (x2, y2) es la esquina inferior derecha\n",
    "\n"
   ]
  },
  {
   "cell_type": "code",
   "execution_count": 32,
   "id": "5c416c37-8d7d-42d6-9bc1-2e8f873ff624",
   "metadata": {},
   "outputs": [],
   "source": [
    "\n",
    "#img_array01=np.array(im) \n",
    "#img_array01[y1:y2, x[1]:x2] = 0\n",
    "\n",
    "#img_modified01 = Image.fromarray(img_array01)\n",
    "#img_modified01.show()"
   ]
  },
  {
   "cell_type": "code",
   "execution_count": 34,
   "id": "51922a1d-412a-4546-b7e3-e821f1e0e9e8",
   "metadata": {},
   "outputs": [],
   "source": [
    "\n",
    "# Cambiar los valores de la región definida a ceros\n",
    "img_array01 = np.array(im) \n",
    "img_array02 = np.array(im) \n",
    "img_array03 = np.array(im) \n",
    "img_array04 = np.array(im) \n",
    "img_array05 = np.array(im) \n",
    "img_array06 = np.array(im) \n",
    "img_array07 = np.array(im) \n",
    "img_array08 = np.array(im) \n",
    "img_array09 = np.array(im) \n",
    "img_array10 = np.array(im)\n",
    "img_array11 = np.array(im)\n",
    "img_array12 = np.array(im)\n",
    "img_array13 = np.array(im)\n",
    "img_array14 = np.array(im)\n",
    "img_array15 = np.array(im)\n",
    "img_array16 = np.array(im)\n",
    "img_array17 = np.array(im)\n",
    "img_array18 = np.array(im)\n",
    "img_array19 = np.array(im)\n",
    "img_array20 = np.array(im)\n",
    "img_array21 = np.array(im)\n",
    "img_array22 = np.array(im)\n",
    "img_array23 = np.array(im)\n",
    "img_array24 = np.array(im)\n",
    "img_array25 = np.array(im)\n",
    "img_array26 = np.array(im)\n",
    "img_array27 = np.array(im)\n",
    "img_array28 = np.array(im)\n",
    "img_array29 = np.array(im)\n",
    "img_array30 = np.array(im)\n",
    "img_array31 = np.array(im)\n",
    "img_array32 = np.array(im)\n",
    "img_array33 = np.array(im)\n",
    "img_array34 = np.array(im)\n",
    "img_array35 = np.array(im)\n",
    "img_array36 = np.array(im)\n",
    "img_array37 = np.array(im)\n",
    "img_array38 = np.array(im)\n",
    "img_array39 = np.array(im)\n",
    "img_array40 = np.array(im)\n",
    "img_array41 = np.array(im)\n",
    "img_array42 = np.array(im)\n",
    "img_array43 = np.array(im)\n",
    "img_array44 = np.array(im)\n",
    "img_array45 = np.array(im)\n",
    "img_array46 = np.array(im)\n",
    "img_array47 = np.array(im)\n",
    "img_array48 = np.array(im)\n",
    "img_array49 = np.array(im)\n",
    "img_array50 = np.array(im)\n",
    "img_array51 = np.array(im)\n",
    "img_array52 = np.array(im)\n",
    "img_array53 = np.array(im)\n",
    "img_array54 = np.array(im)\n",
    "img_array55 = np.array(im)\n",
    "img_array56 = np.array(im)\n",
    "img_array57 = np.array(im)\n",
    "img_array58 = np.array(im)\n",
    "img_array59 = np.array(im)\n",
    "img_array60 = np.array(im)\n",
    "img_array61 = np.array(im)\n",
    "img_array62 = np.array(im)\n",
    "img_array63 = np.array(im)\n",
    "img_array64 = np.array(im)\n",
    "img_array65 = np.array(im)\n",
    "img_array66 = np.array(im)\n",
    "img_array67 = np.array(im)\n",
    "img_array68 = np.array(im)\n",
    "img_array69 = np.array(im)\n",
    "img_array70 = np.array(im)\n",
    "img_array71 = np.array(im)\n",
    "img_array72 = np.array(im)\n",
    "img_array73 = np.array(im)\n",
    "img_array74 = np.array(im)\n",
    "img_array75 = np.array(im)\n",
    "img_array76 = np.array(im)\n",
    "img_array77 = np.array(im)\n",
    "img_array78 = np.array(im)\n",
    "img_array79 = np.array(im)\n",
    "img_array80 = np.array(im)\n",
    "img_array81 = np.array(im)\n",
    "img_array82 = np.array(im)\n",
    "img_array83 = np.array(im)\n",
    "img_array84 = np.array(im)\n",
    "img_array85 = np.array(im)\n",
    "img_array86 = np.array(im)\n",
    "img_array87 = np.array(im)\n",
    "img_array88 = np.array(im)\n",
    "img_array89 = np.array(im)\n",
    "img_array90 = np.array(im)\n",
    "img_array91 = np.array(im)\n",
    "img_array92 = np.array(im)\n",
    "img_array93 = np.array(im)\n",
    "img_array94 = np.array(im)\n",
    "img_array95 = np.array(im)\n",
    "img_array96 = np.array(im)\n",
    "img_array97 = np.array(im)\n",
    "img_array98 = np.array(im)\n",
    "img_array99 = np.array(im)\n",
    "img_array100 = np.array(im)\n",
    "\n",
    "\n",
    "\n",
    "# Cambiar los valores de la región definida a ceros\n",
    "img_array01[y1:y2, x[1]:x2] = 0\n",
    "img_array02[y1:y2, x[2]:x2] = 0\n",
    "img_array03[y1:y2, x[3]:x2] = 0\n",
    "img_array04[y1:y2, x[4]:x2] = 0\n",
    "img_array05[y1:y2, x[5]:x2] = 0\n",
    "img_array06[y1:y2, x[6]:x2] = 0\n",
    "img_array07[y1:y2, x[7]:x2] = 0\n",
    "img_array08[y1:y2, x[8]:x2] = 0\n",
    "img_array09[y1:y2, x[9]:x2] = 0\n",
    "img_array10[y1:y2, x[10]:x2] = 0\n",
    "img_array11[y1:y2, x[11]:x2] = 0\n",
    "img_array12[y1:y2, x[12]:x2] = 0\n",
    "img_array13[y1:y2, x[13]:x2] = 0\n",
    "img_array14[y1:y2, x[14]:x2] = 0\n",
    "img_array15[y1:y2, x[15]:x2] = 0\n",
    "img_array16[y1:y2, x[16]:x2] = 0\n",
    "img_array17[y1:y2, x[17]:x2] = 0\n",
    "img_array18[y1:y2, x[18]:x2] = 0\n",
    "img_array19[y1:y2, x[19]:x2] = 0\n",
    "img_array20[y1:y2, x[20]:x2] = 0\n",
    "img_array21[y1:y2, x[21]:x2] = 0\n",
    "img_array22[y1:y2, x[22]:x2] = 0\n",
    "img_array23[y1:y2, x[23]:x2] = 0\n",
    "img_array24[y1:y2, x[24]:x2] = 0\n",
    "img_array25[y1:y2, x[25]:x2] = 0\n",
    "img_array26[y1:y2, x[26]:x2] = 0\n",
    "img_array27[y1:y2, x[27]:x2] = 0\n",
    "img_array28[y1:y2, x[28]:x2] = 0\n",
    "img_array29[y1:y2, x[29]:x2] = 0\n",
    "img_array30[y1:y2, x[30]:x2] = 0\n",
    "img_array31[y1:y2, x[31]:x2] = 0\n",
    "img_array32[y1:y2, x[32]:x2] = 0\n",
    "img_array33[y1:y2, x[33]:x2] = 0\n",
    "img_array34[y1:y2, x[34]:x2] = 0\n",
    "img_array35[y1:y2, x[35]:x2] = 0\n",
    "img_array36[y1:y2, x[36]:x2] = 0\n",
    "img_array37[y1:y2, x[37]:x2] = 0\n",
    "img_array38[y1:y2, x[38]:x2] = 0\n",
    "img_array39[y1:y2, x[39]:x2] = 0\n",
    "img_array40[y1:y2, x[40]:x2] = 0\n",
    "img_array41[y1:y2, x[41]:x2] = 0\n",
    "img_array42[y1:y2, x[42]:x2] = 0\n",
    "img_array43[y1:y2, x[43]:x2] = 0\n",
    "img_array44[y1:y2, x[44]:x2] = 0\n",
    "img_array45[y1:y2, x[45]:x2] = 0\n",
    "img_array46[y1:y2, x[46]:x2] = 0\n",
    "img_array47[y1:y2, x[47]:x2] = 0\n",
    "img_array48[y1:y2, x[48]:x2] = 0\n",
    "img_array49[y1:y2, x[49]:x2] = 0\n",
    "img_array50[y1:y2, x[50]:x2] = 0\n",
    "img_array51[y1:y2, x[51]:x2] = 0\n",
    "img_array52[y1:y2, x[52]:x2] = 0\n",
    "img_array53[y1:y2, x[53]:x2] = 0\n",
    "img_array54[y1:y2, x[54]:x2] = 0\n",
    "img_array55[y1:y2, x[55]:x2] = 0\n",
    "img_array56[y1:y2, x[56]:x2] = 0\n",
    "img_array57[y1:y2, x[57]:x2] = 0\n",
    "img_array58[y1:y2, x[58]:x2] = 0\n",
    "img_array59[y1:y2, x[59]:x2] = 0\n",
    "img_array60[y1:y2, x[60]:x2] = 0\n",
    "img_array61[y1:y2, x[61]:x2] = 0\n",
    "img_array62[y1:y2, x[62]:x2] = 0\n",
    "img_array63[y1:y2, x[63]:x2] = 0\n",
    "img_array64[y1:y2, x[64]:x2] = 0\n",
    "img_array65[y1:y2, x[65]:x2] = 0\n",
    "img_array66[y1:y2, x[66]:x2] = 0\n",
    "img_array67[y1:y2, x[67]:x2] = 0\n",
    "img_array68[y1:y2, x[68]:x2] = 0\n",
    "img_array69[y1:y2, x[69]:x2] = 0\n",
    "img_array70[y1:y2, x[70]:x2] = 0\n",
    "img_array71[y1:y2, x[71]:x2] = 0\n",
    "img_array72[y1:y2, x[72]:x2] = 0\n",
    "img_array73[y1:y2, x[73]:x2] = 0\n",
    "img_array74[y1:y2, x[74]:x2] = 0\n",
    "img_array75[y1:y2, x[75]:x2] = 0\n",
    "img_array76[y1:y2, x[76]:x2] = 0\n",
    "img_array77[y1:y2, x[77]:x2] = 0\n",
    "img_array78[y1:y2, x[78]:x2] = 0\n",
    "img_array79[y1:y2, x[79]:x2] = 0\n",
    "img_array80[y1:y2, x[80]:x2] = 0\n",
    "img_array81[y1:y2, x[81]:x2] = 0\n",
    "img_array82[y1:y2, x[82]:x2] = 0\n",
    "img_array83[y1:y2, x[83]:x2] = 0\n",
    "img_array84[y1:y2, x[84]:x2] = 0\n",
    "img_array85[y1:y2, x[85]:x2] = 0\n",
    "img_array86[y1:y2, x[86]:x2] = 0\n",
    "img_array87[y1:y2, x[87]:x2] = 0\n",
    "img_array88[y1:y2, x[88]:x2] = 0\n",
    "img_array89[y1:y2, x[89]:x2] = 0\n",
    "img_array90[y1:y2, x[90]:x2] = 0\n",
    "img_array91[y1:y2, x[91]:x2] = 0\n",
    "img_array92[y1:y2, x[92]:x2] = 0\n",
    "img_array93[y1:y2, x[93]:x2] = 0\n",
    "img_array94[y1:y2, x[94]:x2] = 0\n",
    "img_array95[y1:y2, x[95]:x2] = 0\n",
    "img_array96[y1:y2, x[96]:x2] = 0\n",
    "img_array97[y1:y2, x[97]:x2] = 0\n",
    "img_array98[y1:y2, x[98]:x2] = 0\n",
    "img_array99[y1:y2, x[99]:x2] = 0\n",
    "img_array100[y1:y2, x[100]:x2] = 0\n",
    "\n",
    "\n",
    "# Convertir la matriz modificada de vuelta a una imagen\n",
    "img_modified01 = Image.fromarray(img_array01)\n",
    "img_modified02 = Image.fromarray(img_array02)\n",
    "img_modified03 = Image.fromarray(img_array03)\n",
    "img_modified04 = Image.fromarray(img_array04)\n",
    "img_modified05 = Image.fromarray(img_array05)\n",
    "img_modified06 = Image.fromarray(img_array06)\n",
    "img_modified07 = Image.fromarray(img_array07)\n",
    "img_modified08 = Image.fromarray(img_array08)\n",
    "img_modified09 = Image.fromarray(img_array09)\n",
    "img_modified10 = Image.fromarray(img_array10)\n",
    "img_modified11 = Image.fromarray(img_array11)\n",
    "img_modified12 = Image.fromarray(img_array12)\n",
    "img_modified13 = Image.fromarray(img_array13)\n",
    "img_modified14 = Image.fromarray(img_array14)\n",
    "img_modified15 = Image.fromarray(img_array15)\n",
    "img_modified16 = Image.fromarray(img_array16)\n",
    "img_modified17 = Image.fromarray(img_array17)\n",
    "img_modified18 = Image.fromarray(img_array18)\n",
    "img_modified19 = Image.fromarray(img_array19)\n",
    "img_modified20 = Image.fromarray(img_array20)\n",
    "img_modified21 = Image.fromarray(img_array21)\n",
    "img_modified22 = Image.fromarray(img_array22)\n",
    "img_modified23 = Image.fromarray(img_array23)\n",
    "img_modified24 = Image.fromarray(img_array24)\n",
    "img_modified25 = Image.fromarray(img_array25)\n",
    "img_modified26 = Image.fromarray(img_array26)\n",
    "img_modified27 = Image.fromarray(img_array27)\n",
    "img_modified28 = Image.fromarray(img_array28)\n",
    "img_modified29 = Image.fromarray(img_array29)\n",
    "img_modified30 = Image.fromarray(img_array30)\n",
    "img_modified31 = Image.fromarray(img_array31)\n",
    "img_modified32 = Image.fromarray(img_array32)\n",
    "img_modified33 = Image.fromarray(img_array33)\n",
    "img_modified34 = Image.fromarray(img_array34)\n",
    "img_modified35 = Image.fromarray(img_array35)\n",
    "img_modified36 = Image.fromarray(img_array36)\n",
    "img_modified37 = Image.fromarray(img_array37)\n",
    "img_modified38 = Image.fromarray(img_array38)\n",
    "img_modified39 = Image.fromarray(img_array39)\n",
    "img_modified40 = Image.fromarray(img_array40)\n",
    "img_modified41 = Image.fromarray(img_array41)\n",
    "img_modified42 = Image.fromarray(img_array42)\n",
    "img_modified43 = Image.fromarray(img_array43)\n",
    "img_modified44 = Image.fromarray(img_array44)\n",
    "img_modified45 = Image.fromarray(img_array45)\n",
    "img_modified46 = Image.fromarray(img_array46)\n",
    "img_modified47 = Image.fromarray(img_array47)\n",
    "img_modified48 = Image.fromarray(img_array48)\n",
    "img_modified49 = Image.fromarray(img_array49)\n",
    "img_modified50 = Image.fromarray(img_array50)\n",
    "img_modified51 = Image.fromarray(img_array51)\n",
    "img_modified52 = Image.fromarray(img_array52)\n",
    "img_modified53 = Image.fromarray(img_array53)\n",
    "img_modified54 = Image.fromarray(img_array54)\n",
    "img_modified55 = Image.fromarray(img_array55)\n",
    "img_modified56 = Image.fromarray(img_array56)\n",
    "img_modified57 = Image.fromarray(img_array57)\n",
    "img_modified58 = Image.fromarray(img_array58)\n",
    "img_modified59 = Image.fromarray(img_array59)\n",
    "img_modified60 = Image.fromarray(img_array60)\n",
    "img_modified61 = Image.fromarray(img_array61)\n",
    "img_modified62 = Image.fromarray(img_array62)\n",
    "img_modified63 = Image.fromarray(img_array63)\n",
    "img_modified64 = Image.fromarray(img_array64)\n",
    "img_modified65 = Image.fromarray(img_array65)\n",
    "img_modified66 = Image.fromarray(img_array66)\n",
    "img_modified67 = Image.fromarray(img_array67)\n",
    "img_modified68 = Image.fromarray(img_array68)\n",
    "img_modified69 = Image.fromarray(img_array69)\n",
    "img_modified70 = Image.fromarray(img_array70)\n",
    "img_modified71 = Image.fromarray(img_array71)\n",
    "img_modified72 = Image.fromarray(img_array72)\n",
    "img_modified73 = Image.fromarray(img_array73)\n",
    "img_modified74 = Image.fromarray(img_array74)\n",
    "img_modified75 = Image.fromarray(img_array75)\n",
    "img_modified76 = Image.fromarray(img_array76)\n",
    "img_modified77 = Image.fromarray(img_array77)\n",
    "img_modified78 = Image.fromarray(img_array78)\n",
    "img_modified79 = Image.fromarray(img_array79)\n",
    "img_modified80 = Image.fromarray(img_array80)\n",
    "img_modified81 = Image.fromarray(img_array81)\n",
    "img_modified82 = Image.fromarray(img_array82)\n",
    "img_modified83 = Image.fromarray(img_array83)\n",
    "img_modified84 = Image.fromarray(img_array84)\n",
    "img_modified85 = Image.fromarray(img_array85)\n",
    "img_modified86 = Image.fromarray(img_array86)\n",
    "img_modified87 = Image.fromarray(img_array87)\n",
    "img_modified88 = Image.fromarray(img_array88)\n",
    "img_modified89 = Image.fromarray(img_array89)\n",
    "img_modified90 = Image.fromarray(img_array90)\n",
    "img_modified91 = Image.fromarray(img_array91)\n",
    "img_modified92 = Image.fromarray(img_array92)\n",
    "img_modified93 = Image.fromarray(img_array93)\n",
    "img_modified94 = Image.fromarray(img_array94)\n",
    "img_modified95 = Image.fromarray(img_array95)\n",
    "img_modified96 = Image.fromarray(img_array96)\n",
    "img_modified97 = Image.fromarray(img_array97)\n",
    "img_modified98 = Image.fromarray(img_array98)\n",
    "img_modified99 = Image.fromarray(img_array99)\n",
    "img_modified100 = Image.fromarray(img_array100)\n",
    "\n",
    "# Mostrar la imagen modificada\n",
    "#img_modified01.show()\n",
    "#img_modified02.show()\n",
    "#img_modified03.show()\n",
    "#img_modified04.show()\n",
    "#img_modified05.show()\n",
    "#img_modified06.show()\n",
    "#img_modified07.show()\n",
    "#img_modified08.show()\n",
    "#img_modified09.show()\n",
    "#img_modified10.show()\n",
    "#img_modified11.show()\n",
    "#img_modified12.show()\n",
    "#img_modified13.show()\n",
    "#img_modified14.show()\n",
    "#img_modified15.show()\n",
    "#img_modified16.show()\n",
    "#img_modified17.show()\n",
    "#img_modified18.show()\n",
    "#img_modified19.show()\n",
    "#img_modified20.show()\n",
    "# Si deseas guardar la imagen con la región modificada\n",
    "#img_modified.save(\"imagen_modificada.png\")\n",
    "\n",
    "\n",
    "# Sumar todos los valores de los píxeles\n",
    "total_sum01 = np.sum(img_modified01)\n",
    "total_sum02 = np.sum(img_modified02)\n",
    "total_sum03 = np.sum(img_modified03)\n",
    "total_sum04 = np.sum(img_modified04)\n",
    "total_sum05 = np.sum(img_modified05)\n",
    "total_sum06 = np.sum(img_modified06)\n",
    "total_sum07 = np.sum(img_modified07)\n",
    "total_sum08 = np.sum(img_modified08)\n",
    "total_sum09 = np.sum(img_modified09)\n",
    "total_sum10 = np.sum(img_modified10)\n",
    "total_sum11 = np.sum(img_modified11)\n",
    "total_sum12 = np.sum(img_modified12)\n",
    "total_sum13 = np.sum(img_modified13)\n",
    "total_sum14 = np.sum(img_modified14)\n",
    "total_sum15 = np.sum(img_modified15)\n",
    "total_sum16 = np.sum(img_modified16)\n",
    "total_sum17 = np.sum(img_modified17)\n",
    "total_sum18 = np.sum(img_modified18)\n",
    "total_sum19 = np.sum(img_modified19)\n",
    "total_sum20 = np.sum(img_modified20)\n",
    "total_sum21 = np.sum(img_modified21)\n",
    "total_sum22 = np.sum(img_modified22)\n",
    "total_sum23 = np.sum(img_modified23)\n",
    "total_sum24 = np.sum(img_modified24)\n",
    "total_sum25 = np.sum(img_modified25)\n",
    "total_sum26 = np.sum(img_modified26)\n",
    "total_sum27 = np.sum(img_modified27)\n",
    "total_sum28 = np.sum(img_modified28)\n",
    "total_sum29 = np.sum(img_modified29)\n",
    "total_sum30 = np.sum(img_modified30)\n",
    "total_sum31 = np.sum(img_modified31)\n",
    "total_sum32 = np.sum(img_modified32)\n",
    "total_sum33 = np.sum(img_modified33)\n",
    "total_sum34 = np.sum(img_modified34)\n",
    "total_sum35 = np.sum(img_modified35)\n",
    "total_sum36 = np.sum(img_modified36)\n",
    "total_sum37 = np.sum(img_modified37)\n",
    "total_sum38 = np.sum(img_modified38)\n",
    "total_sum39 = np.sum(img_modified39)\n",
    "total_sum40 = np.sum(img_modified40)\n",
    "total_sum41 = np.sum(img_modified41)\n",
    "total_sum42 = np.sum(img_modified42)\n",
    "total_sum43 = np.sum(img_modified43)\n",
    "total_sum44 = np.sum(img_modified44)\n",
    "total_sum45 = np.sum(img_modified45)\n",
    "total_sum46 = np.sum(img_modified46)\n",
    "total_sum47 = np.sum(img_modified47)\n",
    "total_sum48 = np.sum(img_modified48)\n",
    "total_sum49 = np.sum(img_modified49)\n",
    "total_sum50 = np.sum(img_modified50)\n",
    "total_sum51 = np.sum(img_modified51)\n",
    "total_sum52 = np.sum(img_modified52)\n",
    "total_sum53 = np.sum(img_modified53)\n",
    "total_sum54 = np.sum(img_modified54)\n",
    "total_sum55 = np.sum(img_modified55)\n",
    "total_sum56 = np.sum(img_modified56)\n",
    "total_sum57 = np.sum(img_modified57)\n",
    "total_sum58 = np.sum(img_modified58)\n",
    "total_sum59 = np.sum(img_modified59)\n",
    "total_sum60 = np.sum(img_modified60)\n",
    "total_sum61 = np.sum(img_modified61)\n",
    "total_sum62 = np.sum(img_modified62)\n",
    "total_sum63 = np.sum(img_modified63)\n",
    "total_sum64 = np.sum(img_modified64)\n",
    "total_sum65 = np.sum(img_modified65)\n",
    "total_sum66 = np.sum(img_modified66)\n",
    "total_sum67 = np.sum(img_modified67)\n",
    "total_sum68 = np.sum(img_modified68)\n",
    "total_sum69 = np.sum(img_modified69)\n",
    "total_sum70 = np.sum(img_modified70)\n",
    "total_sum71 = np.sum(img_modified71)\n",
    "total_sum72 = np.sum(img_modified72)\n",
    "total_sum73 = np.sum(img_modified73)\n",
    "total_sum74 = np.sum(img_modified74)\n",
    "total_sum75 = np.sum(img_modified75)\n",
    "total_sum76 = np.sum(img_modified76)\n",
    "total_sum77 = np.sum(img_modified77)\n",
    "total_sum78 = np.sum(img_modified78)\n",
    "total_sum79 = np.sum(img_modified79)\n",
    "total_sum80 = np.sum(img_modified80)\n",
    "total_sum81 = np.sum(img_modified81)\n",
    "total_sum82 = np.sum(img_modified82)\n",
    "total_sum83 = np.sum(img_modified83)\n",
    "total_sum84 = np.sum(img_modified84)\n",
    "total_sum85 = np.sum(img_modified85)\n",
    "total_sum86 = np.sum(img_modified86)\n",
    "total_sum87 = np.sum(img_modified87)\n",
    "total_sum88 = np.sum(img_modified88)\n",
    "total_sum89 = np.sum(img_modified89)\n",
    "total_sum90 = np.sum(img_modified90)\n",
    "total_sum91 = np.sum(img_modified91)\n",
    "total_sum92 = np.sum(img_modified92)\n",
    "total_sum93 = np.sum(img_modified93)\n",
    "total_sum94 = np.sum(img_modified94)\n",
    "total_sum95 = np.sum(img_modified95)\n",
    "total_sum96 = np.sum(img_modified96)\n",
    "total_sum97 = np.sum(img_modified97)\n",
    "total_sum98 = np.sum(img_modified98)\n",
    "total_sum99 = np.sum(img_modified99)\n",
    "total_sum100 = np.sum(img_modified100)\n"
   ]
  },
  {
   "cell_type": "code",
   "execution_count": 35,
   "id": "94003aa0-2702-437d-b15f-30fa0acaf81e",
   "metadata": {},
   "outputs": [],
   "source": [
    "sums = [\n",
    "    np.sum(img_modified01), np.sum(img_modified02), np.sum(img_modified03),\n",
    "    np.sum(img_modified04), np.sum(img_modified05), np.sum(img_modified06),\n",
    "    np.sum(img_modified07), np.sum(img_modified08), np.sum(img_modified09),\n",
    "    np.sum(img_modified10), np.sum(img_modified11), np.sum(img_modified12),\n",
    "    np.sum(img_modified13), np.sum(img_modified14), np.sum(img_modified15),\n",
    "    np.sum(img_modified16), np.sum(img_modified17), np.sum(img_modified18),\n",
    "    np.sum(img_modified19), np.sum(img_modified20), np.sum(img_modified21),\n",
    "    np.sum(img_modified22), np.sum(img_modified23), np.sum(img_modified24),\n",
    "    np.sum(img_modified25), np.sum(img_modified26), np.sum(img_modified27),\n",
    "    np.sum(img_modified28), np.sum(img_modified29), np.sum(img_modified30),\n",
    "    np.sum(img_modified31), np.sum(img_modified32), np.sum(img_modified33),\n",
    "    np.sum(img_modified34), np.sum(img_modified35), np.sum(img_modified36),\n",
    "    np.sum(img_modified37), np.sum(img_modified38), np.sum(img_modified39),\n",
    "    np.sum(img_modified40), np.sum(img_modified41), np.sum(img_modified42),\n",
    "    np.sum(img_modified43), np.sum(img_modified44), np.sum(img_modified45),\n",
    "    np.sum(img_modified46), np.sum(img_modified47), np.sum(img_modified48),\n",
    "    np.sum(img_modified49), np.sum(img_modified50), np.sum(img_modified51),\n",
    "    np.sum(img_modified52), np.sum(img_modified53), np.sum(img_modified54),\n",
    "    np.sum(img_modified55), np.sum(img_modified56), np.sum(img_modified57),\n",
    "    np.sum(img_modified58), np.sum(img_modified59), np.sum(img_modified60),\n",
    "    np.sum(img_modified61),\n",
    "    np.sum(img_modified62), np.sum(img_modified63), np.sum(img_modified64),\n",
    "    np.sum(img_modified65), np.sum(img_modified66), np.sum(img_modified67),\n",
    "    np.sum(img_modified68), np.sum(img_modified69), np.sum(img_modified70),\n",
    "    np.sum(img_modified71), np.sum(img_modified72), np.sum(img_modified73),\n",
    "    np.sum(img_modified74), np.sum(img_modified75), np.sum(img_modified76),\n",
    "    np.sum(img_modified77), np.sum(img_modified78), np.sum(img_modified79),\n",
    "    np.sum(img_modified80), np.sum(img_modified81), np.sum(img_modified82),\n",
    "    np.sum(img_modified83), np.sum(img_modified84), np.sum(img_modified85),\n",
    "    np.sum(img_modified86), np.sum(img_modified87), np.sum(img_modified88),\n",
    "    np.sum(img_modified89), np.sum(img_modified90), np.sum(img_modified91),\n",
    "    np.sum(img_modified92), np.sum(img_modified93), np.sum(img_modified94),\n",
    "    np.sum(img_modified95), np.sum(img_modified96), np.sum(img_modified97),\n",
    "    np.sum(img_modified98), np.sum(img_modified99), np.sum(img_modified100)\n",
    "]\n",
    "\n",
    "#img_modified01.show()\n",
    "\n"
   ]
  },
  {
   "cell_type": "code",
   "execution_count": 36,
   "id": "cc63e87b-cec1-48da-889b-494ed58d877a",
   "metadata": {},
   "outputs": [
    {
     "name": "stdout",
     "output_type": "stream",
     "text": [
      "104869590\n"
     ]
    }
   ],
   "source": [
    "maxs = np.max(sums)\n",
    "print (maxs)\n",
    "\n"
   ]
  },
  {
   "cell_type": "code",
   "execution_count": 37,
   "id": "733db3b8-e094-4b62-a133-61fe952f8a9c",
   "metadata": {},
   "outputs": [],
   "source": [
    "data = []\n",
    "xx = []\n",
    "\n",
    "for i in range (0,100):\n",
    "    dato = sums[i]/maxs\n",
    "    data.append(dato)\n",
    "    datox = x[i]*5.2e-6\n",
    "    xx.append(datox)\n"
   ]
  },
  {
   "cell_type": "code",
   "execution_count": 39,
   "id": "1b5614a3-aeab-470a-ac0a-c4d6fda059aa",
   "metadata": {},
   "outputs": [
    {
     "data": {
      "image/png": "[encoded data removed]",
      "text/plain": [
       "<Figure size 640x480 with 1 Axes>"
      ]
     },
     "metadata": {},
     "output_type": "display_data"
    }
   ],
   "source": [
    "fig, ax = plt.subplots()\n",
    "ax.plot(xx, data, marker='*', linestyle='', color='#C70039', label='Datos')\n",
    "\n",
    "# Agregar etiquetas y título\n",
    "ax.set_title('Datos para prueba navaja')\n",
    "ax.set_xlabel('Fotografías Z [m]')\n",
    "ax.set_ylabel('Intensidad [u.a]')\n",
    "ax.legend()\n",
    "\n",
    "# Mostrar la gráfica\n",
    "plt.show()"
   ]
  },
  {
   "cell_type": "code",
   "execution_count": 44,
   "id": "83f0c592-2bd3-4bf0-8305-574b05adfa38",
   "metadata": {},
   "outputs": [
    {
     "data": {
      "image/png": "[encoded data removed]",
      "text/plain": [
       "<Figure size 640x480 with 1 Axes>"
      ]
     },
     "metadata": {},
     "output_type": "display_data"
    }
   ],
   "source": [
    "x = xx[0:80]\n",
    "d=data[0:80]\n",
    "fig, ax = plt.subplots()\n",
    "ax.plot(x, d, marker='*', linestyle='', color='#C70039', label='Datos')\n",
    "\n",
    "# Agregar etiquetas y título\n",
    "ax.set_title('Datos para prueba navaja')\n",
    "ax.set_xlabel('Fotografías Z [m]')\n",
    "ax.set_ylabel('Intensidad [u.a]')\n",
    "ax.legend()\n",
    "# Mostrar la gráfic2\n",
    "plt.show()"
   ]
  },
  {
   "cell_type": "code",
   "execution_count": 46,
   "id": "bfd800d4-a227-47d8-8b70-0e300f449bd5",
   "metadata": {},
   "outputs": [
    {
     "name": "stdout",
     "output_type": "stream",
     "text": [
      "Valores ajustados:\n",
      "A = 0.5337341139383629\n",
      "mu = 0.003213928337732258\n",
      "sigma = 0.0018880039292463494\n",
      "C = 0.4963278790116349\n"
     ]
    },
    {
     "data": {
      "image/png": "[encoded data removed]",
      "text/plain": [
       "<Figure size 640x480 with 1 Axes>"
      ]
     },
     "metadata": {},
     "output_type": "display_data"
    }
   ],
   "source": [
    "\n",
    "# Definir la función de error\n",
    "def error_function(x, A, mu, sigma, C):\n",
    "    return A*(erf((x - mu) / (sigma * np.sqrt(2))) )+ C\n",
    "\n",
    "# Datos de ejemplo (usa tus datos 'data' y 'xx')\n",
    "# xx es el eje X, y data es el eje Y\n",
    "\n",
    "x = np.array(x)  # Asegúrate de reemplazar 'xx' por tus datos reales\n",
    "d = np.array(d)  # Asegúrate de reemplazar 'data' por tus datos reales\n",
    "\n",
    "# Realizar el ajuste utilizando curve_fit\n",
    "popt, pcov = optimize.curve_fit(error_function, x, d, p0=[1, 0, 1, 0])\n",
    "\n",
    "# popt contiene los parámetros ajustados: A, mu, sigma, C\n",
    "A, mu, sigma, C = popt\n",
    "\n",
    "# Imprimir los valores ajustados\n",
    "print(\"Valores ajustados:\")\n",
    "print(f\"A = {A}\")\n",
    "print(f\"mu = {mu}\")\n",
    "print(f\"sigma = {sigma}\")\n",
    "print(f\"C = {C}\")\n",
    "\n",
    "# Crear la función ajustada con los parámetros obtenidos\n",
    "fitted_d = error_function(x, *popt)\n",
    "\n",
    "# Graficar los datos y la función ajustada\n",
    "fig, ax = plt.subplots()\n",
    "ax.plot(x, d, marker='*', linestyle='', color='#C70039', label='Datos')\n",
    "ax.plot(x, fitted_d, color='blue', label='Función de distribución ajustada')\n",
    "\n",
    "# Agregar etiquetas y título\n",
    "ax.set_title('Ajuste con función de distribución')\n",
    "ax.set_xlabel('Fotografías Z [m]')\n",
    "ax.set_ylabel('Intensidad [u.a]')\n",
    "ax.legend()\n",
    "#plt.savefig('20250303_ajuste_cinturadehaz_780nm.png', dpi=300) \n",
    "# Mostrar la gráfica\n",
    "plt.show()\n"
   ]
  },
  {
   "cell_type": "code",
   "execution_count": 48,
   "id": "d1badd10-bdc9-4607-ba04-d56e7f1da0aa",
   "metadata": {},
   "outputs": [
    {
     "name": "stdout",
     "output_type": "stream",
     "text": [
      "El FWHM (ancho de media altura) es: 0.0044000763779847496\n"
     ]
    },
    {
     "data": {
      "image/png": "[encoded data removed]",
      "text/plain": [
       "<Figure size 640x480 with 1 Axes>"
      ]
     },
     "metadata": {},
     "output_type": "display_data"
    }
   ],
   "source": [
    "\n",
    "# Definir la función Gaussiana\n",
    "def gaussian(x, A, mu, sigma, C):\n",
    "    return A * np.exp(-(x - mu)**2 / (2 * sigma**2)) + C\n",
    "\n",
    "# Parámetros de la función Gaussiana\n",
    "A = 0.5305618975641037\n",
    "mu = 0.003211734474891671\n",
    "sigma = 0.0018685403953773968\n",
    "C = 0.4960514092902803\n",
    "\n",
    "# Calcular el FWHM\n",
    "FWHM = 2 * np.sqrt(2 * np.log(2)) * sigma\n",
    "print(f\"El FWHM (ancho de media altura) es: {FWHM}\")\n",
    "\n",
    "# Rango de valores de x\n",
    "x = np.linspace(-.005, .01, 1000)\n",
    "\n",
    "# Calcular los valores de la función Gaussiana\n",
    "y = gaussian(x, A, mu, sigma, C)\n",
    "\n",
    "# Graficar la función\n",
    "plt.plot(x, y)\n",
    "plt.title('Función Gaussiana')\n",
    "plt.xlabel('x')\n",
    "plt.ylabel('f(x)')\n",
    "plt.axvline(mu - FWHM/2, color='r', linestyle='--', label='FWHM')\n",
    "plt.axvline(mu + FWHM/2, color='r', linestyle='--')\n",
    "plt.legend()\n",
    "plt.savefig('20250303_ajuste_cinturadehaz_780nm_gauss.png', dpi=300) \n",
    "plt.grid(True)\n",
    "plt.show()\n"
   ]
  },
  {
   "cell_type": "code",
   "execution_count": null,
   "id": "b130ab7e-7bdc-4646-a08c-1890fd359b30",
   "metadata": {},
   "outputs": [],
   "source": []
  },
  {
   "cell_type": "code",
   "execution_count": null,
   "id": "474455f9-be21-42e9-bf4f-0bfe9ed4fdbd",
   "metadata": {},
   "outputs": [],
   "source": []
  },
  {
   "cell_type": "markdown",
   "id": "d1b7f028-092b-4bd6-999a-8c6c87946fec",
   "metadata": {},
   "source": [
    "### Prueba de la navaja para 780 nm "
   ]
  },
  {
   "cell_type": "code",
   "execution_count": 38,
   "id": "bbab3786-6621-49f0-995b-91632b8ac8e1",
   "metadata": {},
   "outputs": [],
   "source": [
    "\n",
    "sigma780 = [0.0012735057985913427,0.0012807916961904047,0.0013031784760272843,0.0013127869548551350,0.0013536847193061359,\n",
    "           0.0013822663122660323,0.0013844154307162098,0.0013742620976340272,0.0013855993422455133,0.001411615848661991,\n",
    "           0.001427337501912481 ,0.0014350626970944383,0.001468660951990149 ,0.0014797816002604998,0.0014963243254360202,\n",
    "           0.0014943167047040786,0.0015270437481227793,0.0015554358715051497,0.0015614115409603386,0.0015892453116651789,\n",
    "           0.0016077215227569004,0.001626621324423246, 0.001652031329444404 ,0.0016766211879972281,0.0016911691641866315,\n",
    "           0.001709416244137683, 0.0017361121154628614,0.0017600437075193957,0.001801189653500555, 0.0018179242881554208,\n",
    "           0.0018316562927606398,0.0019244790208420486,0.0018393086020746879,0.0018800341742815224,0.001875228138704748,\n",
    "           0.0019122034293354584]\n",
    "\n",
    "Foto = [.0,.01,.02,.03,.04,.05,.06,.07,.08,.09,.1,.11,.12,.13,.14,.15,.16,.17,.18,.19,.2,.21,.22,.23,.24,.25,.26,.27,.28,.29,.3,.31,.32,.33,.34,.35 ]\n",
    "\n"
   ]
  },
  {
   "cell_type": "code",
   "execution_count": 63,
   "id": "a56b3643-5015-409f-a617-7a6a3a709070",
   "metadata": {},
   "outputs": [],
   "source": [
    "z= []\n",
    "for i in Foto:\n",
    "    z.append((i)*2)\n",
    "    \n",
    "sigma2 =[]\n",
    "for i in sigma780:\n",
    "    sigma2.append(i*sqrt(2))"
   ]
  },
  {
   "cell_type": "code",
   "execution_count": 42,
   "id": "b3ca41c8-c2f5-4aaf-b3f2-70d8ce60abd7",
   "metadata": {},
   "outputs": [
    {
     "name": "stdout",
     "output_type": "stream",
     "text": [
      "El valor ajustado de w es: 0.002232215282229671\n"
     ]
    },
    {
     "data": {
      "image/png": "[encoded data removed]",
      "text/plain": [
       "<Figure size 800x600 with 1 Axes>"
      ]
     },
     "metadata": {},
     "output_type": "display_data"
    }
   ],
   "source": [
    "# Datos experimentales\n",
    "y_data = np.array(sigma2)\n",
    "\n",
    "# Valores de x proporcionados\n",
    "x_data = np.array(z)\n",
    "\n",
    "# Función para el ajuste\n",
    "def model(x, w):\n",
    "    return w * np.sqrt(1 + ((x * 780e-9) / (np.pi * w**2))**2)\n",
    "\n",
    "# Ajuste de los datos a la función\n",
    "params, covariance = opt.curve_fit(model, x_data, y_data, p0=[0.1])  # p0 es el valor inicial para w\n",
    "\n",
    "# El valor estimado de w\n",
    "w_fit = params[0]\n",
    "print(f\"El valor ajustado de w es: {w_fit}\")\n",
    "\n",
    "# Graficar los resultados\n",
    "plt.figure(figsize=(8, 6))\n",
    "plt.plot(x_data, y_data, 'bo', label='Sigma2')\n",
    "plt.plot(x_data, model(x_data, w_fit), 'r-', label=f'Cintura de ajuste: w = {w_fit:.6f} m')\n",
    "plt.title('Cintura 780 con sigma2')\n",
    "plt.xlabel('z [m]')\n",
    "plt.ylabel('Sigma')\n",
    "plt.legend()\n",
    "plt.grid(True)\n",
    "\n",
    "my_file = '20250306_cinturadehaz_780nm.png'\n",
    "plt.savefig(os.path.join(general_path_figure, my_file))\n",
    "plt.show() "
   ]
  },
  {
   "cell_type": "code",
   "execution_count": null,
   "id": "1be7098c-5aab-44f4-8d25-d006d8d3df8e",
   "metadata": {},
   "outputs": [],
   "source": []
  },
  {
   "cell_type": "code",
   "execution_count": null,
   "id": "a2e0e1b2-9899-4029-abac-59cdf3a59d6d",
   "metadata": {},
   "outputs": [],
   "source": []
  },
  {
   "cell_type": "code",
   "execution_count": null,
   "id": "f8102960-6623-4790-ac01-3d7d90a8b639",
   "metadata": {},
   "outputs": [],
   "source": []
  },
  {
   "cell_type": "code",
   "execution_count": null,
   "id": "b6495303-fcd7-4d2f-92b7-a73fc42d3084",
   "metadata": {},
   "outputs": [],
   "source": []
  },
  {
   "cell_type": "code",
   "execution_count": null,
   "id": "491a3890-1300-4e31-8970-31059ecbdfcb",
   "metadata": {},
   "outputs": [],
   "source": []
  },
  {
   "cell_type": "code",
   "execution_count": null,
   "id": "9e0c8b0c-9b67-4e85-83f9-4a5047973b62",
   "metadata": {},
   "outputs": [],
   "source": []
  },
  {
   "cell_type": "code",
   "execution_count": null,
   "id": "5406d742-0385-4e45-ab7e-4f4b81b6d7c5",
   "metadata": {},
   "outputs": [],
   "source": []
  },
  {
   "cell_type": "code",
   "execution_count": null,
   "id": "f8dd0d4b-399a-40b0-b196-951895940467",
   "metadata": {},
   "outputs": [],
   "source": []
  },
  {
   "cell_type": "markdown",
   "id": "412a4718-ffe8-4756-a3e2-b2019154c521",
   "metadata": {},
   "source": [
    "### Prueba de la navaja para 420 nm\n"
   ]
  },
  {
   "cell_type": "code",
   "execution_count": null,
   "id": "496f4b02-3e86-4cd3-b8ff-ce4b000dad59",
   "metadata": {},
   "outputs": [],
   "source": []
  },
  {
   "cell_type": "code",
   "execution_count": 50,
   "id": "4a204aaa-186d-4785-9383-fdbd14c69d97",
   "metadata": {},
   "outputs": [],
   "source": [
    "\n",
    "sigma = [0.0007486952602189078, 0.000730464822173449, 0.0007246104498644426, 0.0006629711148042462, 0.0006655722008879132, 0.0006655722008879132,\n",
    "         0.0007072873419620904, 0.0007151526526470093, 0.0007210497268602303,0.0007375920816797947, 0.0007291597417682413, 0.0007221592070404426,\n",
    "         0.0007238569545306884, 0.0007318568584532381, 0.000690432836139244, 0.0007414556212649314, 0.0007405415239818407, 0.0007154031212709161,\n",
    "         0.0007214618982338538, 0.0007335207619842608, 0.0007563321344697074,0.0007661230183700739, 0.0007661230183700739, 0.0007786539190356817,\n",
    "         0.0007441741990971422, 0.0007679172634879854, 0.0007746548493673499,0.0007872016120639416,  0.0008040614146339107, 0.0007700455543788288,\n",
    "         0.0007701555425963004, 0.0007402786486659559, 0.0007421751465327234, 0.0007716423308021845, 0.0007690108924349985, 0.0007684226146655358,\n",
    "         0.0007742756530578324, 0.0007820397247844148, 0.0008009174549346301, 0.0008269823114200204, 0.0008392836461047004, 0.0008052911731414456,\n",
    "         0.000799995911414937]\n",
    "Foto  = [0,.01,.02,.03,.04,.05,.06,.07,.08,.09,.10,.11,.12,.13,.14,.15,.16,.17,.18,.19,.20,.21,.22,.23,.24,.25,.26,.27,.28,.29,.30,.31,.32,.33,.34,.35,.36,.37,.38,.39,.40,.41,.42]\n"
   ]
  },
  {
   "cell_type": "code",
   "execution_count": 52,
   "id": "46c3e964-d972-49c1-9bca-925c7af51111",
   "metadata": {},
   "outputs": [],
   "source": [
    "\n",
    "z= []\n",
    "for i in Foto:\n",
    "    z.append((i+.18)*2)\n",
    "    \n",
    "sigma2 =[]\n",
    "for i in sigma:\n",
    "    sigma2.append(i*sqrt(2))"
   ]
  },
  {
   "cell_type": "code",
   "execution_count": 54,
   "id": "e49aa960-5af2-4691-9347-245b063f32c1",
   "metadata": {},
   "outputs": [
    {
     "name": "stdout",
     "output_type": "stream",
     "text": [
      "El valor ajustado de w es: 0.0010546994288081494\n"
     ]
    },
    {
     "data": {
      "image/png": "[encoded data removed]",
      "text/plain": [
       "<Figure size 800x600 with 1 Axes>"
      ]
     },
     "metadata": {},
     "output_type": "display_data"
    }
   ],
   "source": [
    "\n",
    "# Datos experimentales\n",
    "y_data = np.array(sigma2)\n",
    "\n",
    "# Valores de x proporcionados\n",
    "x_data = np.array(z)\n",
    "\n",
    "# Función para el ajuste\n",
    "def model(x, w):\n",
    "    return w * np.sqrt(1 + ((x * 420e-9) / (np.pi * w**2))**2)\n",
    "\n",
    "# Ajuste de los datos a la función\n",
    "params, covariance = opt.curve_fit(model, x_data, y_data, p0=[0.1])  # p0 es el valor inicial para w\n",
    "\n",
    "# El valor estimado de w\n",
    "w_fit = params[0]\n",
    "print(f\"El valor ajustado de w es: {w_fit}\")\n",
    "\n",
    "# Graficar los resultados\n",
    "plt.figure(figsize=(8, 6))\n",
    "plt.plot(x_data, y_data, 'bo', label='Sigma2')\n",
    "plt.plot(x_data, model(x_data, w_fit), 'r-', label=f'Cintura de ajuste: w = {w_fit:.6f} m')\n",
    "plt.title('Cintura 420 con sigma2')\n",
    "plt.xlabel('z [m]')\n",
    "plt.ylabel('Sigma')\n",
    "plt.legend()\n",
    "plt.grid(True)\n",
    "my_file = '20250306_cinturadehaz_420nm.png'\n",
    "plt.savefig(os.path.join(general_path_figure, my_file))\n",
    "plt.show() "
   ]
  },
  {
   "cell_type": "code",
   "execution_count": null,
   "id": "cd9ee91d-3d5e-4ac3-82a9-7a6eac13c6f2",
   "metadata": {},
   "outputs": [],
   "source": []
  },
  {
   "cell_type": "code",
   "execution_count": null,
   "id": "00a22cd1-6aa7-442a-b896-8f75e7698f04",
   "metadata": {},
   "outputs": [],
   "source": []
  },
  {
   "cell_type": "code",
   "execution_count": null,
   "id": "a6f3198f-49ea-457e-8a36-c82c84082ff9",
   "metadata": {},
   "outputs": [],
   "source": []
  },
  {
   "cell_type": "code",
   "execution_count": null,
   "id": "d9f62983-b337-4957-be81-8cbfccf3542d",
   "metadata": {},
   "outputs": [],
   "source": []
  },
  {
   "cell_type": "code",
   "execution_count": null,
   "id": "3697a3e2-0842-4bf0-a831-589872d4f181",
   "metadata": {},
   "outputs": [],
   "source": []
  },
  {
   "cell_type": "code",
   "execution_count": null,
   "id": "c2be774c-a14e-43c5-b319-1e40eeecad8c",
   "metadata": {},
   "outputs": [],
   "source": []
  },
  {
   "cell_type": "code",
   "execution_count": null,
   "id": "b15f4ae9-7177-45c7-9480-27858710dbf1",
   "metadata": {},
   "outputs": [],
   "source": []
  },
  {
   "cell_type": "code",
   "execution_count": null,
   "id": "d150bc09-c227-4732-bf1a-b94de10955d0",
   "metadata": {},
   "outputs": [],
   "source": []
  },
  {
   "cell_type": "code",
   "execution_count": null,
   "id": "22188bb5-4c4f-443b-89c4-a82b7ac8cd28",
   "metadata": {},
   "outputs": [],
   "source": []
  },
  {
   "cell_type": "markdown",
   "id": "5f0f77f4-010a-44d4-af9e-8c66b407e103",
   "metadata": {},
   "source": [
    "### Prueba Navaja para 776"
   ]
  },
  {
   "cell_type": "code",
   "execution_count": 73,
   "id": "1944856f-3598-44c3-b19c-716d74be992b",
   "metadata": {},
   "outputs": [],
   "source": [
    "sigma776 = [0.0012558599502026228, 0.0012672250926906775, 0.0012801065332693523, 0.0012788924110111028, 0.001349824362058813, 0.0012810779883635926,\n",
    "         0.001296030192561295,  0.0012992484911214682, 0.0013093394851594233, 0.001375697859723459 , 0.001404324676475126, 0.0013876175532368611,\n",
    "         0.0013732413014804483, 0.0013683702098503227, 0.0013438995383267904, 0.001365755685806098 , 0.0012690319543492568, 0.001402385163676057,\n",
    "         0.0014924987970961062, 0.001487304787641388 , 0.0015242105505718047, 0.0015733540845337135, 0.0016258593069295058, 0.0016705061180275755,\n",
    "         0.0017168720516372556, 0.0016400658409807913, 0.0016905660507142576, 0.0017301268575808052, 0.0017282097918114479, 0.001668271633311221,\n",
    "         0.0016876130640714779, 0.0018331054997946668, 0.0018137174256452528, 0.0018476730227583935, 0.001929565966808161, 0.001787736871287331 ]"
   ]
  },
  {
   "cell_type": "code",
   "execution_count": 75,
   "id": "c07b010c-0644-4f74-80ee-1603836f5ea0",
   "metadata": {},
   "outputs": [],
   "source": [
    "fwhm = [0.0034468869215765687, 0.00344365343722154 ,  0.0035040637832791724, 0.00364713345380479 ,  0.0037575069186675863, 0.0037575069186675863, \n",
    "         0.0033901261945473845,0.0033508903092345694, 0.0033809861986152717, 0.0034227074444906115, 0.0033903959647057454, 0.003352146566903315,\n",
    "       0.004199127117752056,  0.0036545086011180263  ,0.003351996012415068,  0.003473108425720457,  0.003530272678222077,  0.0035127637607322076,\n",
    "        0.0035025160334331514, 0.0034970232795602024, 0.0034422636637814817, 0.0034511330236073846, 0.0034465758079744438, 0.003456308958721992,\n",
    "       0.0034283282355372217,0.0034448777026557377, 0.0034441899615187833,  0.0034502522752329575, 0.0033829272064510017,  0.003635605221337907,\n",
    "        0.003579586685520145]\n",
    "\n",
    "sigma = [0.0012558599502026228, 0.0012672250926906775, 0.0012801065332693523, 0.0012788924110111028, 0.001349824362058813, 0.0012810779883635926,\n",
    "         0.001296030192561295,  0.0012992484911214682, 0.0013093394851594233, 0.001375697859723459 , 0.001404324676475126, 0.0013876175532368611,\n",
    "         0.0013732413014804483, 0.0013683702098503227, 0.0013438995383267904, 0.001365755685806098 , 0.0012690319543492568, 0.001402385163676057,\n",
    "         0.0014924987970961062, 0.001487304787641388 , 0.0015242105505718047, 0.0015733540845337135, 0.0016258593069295058, 0.0016705061180275755,\n",
    "         0.0017168720516372556, 0.0016400658409807913, 0.0016905660507142576, 0.0017301268575808052, 0.0017282097918114479, 0.001668271633311221,\n",
    "         0.0016876130640714779, 0.0018331054997946668, 0.0018137174256452528, 0.0018476730227583935, 0.001929565966808161, 0.001787736871287331 ]\n",
    "\n",
    "Foto = [.0, .01, 0.2,.03,.04,.05,.06,.07,.08,.09,.1,.11,.12,.13,.14,.15,.16,.17,.18,.19,.2,.21,.22,.23,.24,.25,.26,.27,.28,.29,.3,.31,.32,.33,.34,.35]\n"
   ]
  },
  {
   "cell_type": "code",
   "execution_count": 77,
   "id": "25bf2f5d-003c-41f7-bd73-966865389299",
   "metadata": {},
   "outputs": [
    {
     "data": {
      "text/plain": [
       "36"
      ]
     },
     "execution_count": 77,
     "metadata": {},
     "output_type": "execute_result"
    }
   ],
   "source": [
    "z= []\n",
    "for i in Foto:\n",
    "    z.append((i)*2)\n",
    "    \n",
    "sigma2 =[]\n",
    "for i in sigma:\n",
    "    sigma2.append(i*sqrt(2))\n",
    "len(sigma2)"
   ]
  },
  {
   "cell_type": "code",
   "execution_count": 79,
   "id": "fc25aa41-418e-488e-a2e5-79783ed34367",
   "metadata": {},
   "outputs": [
    {
     "name": "stdout",
     "output_type": "stream",
     "text": [
      "El valor ajustado de w es: 0.0021345634884984994\n"
     ]
    },
    {
     "data": {
      "image/png": "[encoded data removed]",
      "text/plain": [
       "<Figure size 800x600 with 1 Axes>"
      ]
     },
     "metadata": {},
     "output_type": "display_data"
    }
   ],
   "source": [
    "# Datos experimentales\n",
    "y_data = np.array(sigma2)\n",
    "\n",
    "# Valores de x proporcionados\n",
    "x_data = np.array(z)\n",
    "\n",
    "# Función para el ajuste\n",
    "def model(x, w):\n",
    "    return w * np.sqrt(1 + ((x * 776e-9) / (np.pi * w**2))**2)\n",
    "\n",
    "# Ajuste de los datos a la función\n",
    "params, covariance = opt.curve_fit(model, x_data, y_data, p0=[0.1])  # p0 es el valor inicial para w\n",
    "\n",
    "# El valor estimado de w\n",
    "w_fit = params[0]\n",
    "print(f\"El valor ajustado de w es: {w_fit}\")\n",
    "\n",
    "# Graficar los resultados\n",
    "plt.figure(figsize=(8, 6))\n",
    "plt.plot(x_data, y_data, 'bo', label='Sigma2')\n",
    "plt.plot(x_data, model(x_data, w_fit), 'r-', label=f'Cintura de ajuste: w = {w_fit:.6f} m')\n",
    "plt.title('Cintura 776 con sigma2')\n",
    "plt.xlabel('z [m]')\n",
    "plt.ylabel('Sigma')\n",
    "plt.legend()\n",
    "plt.grid(True)\n",
    "my_file = '20250306_cinturadehaz_776nm.png'\n",
    "plt.savefig(os.path.join(general_path_figure, my_file))\n",
    "plt.show() "
   ]
  },
  {
   "cell_type": "code",
   "execution_count": null,
   "id": "ab472190-3d8f-498e-b166-f23fadf28ce2",
   "metadata": {},
   "outputs": [],
   "source": []
  },
  {
   "cell_type": "code",
   "execution_count": null,
   "id": "44b058f7-673d-420c-867e-0f82e7119d6c",
   "metadata": {},
   "outputs": [],
   "source": []
  },
  {
   "cell_type": "code",
   "execution_count": null,
   "id": "d7aa9218-3087-4d7d-815b-af216fbecf16",
   "metadata": {},
   "outputs": [],
   "source": []
  },
  {
   "cell_type": "code",
   "execution_count": null,
   "id": "250bbd06-cc57-4d49-8dec-dc33234452c6",
   "metadata": {},
   "outputs": [],
   "source": []
  },
  {
   "cell_type": "code",
   "execution_count": null,
   "id": "37e551df-43dc-4670-a592-f7a7891297ab",
   "metadata": {},
   "outputs": [],
   "source": []
  },
  {
   "cell_type": "code",
   "execution_count": null,
   "id": "0198912a-c9b5-4687-ae83-38f9ed219b7e",
   "metadata": {},
   "outputs": [],
   "source": []
  },
  {
   "cell_type": "code",
   "execution_count": null,
   "id": "e0093b6f-2467-46c4-ba60-45612b162895",
   "metadata": {},
   "outputs": [],
   "source": []
  },
  {
   "cell_type": "code",
   "execution_count": null,
   "id": "67e5477c-ccc5-4489-b63a-40af6a2bcc2b",
   "metadata": {},
   "outputs": [],
   "source": []
  },
  {
   "cell_type": "code",
   "execution_count": null,
   "id": "934d53e7-7a90-47bb-9ec1-8122a4b554ca",
   "metadata": {},
   "outputs": [],
   "source": []
  },
  {
   "cell_type": "code",
   "execution_count": null,
   "id": "d0e526bb-486f-4c1f-b5a9-0f127af20319",
   "metadata": {},
   "outputs": [],
   "source": []
  },
  {
   "cell_type": "code",
   "execution_count": null,
   "id": "a0a4e4eb-231f-4f31-b8d9-bc5b8a9cbd53",
   "metadata": {},
   "outputs": [],
   "source": []
  },
  {
   "cell_type": "code",
   "execution_count": null,
   "id": "bcca30ee-fb20-45a8-8873-d3634fcda0e8",
   "metadata": {},
   "outputs": [],
   "source": []
  },
  {
   "cell_type": "code",
   "execution_count": null,
   "id": "70bfc5ab-4248-40f8-bdf8-68f6cb4fcc88",
   "metadata": {},
   "outputs": [],
   "source": []
  },
  {
   "cell_type": "code",
   "execution_count": null,
   "id": "1e9863c5-58d0-4638-8d65-29b92c298de1",
   "metadata": {},
   "outputs": [],
   "source": []
  },
  {
   "cell_type": "code",
   "execution_count": null,
   "id": "cce2f9fd-d8b8-4864-bdec-dcabbfcf6387",
   "metadata": {},
   "outputs": [],
   "source": []
  },
  {
   "cell_type": "code",
   "execution_count": null,
   "id": "7a61c424-21d6-453d-a66b-3b4d3cb23042",
   "metadata": {},
   "outputs": [],
   "source": []
  },
  {
   "cell_type": "code",
   "execution_count": null,
   "id": "1e25d48f-e574-4d04-9c2b-32f3cabcb542",
   "metadata": {},
   "outputs": [],
   "source": []
  },
  {
   "cell_type": "code",
   "execution_count": 53,
   "id": "249f4d05-117b-4aba-8cd7-7a4588bff47b",
   "metadata": {},
   "outputs": [
    {
     "ename": "TypeError",
     "evalue": "Length of x (1000) must match number of columns in z (1280)",
     "output_type": "error",
     "traceback": [
      "\u001b[1;31m---------------------------------------------------------------------------\u001b[0m",
      "\u001b[1;31mTypeError\u001b[0m                                 Traceback (most recent call last)",
      "Cell \u001b[1;32mIn[53], line 5\u001b[0m\n\u001b[0;32m      2\u001b[0m \u001b[38;5;66;03m#ax.hold(True) For older versions. This has now been deprecated and later removed\u001b[39;00m\n\u001b[0;32m      3\u001b[0m ax\u001b[38;5;241m.\u001b[39mimshow(prueba30, cmap\u001b[38;5;241m=\u001b[39mplt\u001b[38;5;241m.\u001b[39mcm\u001b[38;5;241m.\u001b[39mjet, origin\u001b[38;5;241m=\u001b[39m\u001b[38;5;124m'\u001b[39m\u001b[38;5;124mlower\u001b[39m\u001b[38;5;124m'\u001b[39m,\n\u001b[0;32m      4\u001b[0m     extent\u001b[38;5;241m=\u001b[39m(x\u001b[38;5;241m.\u001b[39mmin(), x\u001b[38;5;241m.\u001b[39mmax(), y\u001b[38;5;241m.\u001b[39mmin(), y\u001b[38;5;241m.\u001b[39mmax()))\n\u001b[1;32m----> 5\u001b[0m ax\u001b[38;5;241m.\u001b[39mcontour(x, y, data_fitted, \u001b[38;5;241m8\u001b[39m, colors\u001b[38;5;241m=\u001b[39m\u001b[38;5;124m'\u001b[39m\u001b[38;5;124mw\u001b[39m\u001b[38;5;124m'\u001b[39m)\n\u001b[0;32m      6\u001b[0m plt\u001b[38;5;241m.\u001b[39mshow()\n",
      "File \u001b[1;32m~\\anaconda3\\Lib\\site-packages\\matplotlib\\__init__.py:1465\u001b[0m, in \u001b[0;36m_preprocess_data.<locals>.inner\u001b[1;34m(ax, data, *args, **kwargs)\u001b[0m\n\u001b[0;32m   1462\u001b[0m \u001b[38;5;129m@functools\u001b[39m\u001b[38;5;241m.\u001b[39mwraps(func)\n\u001b[0;32m   1463\u001b[0m \u001b[38;5;28;01mdef\u001b[39;00m \u001b[38;5;21minner\u001b[39m(ax, \u001b[38;5;241m*\u001b[39margs, data\u001b[38;5;241m=\u001b[39m\u001b[38;5;28;01mNone\u001b[39;00m, \u001b[38;5;241m*\u001b[39m\u001b[38;5;241m*\u001b[39mkwargs):\n\u001b[0;32m   1464\u001b[0m     \u001b[38;5;28;01mif\u001b[39;00m data \u001b[38;5;129;01mis\u001b[39;00m \u001b[38;5;28;01mNone\u001b[39;00m:\n\u001b[1;32m-> 1465\u001b[0m         \u001b[38;5;28;01mreturn\u001b[39;00m func(ax, \u001b[38;5;241m*\u001b[39m\u001b[38;5;28mmap\u001b[39m(sanitize_sequence, args), \u001b[38;5;241m*\u001b[39m\u001b[38;5;241m*\u001b[39mkwargs)\n\u001b[0;32m   1467\u001b[0m     bound \u001b[38;5;241m=\u001b[39m new_sig\u001b[38;5;241m.\u001b[39mbind(ax, \u001b[38;5;241m*\u001b[39margs, \u001b[38;5;241m*\u001b[39m\u001b[38;5;241m*\u001b[39mkwargs)\n\u001b[0;32m   1468\u001b[0m     auto_label \u001b[38;5;241m=\u001b[39m (bound\u001b[38;5;241m.\u001b[39marguments\u001b[38;5;241m.\u001b[39mget(label_namer)\n\u001b[0;32m   1469\u001b[0m                   \u001b[38;5;129;01mor\u001b[39;00m bound\u001b[38;5;241m.\u001b[39mkwargs\u001b[38;5;241m.\u001b[39mget(label_namer))\n",
      "File \u001b[1;32m~\\anaconda3\\Lib\\site-packages\\matplotlib\\axes\\_axes.py:6520\u001b[0m, in \u001b[0;36mAxes.contour\u001b[1;34m(self, *args, **kwargs)\u001b[0m\n\u001b[0;32m   6511\u001b[0m \u001b[38;5;250m\u001b[39m\u001b[38;5;124;03m\"\"\"\u001b[39;00m\n\u001b[0;32m   6512\u001b[0m \u001b[38;5;124;03mPlot contour lines.\u001b[39;00m\n\u001b[0;32m   6513\u001b[0m \n\u001b[1;32m   (...)\u001b[0m\n\u001b[0;32m   6517\u001b[0m \u001b[38;5;124;03m%(contour_doc)s\u001b[39;00m\n\u001b[0;32m   6518\u001b[0m \u001b[38;5;124;03m\"\"\"\u001b[39;00m\n\u001b[0;32m   6519\u001b[0m kwargs[\u001b[38;5;124m'\u001b[39m\u001b[38;5;124mfilled\u001b[39m\u001b[38;5;124m'\u001b[39m] \u001b[38;5;241m=\u001b[39m \u001b[38;5;28;01mFalse\u001b[39;00m\n\u001b[1;32m-> 6520\u001b[0m contours \u001b[38;5;241m=\u001b[39m mcontour\u001b[38;5;241m.\u001b[39mQuadContourSet(\u001b[38;5;28mself\u001b[39m, \u001b[38;5;241m*\u001b[39margs, \u001b[38;5;241m*\u001b[39m\u001b[38;5;241m*\u001b[39mkwargs)\n\u001b[0;32m   6521\u001b[0m \u001b[38;5;28mself\u001b[39m\u001b[38;5;241m.\u001b[39m_request_autoscale_view()\n\u001b[0;32m   6522\u001b[0m \u001b[38;5;28;01mreturn\u001b[39;00m contours\n",
      "File \u001b[1;32m~\\anaconda3\\Lib\\site-packages\\matplotlib\\contour.py:858\u001b[0m, in \u001b[0;36mContourSet.__init__\u001b[1;34m(self, ax, levels, filled, linewidths, linestyles, hatches, alpha, origin, extent, cmap, colors, norm, vmin, vmax, extend, antialiased, nchunk, locator, transform, negative_linestyles, clip_path, *args, **kwargs)\u001b[0m\n\u001b[0;32m    854\u001b[0m \u001b[38;5;28;01mif\u001b[39;00m \u001b[38;5;28mself\u001b[39m\u001b[38;5;241m.\u001b[39mnegative_linestyles \u001b[38;5;129;01mis\u001b[39;00m \u001b[38;5;28;01mNone\u001b[39;00m:\n\u001b[0;32m    855\u001b[0m     \u001b[38;5;28mself\u001b[39m\u001b[38;5;241m.\u001b[39mnegative_linestyles \u001b[38;5;241m=\u001b[39m \\\n\u001b[0;32m    856\u001b[0m         mpl\u001b[38;5;241m.\u001b[39mrcParams[\u001b[38;5;124m'\u001b[39m\u001b[38;5;124mcontour.negative_linestyle\u001b[39m\u001b[38;5;124m'\u001b[39m]\n\u001b[1;32m--> 858\u001b[0m kwargs \u001b[38;5;241m=\u001b[39m \u001b[38;5;28mself\u001b[39m\u001b[38;5;241m.\u001b[39m_process_args(\u001b[38;5;241m*\u001b[39margs, \u001b[38;5;241m*\u001b[39m\u001b[38;5;241m*\u001b[39mkwargs)\n\u001b[0;32m    859\u001b[0m \u001b[38;5;28mself\u001b[39m\u001b[38;5;241m.\u001b[39m_process_levels()\n\u001b[0;32m    861\u001b[0m \u001b[38;5;28mself\u001b[39m\u001b[38;5;241m.\u001b[39m_extend_min \u001b[38;5;241m=\u001b[39m \u001b[38;5;28mself\u001b[39m\u001b[38;5;241m.\u001b[39mextend \u001b[38;5;129;01min\u001b[39;00m [\u001b[38;5;124m'\u001b[39m\u001b[38;5;124mmin\u001b[39m\u001b[38;5;124m'\u001b[39m, \u001b[38;5;124m'\u001b[39m\u001b[38;5;124mboth\u001b[39m\u001b[38;5;124m'\u001b[39m]\n",
      "File \u001b[1;32m~\\anaconda3\\Lib\\site-packages\\matplotlib\\contour.py:1523\u001b[0m, in \u001b[0;36mQuadContourSet._process_args\u001b[1;34m(self, corner_mask, algorithm, *args, **kwargs)\u001b[0m\n\u001b[0;32m   1520\u001b[0m         corner_mask \u001b[38;5;241m=\u001b[39m mpl\u001b[38;5;241m.\u001b[39mrcParams[\u001b[38;5;124m'\u001b[39m\u001b[38;5;124mcontour.corner_mask\u001b[39m\u001b[38;5;124m'\u001b[39m]\n\u001b[0;32m   1521\u001b[0m \u001b[38;5;28mself\u001b[39m\u001b[38;5;241m.\u001b[39m_corner_mask \u001b[38;5;241m=\u001b[39m corner_mask\n\u001b[1;32m-> 1523\u001b[0m x, y, z \u001b[38;5;241m=\u001b[39m \u001b[38;5;28mself\u001b[39m\u001b[38;5;241m.\u001b[39m_contour_args(args, kwargs)\n\u001b[0;32m   1525\u001b[0m contour_generator \u001b[38;5;241m=\u001b[39m contourpy\u001b[38;5;241m.\u001b[39mcontour_generator(\n\u001b[0;32m   1526\u001b[0m     x, y, z, name\u001b[38;5;241m=\u001b[39m\u001b[38;5;28mself\u001b[39m\u001b[38;5;241m.\u001b[39m_algorithm, corner_mask\u001b[38;5;241m=\u001b[39m\u001b[38;5;28mself\u001b[39m\u001b[38;5;241m.\u001b[39m_corner_mask,\n\u001b[0;32m   1527\u001b[0m     line_type\u001b[38;5;241m=\u001b[39mcontourpy\u001b[38;5;241m.\u001b[39mLineType\u001b[38;5;241m.\u001b[39mSeparateCode,\n\u001b[0;32m   1528\u001b[0m     fill_type\u001b[38;5;241m=\u001b[39mcontourpy\u001b[38;5;241m.\u001b[39mFillType\u001b[38;5;241m.\u001b[39mOuterCode,\n\u001b[0;32m   1529\u001b[0m     chunk_size\u001b[38;5;241m=\u001b[39m\u001b[38;5;28mself\u001b[39m\u001b[38;5;241m.\u001b[39mnchunk)\n\u001b[0;32m   1531\u001b[0m t \u001b[38;5;241m=\u001b[39m \u001b[38;5;28mself\u001b[39m\u001b[38;5;241m.\u001b[39mget_transform()\n",
      "File \u001b[1;32m~\\anaconda3\\Lib\\site-packages\\matplotlib\\contour.py:1563\u001b[0m, in \u001b[0;36mQuadContourSet._contour_args\u001b[1;34m(self, args, kwargs)\u001b[0m\n\u001b[0;32m   1561\u001b[0m \u001b[38;5;28;01melif\u001b[39;00m \u001b[38;5;241m2\u001b[39m \u001b[38;5;241m<\u001b[39m nargs \u001b[38;5;241m<\u001b[39m\u001b[38;5;241m=\u001b[39m \u001b[38;5;241m4\u001b[39m:\n\u001b[0;32m   1562\u001b[0m     x, y, z_orig, \u001b[38;5;241m*\u001b[39margs \u001b[38;5;241m=\u001b[39m args\n\u001b[1;32m-> 1563\u001b[0m     x, y, z \u001b[38;5;241m=\u001b[39m \u001b[38;5;28mself\u001b[39m\u001b[38;5;241m.\u001b[39m_check_xyz(x, y, z_orig, kwargs)\n\u001b[0;32m   1565\u001b[0m \u001b[38;5;28;01melse\u001b[39;00m:\n\u001b[0;32m   1566\u001b[0m     \u001b[38;5;28;01mraise\u001b[39;00m _api\u001b[38;5;241m.\u001b[39mnargs_error(fn, takes\u001b[38;5;241m=\u001b[39m\u001b[38;5;124m\"\u001b[39m\u001b[38;5;124mfrom 1 to 4\u001b[39m\u001b[38;5;124m\"\u001b[39m, given\u001b[38;5;241m=\u001b[39mnargs)\n",
      "File \u001b[1;32m~\\anaconda3\\Lib\\site-packages\\matplotlib\\contour.py:1602\u001b[0m, in \u001b[0;36mQuadContourSet._check_xyz\u001b[1;34m(self, x, y, z, kwargs)\u001b[0m\n\u001b[0;32m   1600\u001b[0m ny, \u001b[38;5;241m=\u001b[39m y\u001b[38;5;241m.\u001b[39mshape\n\u001b[0;32m   1601\u001b[0m \u001b[38;5;28;01mif\u001b[39;00m nx \u001b[38;5;241m!=\u001b[39m Nx:\n\u001b[1;32m-> 1602\u001b[0m     \u001b[38;5;28;01mraise\u001b[39;00m \u001b[38;5;167;01mTypeError\u001b[39;00m(\u001b[38;5;124mf\u001b[39m\u001b[38;5;124m\"\u001b[39m\u001b[38;5;124mLength of x (\u001b[39m\u001b[38;5;132;01m{\u001b[39;00mnx\u001b[38;5;132;01m}\u001b[39;00m\u001b[38;5;124m) must match number of \u001b[39m\u001b[38;5;124m\"\u001b[39m\n\u001b[0;32m   1603\u001b[0m                     \u001b[38;5;124mf\u001b[39m\u001b[38;5;124m\"\u001b[39m\u001b[38;5;124mcolumns in z (\u001b[39m\u001b[38;5;132;01m{\u001b[39;00mNx\u001b[38;5;132;01m}\u001b[39;00m\u001b[38;5;124m)\u001b[39m\u001b[38;5;124m\"\u001b[39m)\n\u001b[0;32m   1604\u001b[0m \u001b[38;5;28;01mif\u001b[39;00m ny \u001b[38;5;241m!=\u001b[39m Ny:\n\u001b[0;32m   1605\u001b[0m     \u001b[38;5;28;01mraise\u001b[39;00m \u001b[38;5;167;01mTypeError\u001b[39;00m(\u001b[38;5;124mf\u001b[39m\u001b[38;5;124m\"\u001b[39m\u001b[38;5;124mLength of y (\u001b[39m\u001b[38;5;132;01m{\u001b[39;00mny\u001b[38;5;132;01m}\u001b[39;00m\u001b[38;5;124m) must match number of \u001b[39m\u001b[38;5;124m\"\u001b[39m\n\u001b[0;32m   1606\u001b[0m                     \u001b[38;5;124mf\u001b[39m\u001b[38;5;124m\"\u001b[39m\u001b[38;5;124mrows in z (\u001b[39m\u001b[38;5;132;01m{\u001b[39;00mNy\u001b[38;5;132;01m}\u001b[39;00m\u001b[38;5;124m)\u001b[39m\u001b[38;5;124m\"\u001b[39m)\n",
      "\u001b[1;31mTypeError\u001b[0m: Length of x (1000) must match number of columns in z (1280)"
     ]
    },
    {
     "data": {
      "image/png": "[encoded data removed]",
      "text/plain": [
       "<Figure size 640x480 with 1 Axes>"
      ]
     },
     "metadata": {},
     "output_type": "display_data"
    }
   ],
   "source": [
    "fig, ax = plt.subplots(1, 1)\n",
    "#ax.hold(True) For older versions. This has now been deprecated and later removed\n",
    "ax.imshow(prueba30, cmap=plt.cm.jet, origin='lower',\n",
    "    extent=(x.min(), x.max(), y.min(), y.max()))\n",
    "ax.contour(x, y, data_fitted, 8, colors='w')\n",
    "plt.show()"
   ]
  },
  {
   "cell_type": "code",
   "execution_count": null,
   "id": "6dd3a546-2290-499b-9013-f2a55a5bba1c",
   "metadata": {},
   "outputs": [],
   "source": [
    "# use your favorite image processing library to load an image\n",
    "FWHMx776 = []\n",
    "FWHMy776 = []\n",
    "   \n",
    "for file in Gauss_776:\n",
    "    im = cv2.imread(file)\n",
    "    im = np.array((im),dtype=int)[:,:,0]\n",
    "    h, w = im.shape\n",
    "    data = im.ravel()\n",
    "    x = np.linspace(0, w, w)\n",
    "    y = np.linspace(0, h, h)\n",
    "    x, y = np.meshgrid(x, y)\n",
    "     # initial guess of parameters: amplitude, xo, yo, sigma_x, sigma_y, theta, offset\n",
    "    initial_guess = (100, 800, 500, 300, 300)\n",
    "        \n",
    "    # find the optimal Gaussian parameters\n",
    "    popt, pcov = curve_fit(Gaussian_2d, (x, y), data, p0=initial_guess) \n",
    "    FWx = (np.abs(popt[3]))*5.2e-6\n",
    "    FWy = (np.abs(popt[4]))*5.2e-6\n",
    "    FWHMx776.append(FWx)\n",
    "    FWHMy776.append(FWy)\n",
    "    "
   ]
  },
  {
   "cell_type": "code",
   "execution_count": 34,
   "id": "7f8c83c8-313a-4e9b-9a29-cae76339b462",
   "metadata": {},
   "outputs": [
    {
     "data": {
      "text/plain": [
       "36"
      ]
     },
     "execution_count": 34,
     "metadata": {},
     "output_type": "execute_result"
    }
   ],
   "source": [
    "size(FWHMx776)"
   ]
  },
  {
   "cell_type": "code",
   "execution_count": 35,
   "id": "cfd53c07-b9c6-4bb4-9413-a4c56caabc0a",
   "metadata": {},
   "outputs": [],
   "source": [
    "#FWHMx776\n",
    "d = [0,30,60,90,120,150,180,210,240,270,300,330,360,390,420,450,480,510,590,620,650,680,710,740,770,800,830,860\\\n",
    "     ,890,920,950,980,1010,1040,1070,1010]\n",
    "#d = np.arange(0,1000,20)\n",
    "myInt = 1000\n",
    "d2= [i/myInt for i in d]"
   ]
  },
  {
   "cell_type": "code",
   "execution_count": 36,
   "id": "884197bb-e93b-46bf-98f9-3d3ff3bec7c1",
   "metadata": {},
   "outputs": [
    {
     "data": {
      "text/plain": [
       "36"
      ]
     },
     "execution_count": 36,
     "metadata": {},
     "output_type": "execute_result"
    }
   ],
   "source": [
    "size(d2)"
   ]
  },
  {
   "cell_type": "code",
   "execution_count": 37,
   "id": "6af476cb-bebb-41ed-85f9-11c5710c7a2a",
   "metadata": {},
   "outputs": [],
   "source": [
    "def waist(z,z0,lam,w0):    \n",
    "    wz= w0*np.sqrt((1+((lam*(z+z0))/(np.pi*w0**2))**2))\n",
    "    return wz"
   ]
  },
  {
   "cell_type": "code",
   "execution_count": 38,
   "id": "101a4de7-20ca-455f-a9de-0b0c6a8315ef",
   "metadata": {},
   "outputs": [
    {
     "data": {
      "text/plain": [
       "\"result = fit_model.fit(g2, x=hist_x, params=p, weights= 1 / g2_err)\\n#print(result.fit_report())\\n#result.plot()\\nplt.figure()\\nplt.errorbar(hist_x, (hist/1) , yerr=(hist_err/1)  , fmt='-',color='r')\\nplt.xlabel('$\\\\Delta$t (ns)')\\nplt.ylabel('g$^{(2)}$(t) (ns)')\\nresult = fit_model.fit(g2, x=hist_x, params=p, weights= 1 / g2_err,color='r')\\nprint(result.fit_report())\\nresult.plot()\\nplt.xlabel('$\\\\Delta$t (ns)',fontsize=15)\\nplt.ylabel('g$^{(2)}$(t) (ns)',fontsize=15)\\nplt.xticks(fontsize=12)\\nplt.yticks(fontsize=12)\""
      ]
     },
     "execution_count": 38,
     "metadata": {},
     "output_type": "execute_result"
    }
   ],
   "source": [
    "'''result = fit_model.fit(g2, x=hist_x, params=p, weights= 1 / g2_err)\n",
    "#print(result.fit_report())\n",
    "#result.plot()\n",
    "plt.figure()\n",
    "plt.errorbar(hist_x, (hist/1) , yerr=(hist_err/1)  , fmt='-',color='r')\n",
    "plt.xlabel('$\\Delta$t (ns)')\n",
    "plt.ylabel('g$^{(2)}$(t) (ns)')\n",
    "result = fit_model.fit(g2, x=hist_x, params=p, weights= 1 / g2_err,color='r')\n",
    "print(result.fit_report())\n",
    "result.plot()\n",
    "plt.xlabel('$\\Delta$t (ns)',fontsize=15)\n",
    "plt.ylabel('g$^{(2)}$(t) (ns)',fontsize=15)\n",
    "plt.xticks(fontsize=12)\n",
    "plt.yticks(fontsize=12)'''"
   ]
  },
  {
   "cell_type": "code",
   "execution_count": 39,
   "id": "c70d9114-7118-48dc-95d0-1a7098f167f3",
   "metadata": {},
   "outputs": [
    {
     "name": "stdout",
     "output_type": "stream",
     "text": [
      "[[Model]]\n",
      "    Model(waist)\n",
      "[[Fit Statistics]]\n",
      "    # fitting method   = leastsq\n",
      "    # function evals   = 16\n",
      "    # data points      = 36\n",
      "    # variables        = 2\n",
      "    chi-square         = 1.2149e-08\n",
      "    reduced chi-square = 3.5734e-10\n",
      "    Akaike info crit   = -781.141936\n",
      "    Bayesian info crit = -777.974898\n",
      "    R-squared          = 0.96143814\n",
      "[[Variables]]\n",
      "    lam:  7.76e-07 (fixed)\n",
      "    z0:   4.88612127 +/- 0.11791486 (2.41%) (init = 5)\n",
      "    w0:   8.0113e-04 +/- 2.2410e-05 (2.80%) (init = 0.001)\n",
      "[[Correlations]] (unreported correlations are < 0.100)\n",
      "    C(z0, w0) = +0.9954\n"
     ]
    },
    {
     "data": {
      "text/plain": [
       "<matplotlib.legend.Legend at 0x7fd562110be0>"
      ]
     },
     "execution_count": 39,
     "metadata": {},
     "output_type": "execute_result"
    },
    {
     "data": {
      "image/png": "[encoded data removed]",
      "text/plain": [
       "<Figure size 640x640 with 2 Axes>"
      ]
     },
     "metadata": {},
     "output_type": "display_data"
    }
   ],
   "source": [
    "gmodel = Model(waist)\n",
    "\n",
    "# initializes the fit parameters\n",
    "p = Parameters()\n",
    "p.add('lam', 776e-9, vary=False)\n",
    "p.add('z0', 5)\n",
    "p.add('w0',1e-3)\n",
    "\n",
    "\n",
    "result = gmodel.fit(FWHMy776, z=d2, params=p)\n",
    "#residuals_y = ydata - result.best_fit\n",
    "#residuals_x = xdata - result.best_fit\n",
    "print(result.fit_report())\n",
    "\n",
    "result.plot('.')\n",
    "#plt.plot(X, xdata, '.')\n",
    "#plt.plot(X, result.init_fit, '--', label='initial fit')\n",
    "#plt.plot(X, result.best_fit, '-', label='best fit')\n",
    "plt.legend()\n",
    "#plt.show()"
   ]
  },
  {
   "cell_type": "code",
   "execution_count": 194,
   "id": "d10d78ed-9283-4add-9b69-6176ac1c65b2",
   "metadata": {},
   "outputs": [
    {
     "data": {
      "text/plain": [
       "2.5983222229105656"
      ]
     },
     "execution_count": 194,
     "metadata": {},
     "output_type": "execute_result"
    }
   ],
   "source": [
    "l_776 = 776e-9\n",
    "w0_776 = result.params['w0'].value\n",
    "FWHM776 = 2.25482*w0_776    #resultado en m\n",
    "z0 = (np.pi*w0_776**2)/l_776\n",
    "z0\n",
    "#FWHM776y = 2.25482 * FWHM776y"
   ]
  },
  {
   "cell_type": "code",
   "execution_count": 196,
   "id": "e3b46a37-4bcf-478d-bac7-4964740718fb",
   "metadata": {},
   "outputs": [],
   "source": [
    "# use your favorite image processing library to load an image\n",
    "FWHMx780 = []\n",
    "FWHMy780 = []\n",
    "   \n",
    "for file in Gauss_780:\n",
    "    im = cv2.imread(file)\n",
    "    im = np.array((im),dtype=int)[:,:,0]\n",
    "    h, w = im.shape\n",
    "    data = im.ravel()\n",
    "    x = np.linspace(0, w, w)\n",
    "    y = np.linspace(0, h, h)\n",
    "    x, y = np.meshgrid(x, y)\n",
    "     # initial guess of parameters: amplitude, xo, yo, sigma_x, sigma_y, theta, offset\n",
    "    initial_guess = (100, 800, 500, 300, 300)\n",
    "        \n",
    "    # find the optimal Gaussian parameters\n",
    "    popt, pcov = curve_fit(Gaussian_2d, (x, y), data, p0=initial_guess) \n",
    "    FWx = (np.abs(popt[3]))*5.2e-6\n",
    "    FWy = (np.abs(popt[4]))*5.2e-6\n",
    "    FWHMx780.append(FWx)\n",
    "    FWHMy780.append(FWy)\n",
    "    "
   ]
  },
  {
   "cell_type": "code",
   "execution_count": 197,
   "id": "cbe485fd-4730-404b-b617-d55a7b4ff40b",
   "metadata": {},
   "outputs": [
    {
     "name": "stdout",
     "output_type": "stream",
     "text": [
      "[[Model]]\n",
      "    Model(waist)\n",
      "[[Fit Statistics]]\n",
      "    # fitting method   = leastsq\n",
      "    # function evals   = 16\n",
      "    # data points      = 36\n",
      "    # variables        = 2\n",
      "    chi-square         = 9.6769e-09\n",
      "    reduced chi-square = 2.8461e-10\n",
      "    Akaike info crit   = -789.333599\n",
      "    Bayesian info crit = -786.166561\n",
      "    R-squared          = 0.99074349\n",
      "[[Variables]]\n",
      "    lam:  7.8e-07 (fixed)\n",
      "    z0:   3.53321814 +/- 0.06170587 (1.75%) (init = 5)\n",
      "    w0:   4.7134e-04 +/- 7.4554e-06 (1.58%) (init = 0.0006)\n",
      "[[Correlations]] (unreported correlations are < 0.100)\n",
      "    C(z0, w0) = +0.9961\n"
     ]
    },
    {
     "data": {
      "text/plain": [
       "<matplotlib.legend.Legend at 0x7feceaf8b3d0>"
      ]
     },
     "execution_count": 197,
     "metadata": {},
     "output_type": "execute_result"
    },
    {
     "data": {
      "image/png": "[encoded data removed]",
      "text/plain": [
       "<Figure size 640x640 with 2 Axes>"
      ]
     },
     "metadata": {},
     "output_type": "display_data"
    }
   ],
   "source": [
    "gmodel = Model(waist)\n",
    "\n",
    "# initializes the fit parameters\n",
    "p = Parameters()\n",
    "p.add('lam', 780e-9, vary=False)\n",
    "p.add('z0', 5)\n",
    "p.add('w0',6e-4)\n",
    "\n",
    "\n",
    "result = gmodel.fit(FWHMy780, z=d2, params=p)\n",
    "print(result.fit_report())\n",
    "\n",
    "result.plot('.')\n",
    "#plt.plot(X, xdata, '.')\n",
    "#plt.plot(X, result.init_fit, '--', label='initial fit')\n",
    "#plt.plot(X, result.best_fit, '-', label='best fit')\n",
    "plt.legend()\n",
    "#plt.show()"
   ]
  },
  {
   "cell_type": "code",
   "execution_count": 198,
   "id": "69536be1-5984-4c98-a8a4-177b6ce7d44e",
   "metadata": {},
   "outputs": [
    {
     "data": {
      "text/plain": [
       "0.8948047575946461"
      ]
     },
     "execution_count": 198,
     "metadata": {},
     "output_type": "execute_result"
    }
   ],
   "source": [
    "landa = 780e-9\n",
    "w0_780 = result.params['w0'].value\n",
    "FWHM780 = 2.25482*w0_780    #resultado en m\n",
    "z0_780 = (np.pi*w0_780**2)/landa \n",
    "z0_780"
   ]
  },
  {
   "cell_type": "code",
   "execution_count": 199,
   "id": "a25609cb-ee34-4a03-b7a6-47a8197014a7",
   "metadata": {},
   "outputs": [
    {
     "data": {
      "text/plain": [
       "0.00047134239829066903"
      ]
     },
     "execution_count": 199,
     "metadata": {},
     "output_type": "execute_result"
    }
   ],
   "source": [
    "result.params['w0'].value"
   ]
  },
  {
   "cell_type": "code",
   "execution_count": 200,
   "id": "eae1e439-c9b3-4148-b8e0-af374834dfb4",
   "metadata": {},
   "outputs": [],
   "source": [
    "d420=[180,200,220,240,260,280,300,320,340,360,380,400,420,440,460,480,640,660,680,700,\\\n",
    "      720,740,760,780,800,820,840,860,880,900,920,940,960,980,1000,1020,1040,1060,1080,1100]\n",
    "     #,1120,1140,1160,1180,1200,1220,1240,1260,1280,1300,1320,1340,1360,1380]\n",
    "d2_420= [i/myInt for i in d420]"
   ]
  },
  {
   "cell_type": "code",
   "execution_count": 201,
   "id": "015f809e-d704-4887-9207-8794e0455e89",
   "metadata": {},
   "outputs": [],
   "source": [
    "#size(d420)"
   ]
  },
  {
   "cell_type": "code",
   "execution_count": 202,
   "id": "73021f37-31c1-4cc4-92b9-f8fb4ec5bffb",
   "metadata": {},
   "outputs": [],
   "source": [
    "#Gauss_420.shape"
   ]
  },
  {
   "cell_type": "code",
   "execution_count": 203,
   "id": "32621278-0837-4be0-9339-fd70b0bc058b",
   "metadata": {},
   "outputs": [],
   "source": [
    "# use your favorite image processing library to load an image\n",
    "FWHMx420 = []\n",
    "FWHMy420 = []\n",
    "   \n",
    "for file in Gauss_420[0:40]:\n",
    "    im = cv2.imread(file)\n",
    "    im = np.array((im),dtype=int)[:,:,0]\n",
    "    h, w = im.shape\n",
    "    data = im.ravel()\n",
    "    x = np.linspace(0, w, w)\n",
    "    y = np.linspace(0, h, h)\n",
    "    x, y = np.meshgrid(x, y)\n",
    "    \n",
    "     # initial guess of parameters: amplitude, xo, yo, sigma_x, sigma_y, theta, offset\n",
    "    initial_guess = (100, 800, 500, 300, 300)\n",
    "        \n",
    "    # find the optimal Gaussian parameters\n",
    "    popt, pcov = curve_fit(Gaussian_2d, (x, y), data, p0=initial_guess) \n",
    "    FWx = (np.abs(popt[3]))*5.2e-6\n",
    "    FWy = (np.abs(popt[4]))*5.2e-6\n",
    "    FWHMx420.append(FWx)\n",
    "    FWHMy420.append(FWy)\n",
    "    "
   ]
  },
  {
   "cell_type": "code",
   "execution_count": null,
   "id": "a82daac9-6844-498b-a320-1402ca9aea34",
   "metadata": {},
   "outputs": [],
   "source": [
    "#for file in Gauss_420[0:40]:\n",
    "#    print(file)"
   ]
  },
  {
   "cell_type": "code",
   "execution_count": 214,
   "id": "eb253670-56e3-4d71-8a9b-0cdaae53cb10",
   "metadata": {},
   "outputs": [
    {
     "name": "stdout",
     "output_type": "stream",
     "text": [
      "[[Model]]\n",
      "    Model(waist)\n",
      "[[Fit Statistics]]\n",
      "    # fitting method   = leastsq\n",
      "    # function evals   = 16\n",
      "    # data points      = 40\n",
      "    # variables        = 2\n",
      "    chi-square         = 1.7443e-08\n",
      "    reduced chi-square = 4.5903e-10\n",
      "    Akaike info crit   = -858.128033\n",
      "    Bayesian info crit = -854.750274\n",
      "    R-squared          = 0.89849821\n",
      "[[Variables]]\n",
      "    lam:  4.2e-07 (fixed)\n",
      "    z0:   2.22445608 +/- 0.05884020 (2.65%) (init = 5)\n",
      "    w0:   5.1426e-04 +/- 1.9003e-05 (3.70%) (init = 0.0006)\n",
      "[[Correlations]] (unreported correlations are < 0.100)\n",
      "    C(z0, w0) = +0.9630\n"
     ]
    },
    {
     "data": {
      "text/plain": [
       "<matplotlib.legend.Legend at 0x7feceaf8b970>"
      ]
     },
     "execution_count": 214,
     "metadata": {},
     "output_type": "execute_result"
    },
    {
     "data": {
      "image/png": "[encoded data removed]",
      "text/plain": [
       "<Figure size 640x640 with 2 Axes>"
      ]
     },
     "metadata": {},
     "output_type": "display_data"
    }
   ],
   "source": [
    "gmodel = Model(waist)\n",
    "\n",
    "# initializes the fit parameters\n",
    "p = Parameters()\n",
    "p.add('lam', 420e-9, vary=False)\n",
    "p.add('z0', 5)\n",
    "p.add('w0',6e-4)\n",
    "\n",
    "\n",
    "result = gmodel.fit(FWHMy420, z=d2_420, params=p)\n",
    "print(result.fit_report())\n",
    "\n",
    "result.plot('.')\n",
    "#plt.plot(X, xdata, '.')\n",
    "#plt.plot(X, result.init_fit, '--', label='initial fit')\n",
    "#plt.plot(X, result.best_fit, '-', label='best fit')\n",
    "plt.legend()\n",
    "#plt.show()"
   ]
  },
  {
   "cell_type": "code",
   "execution_count": 216,
   "id": "9d44ceb0-cf36-4ef8-984e-db6033e32de0",
   "metadata": {},
   "outputs": [
    {
     "data": {
      "text/plain": [
       "1.978204319302169"
      ]
     },
     "execution_count": 216,
     "metadata": {},
     "output_type": "execute_result"
    }
   ],
   "source": [
    "landa = 420e-9\n",
    "w0_420 = result.params['w0'].value\n",
    "FWHM420 = 2.25482*w0_420    #resultado en m\n",
    "z0_420 = (np.pi*w0_420**2)/landa \n",
    "z0_420"
   ]
  },
  {
   "cell_type": "code",
   "execution_count": 218,
   "id": "c24ae105-71bc-42a1-a513-263cfdae0610",
   "metadata": {},
   "outputs": [],
   "source": [
    "# use your favorite image processing library to load an image \n",
    "#169.58099018 712.69217621 511.9645285  160.63058999 158.62486087\n",
    "FWHMx420_2 = []\n",
    "FWHMy420_2 = []\n",
    "   \n",
    "for file in Gauss_420_2[0:45]:\n",
    "    im = cv2.imread(file)\n",
    "    im = np.array((im),dtype=int)[:,:,0]\n",
    "    h, w = im.shape\n",
    "    data = im.ravel()\n",
    "    x = np.linspace(0, w, w)\n",
    "    y = np.linspace(0, h, h)\n",
    "    x, y = np.meshgrid(x, y)\n",
    "    \n",
    "     # initial guess of parameters: amplitude, xo, yo, sigma_x, sigma_y, theta, offset\n",
    "    initial_guess = (170, 700, 500, 160, 150)\n",
    "        \n",
    "    # find the optimal Gaussian parameters\n",
    "    popt, pcov = curve_fit(Gaussian_2d, (x, y), data, p0=initial_guess) \n",
    "    FWx = (np.abs(popt[3]))*5.2e-6\n",
    "    FWy = (np.abs(popt[4]))*5.2e-6\n",
    "    FWHMx420_2.append(FWx)\n",
    "    FWHMy420_2.append(FWy)    "
   ]
  },
  {
   "cell_type": "code",
   "execution_count": 229,
   "id": "f3d78921-5b88-4881-a506-0768de309b59",
   "metadata": {},
   "outputs": [
    {
     "data": {
      "text/plain": [
       "43"
      ]
     },
     "execution_count": 229,
     "metadata": {},
     "output_type": "execute_result"
    }
   ],
   "source": [
    "size(FWHMx420_2)"
   ]
  },
  {
   "cell_type": "code",
   "execution_count": 237,
   "id": "b9e62175-88f6-400d-b512-7056a5740d05",
   "metadata": {},
   "outputs": [],
   "source": [
    "d420_2 = [0,20,40,60,80,100,120,140,160,180,200,220,240,260,280,300,320,380,400,420,440,460,480,500, 520,540,560,580,600,\\\n",
    "          620,640,660,680,700,\\\n",
    "      720,740,760,780,800,820,840,860,880]\n",
    "     #,1120,1140,1160,1180,1200,1220,1240,1260,1280,1300,1320,1340,1360,1380]\n",
    "d2_420_2 = [i/myInt for i in d420_2]"
   ]
  },
  {
   "cell_type": "code",
   "execution_count": 239,
   "id": "602789ea-e890-4f7a-9e36-84ec43ed0fc6",
   "metadata": {},
   "outputs": [
    {
     "data": {
      "text/plain": [
       "43"
      ]
     },
     "execution_count": 239,
     "metadata": {},
     "output_type": "execute_result"
    }
   ],
   "source": [
    "size(d420_2)"
   ]
  },
  {
   "cell_type": "code",
   "execution_count": 241,
   "id": "f66854df-b06c-4625-9293-b84be2272484",
   "metadata": {},
   "outputs": [
    {
     "name": "stdout",
     "output_type": "stream",
     "text": [
      "[[Model]]\n",
      "    Model(waist)\n",
      "[[Fit Statistics]]\n",
      "    # fitting method   = leastsq\n",
      "    # function evals   = 24\n",
      "    # data points      = 43\n",
      "    # variables        = 2\n",
      "    chi-square         = 1.5877e-07\n",
      "    reduced chi-square = 3.8726e-09\n",
      "    Akaike info crit   = -830.930088\n",
      "    Bayesian info crit = -827.407687\n",
      "    R-squared          = 0.74415744\n",
      "[[Variables]]\n",
      "    lam:  4.2e-07 (fixed)\n",
      "    z0:   1.76772543 +/- 0.16028601 (9.07%) (init = 5)\n",
      "    w0:   3.2160e-04 +/- 2.6192e-05 (8.14%) (init = 0.0006)\n",
      "[[Correlations]] (unreported correlations are < 0.100)\n",
      "    C(z0, w0) = +0.9885\n"
     ]
    },
    {
     "data": {
      "text/plain": [
       "<matplotlib.legend.Legend at 0x7fece97aba60>"
      ]
     },
     "execution_count": 241,
     "metadata": {},
     "output_type": "execute_result"
    },
    {
     "data": {
      "image/png": "[encoded data removed]",
      "text/plain": [
       "<Figure size 640x640 with 2 Axes>"
      ]
     },
     "metadata": {},
     "output_type": "display_data"
    }
   ],
   "source": [
    "gmodel = Model(waist)\n",
    "\n",
    "# initializes the fit parameters\n",
    "p = Parameters()\n",
    "p.add('lam', 420e-9, vary=False)\n",
    "p.add('z0', 5)\n",
    "p.add('w0',6e-4)\n",
    "\n",
    "\n",
    "result = gmodel.fit(FWHMy420_2, z=d2_420_2, params=p)\n",
    "print(result.fit_report())\n",
    "\n",
    "result.plot('.')\n",
    "#plt.plot(X, xdata, '.')\n",
    "#plt.plot(X, result.init_fit, '--', label='initial fit')\n",
    "#plt.plot(X, result.best_fit, '-', label='best fit')\n",
    "plt.legend()\n",
    "#plt.show()"
   ]
  },
  {
   "cell_type": "code",
   "execution_count": null,
   "id": "c198d635-4cec-4f35-b0f7-fd95970ad268",
   "metadata": {},
   "outputs": [],
   "source": [
    "#plt.imshow(data_fitted)  #tamaño:  (150,150)\n",
    "#plt.show()"
   ]
  },
  {
   "cell_type": "code",
   "execution_count": null,
   "id": "af793b75-4305-4a49-be4e-2053fccab902",
   "metadata": {},
   "outputs": [],
   "source": [
    "#Primero se construye un arreglo con las ubicaciones/rutas de las fotos\n",
    "\n",
    "#d = 10\n",
    "\n",
    "#Modo en el que se define el tamaño de una matriz\n",
    "#matriz = [[0 for x in range(numero_columnas)] for y in range(numero__renglones)]\n",
    "#UbicacionFoto = [[0 for x in range(6)] for y in range(d)] \n",
    "'''\n",
    "# Ruta para fotos de 2 y 4 vortices con una separacion de 40 px\n",
    "UF_sep40_2vortices420 = np.array(list(sorted(Path(ruta7).glob('20241015-2vortices-p78015-p77614-sep40mu-*.png'))))\n",
    "UF_sep40_2vortices776 = np.array(list(sorted(Path(ruta6).glob('20241015-p776-14-sepX-40mu-d-*.png'))))\n",
    "UF_sep40_4vortices420 = np.array(list(sorted(Path(ruta12).glob('4vortices-sep40px-azul-p780-13mW7-p776-13mW-det40MHz-d*.jpg'))))\n",
    "UF_sep40_4vortices776 = np.array(list(sorted(Path(ruta12).glob('4vortices776/4vortices-sep40px-d*.jpg'))))\n",
    "\n",
    "# Ruta para fotos de 2 y 4 vortices con una separacion de 50 px\n",
    "UF_sep50_2vortices420 = np.array(list(sorted(Path(ruta12).glob('2vortices-vs-distancia/2vortices-sep50px-azul-p780-13mW-p776-13mW-det40MHz-d*.jpg'))))\n",
    "UF_sep50_2vortices776 = np.array(list(sorted(Path(ruta12).glob('2vortices-vs-distancia/2vortices-776/2vortices-sep50px-776-d*.jpg'))))\n",
    "UF_sep50_4vortices420 = np.array(list(sorted(Path(ruta12).glob('4vortices-sep40px-azul-p780-13mW7-p776-13mW-det40MHz-d*.jpg'))))\n",
    "UF_sep50_4vortices776 = np.array(list(sorted(Path(ruta12).glob('4vortices776/4vortices-sep40px-d*.jpg'))))\n",
    "\n",
    "# Ruta para fotos de 2 y 4 vortices con una separacion de 30 px\n",
    "UF_sep30_2vortices420 = np.array(list(sorted(Path(ruta10).glob('2vortices-azul/20241128-2vortices-30px-780-12mW776-12-d*.jpg'))))\n",
    "UF_sep30_2vortices776 = np.array(list(sorted(Path(ruta10).glob('20241128-2vortices-30px-780-12mW776-12-d*.jpg'))))\n",
    "UF_sep30_4vortices420 = np.array(list(sorted(Path(ruta8).glob('20241114_p780-12_p776-12_det-42_T-86_sep30px_d*.jpg'))))\n",
    "UF_sep30_4vortices776 = np.array(list(sorted(Path(ruta9).glob('20241114_p780-12_p776-12_det-42_T-86_sep30px_d*.jpg'))))\n",
    "\n",
    "UF_sep30_5vortices420 = np.array(list(sorted(Path(ruta8).glob('20241114_5vortices_p780-12_p776-12_det-42_T-86_sep30px_d*.jpg'))))\n",
    "UF_sep30_5vortices776 = np.array(list(sorted(Path(ruta9).glob('5vortices/20241114_p780-12_p776-12_det-42_T-86_sep30px_d*.jpg'))))\n",
    "\n",
    "UF_sep20_2vortices420 = np.array(list(sorted(Path(ruta11).glob('420-2vortices-sep20px/20241108-T86-p780-14mW-p776-12mW-del-42-sep20mu-d*.jpg'))))\n",
    "UF_sep20_2vortices776 = np.array(list(sorted(Path(ruta11).glob('776-2vortices-sep20px/20241108-2vortices-sep20px-776-d*.jpg'))))\n",
    "\n",
    "                                 \n",
    "UF_sep50_2vortices776.shape'''"
   ]
  },
  {
   "cell_type": "code",
   "execution_count": null,
   "id": "df7a93d0-8e0c-4db7-a3c6-7c50848888b8",
   "metadata": {},
   "outputs": [],
   "source": [
    "def removeBlack(img,offset=0):\n",
    "    imsize = np.shape(img)\n",
    "    if len(np.shape(img)) == 1:\n",
    "        for i in range(imsize[0]):\n",
    "            if img[i] < offset:\n",
    "                img[i] = 0\n",
    "    else:\n",
    "        for i in range(imsize[1]):\n",
    "            for j in range(imsize[0]):\n",
    "                if img[j,i] < offset:\n",
    "                    img[j,i] = 0\n",
    "    return img"
   ]
  },
  {
   "cell_type": "code",
   "execution_count": null,
   "id": "ad31bef0-e7cf-4323-a5dd-fdaf8a0016cc",
   "metadata": {},
   "outputs": [],
   "source": []
  },
  {
   "cell_type": "code",
   "execution_count": null,
   "id": "529e486b-621a-4197-a976-c29f5dfb13cf",
   "metadata": {},
   "outputs": [],
   "source": [
    "#prueba0 = mpimg.imread(UbicacionFoto[0]) \n",
    "prueba0 = mpimg.imread(UF_sep40_2vortices776[4]) \n",
    "prueba0 = np.array((prueba0*255)[400:600,540:760],dtype=int)[:,:,0]\n",
    "plt.imshow(prueba0, cmap = 'hot')  #tamaño:  (150,150)\n",
    "plt.show()\n",
    "prueba0"
   ]
  },
  {
   "cell_type": "code",
   "execution_count": null,
   "id": "2b308c3f-838f-4eda-b6f9-44132d342d5f",
   "metadata": {},
   "outputs": [],
   "source": [
    "from PIL import Image\n",
    "from PIL import Image\n",
    "import PIL.ImageOps "
   ]
  },
  {
   "cell_type": "code",
   "execution_count": null,
   "id": "4330004d-a81a-40c7-a146-2830e28acd4f",
   "metadata": {},
   "outputs": [],
   "source": [
    "# read image and convert it to grayscale and RGB \n",
    "image = cv2.imread(UF_sep40_2vortices776[10],cv2.IMREAD_GRAYSCALE)\n",
    "#gray_image=cv2.cvtColor(image, cv2.COLOR_BGR2GRAY)\n",
    "#rgb_image=cv2.cvtColor(image,cv2.COLOR_BGR2RGB)\n",
    "\n",
    "\n",
    "gray = cv2.GaussianBlur(image,(21,21), 0)\n",
    "print(gray.shape)\n",
    "(minVal, maxVal, minLoc, maxLoc) = cv2.minMaxLoc(gray)\n",
    "\n",
    "#    cv2.imshow(\"spot\", gray)\n",
    "#    rval, frame = cam.read()\n",
    "#    key = cv2.waitKey(20)\n",
    "cv2.circle(image, minLoc, 40, (255, 0, 0) )\n",
    "cv2.imshow(\"spot\",image)\n",
    "# create binary image\n",
    "#ret, binary_image= cv2.threshold(gray_image, 75, 255, 0)\n",
    "\n",
    "# Convert the image to grayscale\n",
    "#gray_image = cv2.cvtColor(image, cv2.COLOR_BGR2GRAY)\n",
    "\n",
    "# Define a threshold for dark regions (0-255)\n",
    "#threshold_value = 50  # You can adjust this threshold value based on your image\n",
    "\n",
    "# Apply a binary threshold to identify dark regions\n",
    "#_, dark_areas = cv2.threshold(gray_image, threshold_value, 255, cv2.THRESH_BINARY_INV)\n",
    "\n",
    "# Optionally, find contours of the dark areas\n",
    "#contours, _ = cv2.findContours(dark_areas, cv2.RETR_EXTERNAL, cv2.CHAIN_APPROX_SIMPLE)\n",
    "\n",
    "# Draw contours on the original image\n",
    "#cv2.drawContours(image, contours, -1, (0, 255, 0), 2)\n",
    "\n",
    "# Show the image with dark areas highlighted\n",
    "#cv2.imshow('Dark Areas', image)\n",
    "#key = cv2.waitKey(20)\n",
    "cv2.destroyWindow(\"spot\")\n",
    "#cv2.waitKey(1)"
   ]
  },
  {
   "cell_type": "code",
   "execution_count": null,
   "id": "d631da12-fb35-4e18-aee8-a4fdad1f6ed4",
   "metadata": {},
   "outputs": [],
   "source": [
    "prueba=removeBlack(prueba0,0)"
   ]
  },
  {
   "cell_type": "code",
   "execution_count": null,
   "id": "1ef0d55d-91de-4f8c-9891-28d09692afda",
   "metadata": {},
   "outputs": [],
   "source": [
    "#img = Image.open(\"archive.extension\") \n",
    "img = Image.open(UF_sep40_2vortices776[4])\n",
    "\n",
    "pixels = img.load()\n",
    "\n",
    "for i in range(img.size[0]):\n",
    "    for j in range(img.size[1]):\n",
    "        x,y,z = pixels[i,j][0],pixels[i,j][1],pixels[i,j][2]\n",
    "        x,y,z = abs(x-255), abs(y-255), abs(z-255)\n",
    "        pixels[i,j] = (x,y,z)\n",
    "\n",
    "#img.show()\n",
    "plt.imshow(img, cmap = 'hot')  #tamaño:  (150,150)\n",
    "plt.show()\n",
    "#plt.show()"
   ]
  },
  {
   "cell_type": "code",
   "execution_count": null,
   "id": "f2194532-d029-41f8-96ce-99edd7b52c2f",
   "metadata": {},
   "outputs": [],
   "source": [
    "#PIL.ImageChops.invert(PIL.Image.open(UF_sep20_2vortices776[4]))"
   ]
  },
  {
   "cell_type": "code",
   "execution_count": null,
   "id": "869808cd-231a-4f05-8105-857fa5f725e5",
   "metadata": {},
   "outputs": [],
   "source": [
    "global choise, offset, vis\n",
    "choice = 'fw1e2'\n",
    "offset = 0\n",
    "vis = True"
   ]
  },
  {
   "cell_type": "code",
   "execution_count": null,
   "id": "f8ccc436-2c63-41e6-8c7f-632d80d23ce5",
   "metadata": {},
   "outputs": [],
   "source": [
    "global limits,saturationlim,pixels\n",
    "limits = [0,6.66,0,5.32]\n",
    "saturationlim = 255\n",
    "pixels = [1280,1024]"
   ]
  },
  {
   "cell_type": "code",
   "execution_count": null,
   "id": "61f6d4e0-8d61-4109-ae53-81b9f475cca0",
   "metadata": {},
   "outputs": [],
   "source": [
    "def gaus(x,a,mu,sigma):\n",
    "    return a*np.exp(-(x-mu)**2/(2*sigma**2))"
   ]
  },
  {
   "cell_type": "code",
   "execution_count": null,
   "id": "ee9ea51a-abcd-47a3-a0ab-b0344aae13b4",
   "metadata": {},
   "outputs": [],
   "source": [
    "x = np.linspace(0,limits[1],pixels[0])\n",
    "y = np.linspace(0,limits[3],pixels[1])\n",
    "v =x,y"
   ]
  },
  {
   "cell_type": "code",
   "execution_count": null,
   "id": "62d0d96d-eccd-42b2-80fc-6d55bedbb8e2",
   "metadata": {},
   "outputs": [],
   "source": [
    "def gauss2D(v, c, a, x0, y0, sx, sy):\n",
    "    \"\"\" A 2D version of the gaussian bell function.\n",
    "\n",
    "    Parameters\n",
    "    ----------\n",
    "    v: tuple of two array\n",
    "        x and y coordinates\n",
    "    c: float\n",
    "        Offset\n",
    "    a: float\n",
    "        Amplitute\n",
    "    x0: float\n",
    "        Center in x.\n",
    "    y0: float\n",
    "        Center in y.\n",
    "    sx : float\n",
    "        Standard deviation in x.\n",
    "    sy : float\n",
    "        Standard deviation in y.\n",
    "    Returns\n",
    "    -------\n",
    "    array\n",
    "        Function values.  \n",
    "    \"\"\"\n",
    "   \n",
    "    #x, y = v\n",
    "    argx = -(x - x0)**2 / (2 * sx**2)\n",
    "    argy = -(y - y0)**2 / (2 * sy**2)\n",
    "    return c + a*np.exp(argx+argy)"
   ]
  },
  {
   "cell_type": "code",
   "execution_count": null,
   "id": "66e99ec5-97ac-4d81-beb0-19f6735437ed",
   "metadata": {},
   "outputs": [],
   "source": [
    "im = Image.open(UF_sep40_2vortices776[8])\n",
    "im = im.convert('L')\n",
    "im = PIL.ImageOps.invert(im)\n",
    "im = im.convert('1')\n",
    "plt.imshow(im)  #tamaño:  (150,150)\n",
    "plt.show()"
   ]
  },
  {
   "cell_type": "code",
   "execution_count": null,
   "id": "274062c9-9e67-4945-8c26-ba80d8126f26",
   "metadata": {},
   "outputs": [],
   "source": [
    "type(im)"
   ]
  },
  {
   "cell_type": "code",
   "execution_count": null,
   "id": "1b0df868-f852-4245-ad8f-fb0b2d9b54fb",
   "metadata": {},
   "outputs": [],
   "source": [
    "shape = np.array(im).shape\n",
    "shape"
   ]
  },
  {
   "cell_type": "code",
   "execution_count": null,
   "id": "54f08883-92f6-438b-b7f4-99f135207e47",
   "metadata": {},
   "outputs": [],
   "source": [
    "prueba0 = np.array((im) ,dtype=int)\n",
    "prueba0"
   ]
  },
  {
   "cell_type": "code",
   "execution_count": null,
   "id": "271a1b24-4ad4-4951-a593-721610385360",
   "metadata": {},
   "outputs": [],
   "source": []
  },
  {
   "cell_type": "code",
   "execution_count": null,
   "id": "cbf5536b-a195-429e-ab64-8df5b7333fbb",
   "metadata": {},
   "outputs": [],
   "source": []
  },
  {
   "cell_type": "code",
   "execution_count": null,
   "id": "5c1525a0-6ea1-4c9f-ba59-ed38cb6b66f6",
   "metadata": {},
   "outputs": [],
   "source": [
    "img = cv2.imread(UF_sep50_2vortices776[9])\n",
    "image = cv2.cvtColor(img,cv2.COLOR_BGR2GRAY)  \n",
    "    #find contours\n",
    "\n",
    "#contours, _ = cv2.findContours(image, cv2.RETR_EXTERNAL, cv2.CHAIN_APPROX_SIMPLE)\n",
    "\n",
    "#draw these contours\n",
    "#thresh=cv2.threshold(image, 140, 255, cv2.THRESH_BINARY )[1] # threshold level is ~10\n",
    "#x, y, w, h = cv2.boundingRect(thresh)\n",
    "#crop = img[y:y+h, x:x+w]\n",
    "#imshow(crop)\n",
    "#gray = cv2.filter2D(image,(21,21), 1)\n",
    "gray = cv2.GaussianBlur(image,(21,21), 0)\n",
    "imshow(gray[450:700,400:700])"
   ]
  },
  {
   "cell_type": "code",
   "execution_count": null,
   "id": "023f54a6-15d1-43e4-aa7e-486536a4432a",
   "metadata": {},
   "outputs": [],
   "source": [
    "img = cv2.imread(UF_sep50_2vortices776[7])\n",
    "image = cv2.cvtColor(img,cv2.COLOR_BGR2GRAY)  \n",
    "\n",
    "image = cv2.GaussianBlur(image,(21,21), 0)\n",
    "\n",
    "    #find contours\n",
    "contours, _ = cv2.findContours(image, cv2.RETR_EXTERNAL, cv2.CHAIN_APPROX_SIMPLE)\n",
    "\n",
    "    #draw these contours\n",
    "thresh=cv2.threshold(image, 100, 255, cv2.THRESH_BINARY )[1] # threshold level is ~10\n",
    "x, y, w, h = cv2.boundingRect(thresh)\n",
    "crop = img[y:y+h, x:x+w]\n",
    "imshow(crop)\n",
    "#gray = cv2.GaussianBlur(crop,(21,21), 0)\n",
    "#print(gray.shape)\n",
    "#(minVal, maxVal, minLoc, maxLoc) = cv2.minMaxLoc(gray)\n",
    "\n",
    "#    cv2.imshow(\"spot\", gray)\n",
    "#    rval, frame = cam.read()\n",
    "#    key = cv2.waitKey(20)\n",
    "#cv2.circle(crop, minLoc, 40, (255, 0, 0) )\n",
    "#cv2.imshow(\"spot\",crop)\n",
    "\n",
    "#key = cv2.waitKey(20)\n",
    "#cv2.destroyWindow(\"spot\")"
   ]
  },
  {
   "cell_type": "code",
   "execution_count": null,
   "id": "f18c6e11-c5cc-40ca-8bb4-af29790d5962",
   "metadata": {},
   "outputs": [],
   "source": [
    "#prueba0 = mpimg.imread(UbicacionFoto[0]) \n",
    "prueba0 = mpimg.imread(UF_sep50_2vortices776[5]) \n",
    "prueba0 = np.array((prueba0),dtype=int)[:,:,0]\n",
    "#[579:600,400:550]\n",
    "plt.imshow(prueba0, cmap = 'hot')  #tamaño:  (150,150)\n",
    "plt.show()\n",
    "prueba0\n"
   ]
  },
  {
   "cell_type": "code",
   "execution_count": null,
   "id": "671ad938-19ab-4108-b4d2-b7548a0173b9",
   "metadata": {},
   "outputs": [],
   "source": [
    "#center_y_50px_776\n",
    "\n",
    "y=[578,578,570,569,565, 557,552,554,551,545,543,541,538,535,535,532,530,520,520,518,520,520]"
   ]
  },
  {
   "cell_type": "code",
   "execution_count": null,
   "id": "2d8d2948-f72f-406a-939b-652defb947b9",
   "metadata": {},
   "outputs": [],
   "source": [
    "from matplotlib.patches import Circle, Rectangle\n",
    "from skimage import transform\n",
    "from skimage.color import rgb2gray\n",
    "from skimage.feature import match_template\n",
    "from skimage.feature import peak_local_max\n",
    "import skimage"
   ]
  },
  {
   "cell_type": "code",
   "execution_count": null,
   "id": "37b46aaa-64b7-42cf-b5f3-ee7829561d38",
   "metadata": {},
   "outputs": [],
   "source": [
    "im = cv2.imread(UF_sep40_2vortices776[12], cv2.IMREAD_GRAYSCALE)\n",
    "# create the detector with default parameters.\n",
    "detector = cv2.SimpleBlobDetector_create()\n",
    " \n",
    "# Detect dots.\n",
    "keypoints = detector.detect(im)\n",
    "\n",
    "print(\"Black Dots Count is:\",len(keypoints))\n",
    "\n",
    "# Draw detected blobs as red circles.\n",
    "im_with_keypoints = cv2.drawKeypoints(im, keypoints, np.array([]), (0,0,250), cv2.DRAW_MATCHES_FLAGS_DRAW_RICH_KEYPOINTS)\n",
    "\n",
    "cv2.imshow(\"Output image:\", im_with_keypoints)\n",
    "\n",
    "cv2.destroyAllWindows()"
   ]
  },
  {
   "cell_type": "code",
   "execution_count": null,
   "id": "3164e930-bc6d-4c47-bab0-f8b030541918",
   "metadata": {},
   "outputs": [],
   "source": [
    "from skimage.draw import circle_perimeter\n",
    "#(M,N) = img.shape\n",
    "mm =200\n",
    "nn = 200\n",
    "template = np.zeros([mm,nn])\n",
    "\n",
    "## Create template ##\n",
    "\n",
    "#darkest inner circle (pupil)\n",
    "(rr,cc) = circle_perimeter(100,100,10)\n",
    "template[rr,cc]=-1\n",
    "\n",
    "#iris (circle surrounding pupil)\n",
    "#(rr,cc) = circle_perimeter(120,120,10)\n",
    "#template[rr,cc] = -1\n",
    "\n",
    "#Optional - pupil reflective spot (if centered)\n",
    "#(rr,cc) = circle_perimeter(100,100,4)\n",
    "#template[rr,cc] = 1\n",
    "\n",
    "plt.imshow(template)"
   ]
  },
  {
   "cell_type": "code",
   "execution_count": null,
   "id": "d56447b0-d3fa-4c6c-80a8-01c93dd8dda2",
   "metadata": {},
   "outputs": [],
   "source": []
  },
  {
   "cell_type": "code",
   "execution_count": null,
   "id": "448cb04e-227c-47d5-b02b-8679581ad4e5",
   "metadata": {},
   "outputs": [],
   "source": [
    "(minVal, maxVal, minLoc, maxLoc) = cv2.minMaxLoc(image)"
   ]
  },
  {
   "cell_type": "markdown",
   "id": "33a0581f-0514-44bf-8c05-48f7ea8ec5bf",
   "metadata": {},
   "source": [
    "## Análisis para fotos con 2 vórtices y separación de 40 px en azul"
   ]
  },
  {
   "cell_type": "code",
   "execution_count": null,
   "id": "7ef3b353-72d5-4287-b8c7-eaafe158a6f0",
   "metadata": {},
   "outputs": [],
   "source": [
    "# Definimos nuestro patrón que vamos a utilizar para comparar con la foto original, vamos a utilizar una imagen \n",
    "img = cv2.imread(UF_sep40_2vortices420[15])\n",
    "#image = cv2.cvtColor(img,cv2.COLOR_BGR2GRAY)  \n",
    "img = cv2.GaussianBlur(img,(21,21), 0)\n",
    "img = np.mean(img, axis=2)\n",
    "template = img[500:560,760:810]\n",
    "plt.imshow(template)"
   ]
  },
  {
   "cell_type": "code",
   "execution_count": null,
   "id": "da362a76-6af8-499e-b0ef-865b5e31533a",
   "metadata": {},
   "outputs": [],
   "source": [
    "img = cv2.imread(UF_sep40_2vortices420[14])\n",
    "img = np.mean(img, axis=2)\n",
    "\n",
    "resulting_image = match_template(img, template)\n",
    "plt.figure(num=None, figsize=(8, 6), dpi=80)\n",
    "imshow(resulting_image, cmap='magma');"
   ]
  },
  {
   "cell_type": "code",
   "execution_count": null,
   "id": "562c3ead-c7d1-4182-b3bd-7a60603d94a0",
   "metadata": {},
   "outputs": [],
   "source": [
    "x, y = np.unravel_index(np.argmax(resulting_image), resulting_image.shape)\n",
    "template_width, template_height = template.shape\n",
    "rect = plt.Rectangle((y, x), template_height, template_width, \n",
    "                     color='r', fc='none')\n",
    "plt.figure(num=None, figsize=(8, 6), dpi=80)\n",
    "plt.gca().add_patch(rect)\n",
    "imshow(img);"
   ]
  },
  {
   "cell_type": "code",
   "execution_count": null,
   "id": "8cf198b0-f2da-4b2e-848c-84089f4af89b",
   "metadata": {},
   "outputs": [],
   "source": [
    "template_width, template_height = template.shape    \n",
    "plt.figure(num=None, figsize=(8, 6), dpi=80)\n",
    "for x, y in peak_local_max(resulting_image, threshold_abs=0.70, \n",
    "                           exclude_border = 20):\n",
    "    rect = plt.Rectangle((y, x), template_height, template_width,\n",
    "                          color='r', fc='none')\n",
    "    plt.gca().add_patch(rect)\n",
    "    print(x,y)\n",
    "imshow(img);"
   ]
  },
  {
   "cell_type": "code",
   "execution_count": null,
   "id": "a62bed12-ce9a-4d72-b4cc-665b47064cdc",
   "metadata": {},
   "outputs": [],
   "source": [
    "F1_2v = [(495,533),(514,582)]\n",
    "F2_2v = [(493,555),(519,603)]\n",
    "F3_2v = [(491,592),(523,644)]\n",
    "F4_2v = [(491,614),(527,666)]\n",
    "F5_2v = [(490,626),(527,682)]  #foto5\n",
    "F6_2v = [(491,642),(529,697)]\n",
    "F7_2v = [(494,657),(529,717)]\n",
    "F8_2v = [(493,671),(531,729)]\n",
    "F9_2v = [(495,688),(530,748)]\n",
    "F10_2v = [(496,706),(531,766)]\n",
    "F11_2v = [(495,720),(533,787)]\n",
    "F12_2v = [(499,732),(535,801)]\n",
    "F13_2v = [(499,756),(536,825)]\n",
    "F14_2v = [(500,828),(536,898)]\n",
    "F15_2v = [(500,760),(539,832)]\n",
    "F16_2v =[(506,772),(542,845)]"
   ]
  },
  {
   "cell_type": "code",
   "execution_count": null,
   "id": "3368bf93-49ac-4bf2-b382-74a6fb849497",
   "metadata": {},
   "outputs": [],
   "source": [
    "F_2V =[F1_2v,F2_2v,F3_2v,F4_2v,F5_2v,F6_2v,F7_2v,F8_2v,F9_2v,F10_2v,F11_2v,F12_2v,F13_2v,F14_2v,F15_2v,F16_2v]"
   ]
  },
  {
   "cell_type": "code",
   "execution_count": null,
   "id": "fd8b062a-4cac-474e-97b6-85cc9d3a7308",
   "metadata": {},
   "outputs": [],
   "source": [
    "limits = [0,6.66,0,5.32]\n",
    "saturationlim = 255\n",
    "pixels = [1280,1024]"
   ]
  },
  {
   "cell_type": "code",
   "execution_count": null,
   "id": "403ce7dd-0efe-4a8f-82e3-9e5dc911ec13",
   "metadata": {},
   "outputs": [],
   "source": [
    "6.66/pixels[0],5.32/pixels[1]"
   ]
  },
  {
   "cell_type": "code",
   "execution_count": null,
   "id": "b58c832f-4fcb-44db-b233-260753c1baf6",
   "metadata": {},
   "outputs": [],
   "source": [
    "c401x=[]\n",
    "c402x=[]\n",
    "c402xT=[]\n",
    "c401y=[]\n",
    "c402y=[]\n",
    "c402yT=[]\n",
    "\n",
    "for i in F_2V:\n",
    "    c401x.append(i[0][0])\n",
    "    c402x.append(i[1][0]) \n",
    "    difx=(np.abs(i[0][0]-i[1][0])/2)*5.2\n",
    "    c402xT.append(difx)\n",
    "    c401y.append(i[0][1])\n",
    "    c402y.append(i[1][1])\n",
    "    dify=(np.abs(i[0][1]-i[1][1])/2)*5.2\n",
    "    c402yT.append(dify)   "
   ]
  },
  {
   "cell_type": "code",
   "execution_count": null,
   "id": "51713121-3f48-4dc4-aafe-c11ff876c7cc",
   "metadata": {},
   "outputs": [],
   "source": [
    "#plt.plot(c402xT,'*')"
   ]
  },
  {
   "cell_type": "code",
   "execution_count": null,
   "id": "8099a8eb-f703-40e3-b734-bf49c55c0704",
   "metadata": {},
   "outputs": [],
   "source": [
    "plt.plot(c402xT,c402yT,'*')\n",
    "plt.xlabel(\"X[$\\mu m$]\")\n",
    "plt.ylabel(\"Y[$\\mu m$]\")"
   ]
  },
  {
   "cell_type": "code",
   "execution_count": null,
   "id": "f254e8e5-e433-4a06-8d41-4751076a2e1d",
   "metadata": {},
   "outputs": [],
   "source": [
    "#plt.plot(c402yT, '*')"
   ]
  },
  {
   "cell_type": "code",
   "execution_count": null,
   "id": "565fd281-4ea1-4200-9dad-9b82a7ae49e4",
   "metadata": {},
   "outputs": [],
   "source": [
    "plt.figure(\"foto vs cuentas \")\n",
    "plt.figure(figsize=(8,6))\n",
    "plt.plot(c401y,'*')\n",
    "plt.plot(c402y,'*')"
   ]
  },
  {
   "cell_type": "code",
   "execution_count": null,
   "id": "a2727c5d-c720-4cc8-bb1f-2dda1a70c390",
   "metadata": {},
   "outputs": [],
   "source": [
    "plt.figure(\"foto vs cuentas \")\n",
    "plt.figure(figsize=(8,6))\n",
    "plt.plot(c401x,'*')\n",
    "plt.plot(c402x,'*')"
   ]
  },
  {
   "cell_type": "markdown",
   "id": "41c0b678-5cb3-4ea6-aa67-8b9f4de2b8da",
   "metadata": {},
   "source": [
    "## Análisis para fotos con 2 vórtices y separación de 40 px en rojo"
   ]
  },
  {
   "cell_type": "code",
   "execution_count": null,
   "id": "55d6b2ba-fee6-4bbd-9ebc-e51ff6170514",
   "metadata": {},
   "outputs": [],
   "source": [
    "img = cv2.imread(UF_sep40_2vortices776[0])\n",
    "#image = cv2.cvtColor(img,cv2.COLOR_BGR2GRAY)  \n",
    "#img = cv2.GaussianBlur(img,(21,21), 0)\n",
    "img = np.mean(img, axis=2)\n",
    "template = img[490:510,631:690]\n",
    "plt.imshow(template)"
   ]
  },
  {
   "cell_type": "code",
   "execution_count": null,
   "id": "aa463486-e4ee-4060-8f49-ee6db856a139",
   "metadata": {},
   "outputs": [],
   "source": [
    "sep2v40px = 50*5.2    #Separación en micras 260 micras"
   ]
  },
  {
   "cell_type": "code",
   "execution_count": null,
   "id": "9d4ad259-35c0-4574-be69-cf17a92beb62",
   "metadata": {},
   "outputs": [],
   "source": [
    "img2 = cv2.imread(UF_sep40_2vortices776[12])\n",
    "#image = cv2.cvtColor(img,cv2.COLOR_BGR2GRAY)  \n",
    "img2 = cv2.GaussianBlur(img2,(21,21), 0)\n",
    "img2 = np.mean(img2, axis=2)\n",
    "template2_776 = img2[440:520,560:620]\n",
    "plt.imshow(template2_776)"
   ]
  },
  {
   "cell_type": "code",
   "execution_count": null,
   "id": "3a72b804-3833-4312-bb2c-937d455f390f",
   "metadata": {},
   "outputs": [],
   "source": [
    "img = cv2.imread(UF_sep40_2vortices776[21])\n",
    "img = np.mean(img, axis=2)\n",
    "\n",
    "resulting_image = match_template(img, template2)\n",
    "plt.figure(num=None, figsize=(8, 6), dpi=80)\n",
    "imshow(resulting_image, cmap='magma');"
   ]
  },
  {
   "cell_type": "code",
   "execution_count": null,
   "id": "c0cee90b-c055-48bb-a4e8-93683dae2b68",
   "metadata": {},
   "outputs": [],
   "source": [
    "x, y = np.unravel_index(np.argmax(resulting_image), resulting_image.shape)\n",
    "template_width, template_height = template2.shape\n",
    "rect = plt.Rectangle((y, x), template_height, template_width, \n",
    "                     color='r', fc='none')\n",
    "plt.figure(num=None, figsize=(8, 6), dpi=80)\n",
    "plt.gca()\n",
    "\n",
    "\n",
    "\n",
    "\n",
    "\n",
    ".add_patch(rect)\n",
    "imshow(img);"
   ]
  },
  {
   "cell_type": "code",
   "execution_count": null,
   "id": "04a4d403-cefc-4842-bc0d-9df3925e4cd7",
   "metadata": {},
   "outputs": [],
   "source": [
    "template_width, template_height = template2.shape    \n",
    "plt.figure(num=None, figsize=(8, 6), dpi=80)\n",
    "for x, y in peak_local_max(resulting_image, threshold_abs=0.63, \n",
    "                           exclude_border = 20):\n",
    "    rect = plt.Rectangle((y, x), template_height, template_width,\n",
    "                          color='r', fc='none')\n",
    "    plt.gca().add_patch(rect)\n",
    "    print(x,y)\n",
    "imshow(img);"
   ]
  },
  {
   "cell_type": "code",
   "execution_count": null,
   "id": "37267aa6-1edc-47ee-943a-1ca58a9e0143",
   "metadata": {},
   "outputs": [],
   "source": [
    "F2 = [(464,588),(466,641)]\n",
    "F3 = [(455,584),(464,641)]\n",
    "F4 = [(451,580),(463,640)]\n",
    "F5 = [(449,575),(465,634)]\n",
    "F6 = [(446,573),(468,628)]\n",
    "F7 = [(444,570),(470,625)]\n",
    "F8 = [(441,567),(470,625)]\n",
    "F9 = [(439,570),(471,629)]\n",
    "F10 = [(437,568),(473,629)]\n",
    "F11 = [(435,563),(472,626)]\n",
    "F12 = [(435,560),(473,627)]\n",
    "F13 = [(435,558),(476,627)]\n",
    "F14 = [(434,555),(475,627)]\n",
    "F15 = [(431,561),(475,636)]\n",
    "F16 = [(429,565),(473,640)]\n",
    "F17 = [(423,576),(464,655)]\n",
    "F18 = [(426,565),(469,642)]\n",
    "F19 = [(424,576),(471,655)]\n",
    "F20 = [(424,577),(467,657)]\n",
    "#F21 = [(464 641),()]\n",
    "#F22 = [(464 641),()]\n",
    "#F23 = [(464 641),()]\n",
    "#F24 = [(464 641),()]"
   ]
  },
  {
   "cell_type": "code",
   "execution_count": null,
   "id": "2de06a25-bf5b-4ad4-87ec-e8d99b2da4f8",
   "metadata": {},
   "outputs": [],
   "source": [
    "F=[F2,F3,F4,F5,F6,F7,F8,F9,F10,F11,F12,F13,F14,F15,F16,F17,F18,F19,F20]"
   ]
  },
  {
   "cell_type": "code",
   "execution_count": null,
   "id": "4480d6d0-9203-45b3-af34-a3cec77c1f9e",
   "metadata": {},
   "outputs": [],
   "source": [
    "c40_776_1x=[]\n",
    "c40_776_2x=[]\n",
    "c40_776_2xT=[]\n",
    "c40_776_1y=[]\n",
    "c40_776_2y=[]\n",
    "c40_776_2yT=[]\n",
    "\n",
    "for i in F:\n",
    "    c40_776_1x.append(i[0][0])\n",
    "    c40_776_2x.append(i[1][0]) \n",
    "    difx =(np.abs(i[0][0]-i[1][0])/2)\n",
    "    c40_776_2xT.append(difx)\n",
    "    c40_776_1y.append(i[0][1])\n",
    "    c40_776_2y.append(i[1][1])\n",
    "    dify=(np.abs(i[0][1]-i[1][1])/2)\n",
    "    c40_776_2yT.append(dify)"
   ]
  },
  {
   "cell_type": "code",
   "execution_count": null,
   "id": "622d66b7-ec56-4754-9589-08feebd7438e",
   "metadata": {},
   "outputs": [],
   "source": [
    "plt.plot(c40_776_2xT,c40_776_2yT,'*')\n",
    "plt.xlabel(\"X[$\\mu m$]\")\n",
    "plt.ylabel(\"Y[$\\mu m$]\")"
   ]
  },
  {
   "cell_type": "code",
   "execution_count": null,
   "id": "56014c15-4124-448a-89fd-9bf755cf4ddd",
   "metadata": {},
   "outputs": [],
   "source": [
    "plt.figure(\"foto vs cuentas \")\n",
    "plt.figure(figsize=(8,6))\n",
    "plt.plot(c40_776_1y,'*')\n",
    "plt.plot(c40_776_2y,'*')"
   ]
  },
  {
   "cell_type": "code",
   "execution_count": null,
   "id": "e76ecc4a-82d5-42f8-bd51-fdcea6fae7e7",
   "metadata": {},
   "outputs": [],
   "source": [
    "plt.figure(\"foto vs cuentas \")\n",
    "plt.figure(figsize=(8,6))\n",
    "plt.plot(c40_776_1x,'*')\n",
    "plt.plot(c40_776_2x,'*')"
   ]
  },
  {
   "cell_type": "code",
   "execution_count": null,
   "id": "e7689cfe-865f-4af6-8d8c-14e58e3d5839",
   "metadata": {},
   "outputs": [],
   "source": [
    "plt.figure(\"foto vs cuentas \")\n",
    "plt.figure(figsize=(8,6))\n",
    "plt.plot(c401y,'*')\n",
    "plt.plot(c402y,'*')\n"
   ]
  },
  {
   "cell_type": "code",
   "execution_count": null,
   "id": "e28a48c2-b362-4fe3-b640-e4260721e7dc",
   "metadata": {},
   "outputs": [],
   "source": [
    "center_y_40px_420 = []\n",
    "center_x_40px_420 = []\n",
    "#files = sorted(glob.glob (np.array(list(sorted(Path(ruta6).glob('20241015-p776-14-sepX-40mu-d-*.png'))))))\n",
    "template_width, template_height = template2.shape  \n",
    "for file in  UF_sep40_2vortices420: \n",
    "    img = cv2.imread(file)\n",
    "    img = np.mean(img, axis=2)  \n",
    "    resulting_image = match_template(img, template2)\n",
    "    for x, y in peak_local_max(resulting_image, threshold_abs=0.75, \n",
    "                               exclude_border = 20):\n",
    "        rect = plt.Rectangle((y, x), template_height, template_width,\n",
    "                              color='r', fc='none')\n",
    "        center_y_40px_420.append(y)\n",
    "        center_x_40px_420.append(x)        "
   ]
  },
  {
   "cell_type": "code",
   "execution_count": null,
   "id": "6899cca8-d260-470d-9ae1-4b4932c33e1b",
   "metadata": {},
   "outputs": [],
   "source": []
  },
  {
   "cell_type": "code",
   "execution_count": null,
   "id": "233d9956-e842-4fd6-b145-07818ab81e5c",
   "metadata": {},
   "outputs": [],
   "source": [
    "#plt.plot(center_y_40px_420, '*')"
   ]
  },
  {
   "cell_type": "code",
   "execution_count": null,
   "id": "987fee4b-994c-412b-9cfe-f1f53b882e83",
   "metadata": {},
   "outputs": [],
   "source": [
    "#plt.plot(center_x_40px_420, '*')"
   ]
  },
  {
   "cell_type": "code",
   "execution_count": null,
   "id": "d5de54ee-4d7b-47a8-9d72-81bffcab1564",
   "metadata": {},
   "outputs": [],
   "source": [
    "center_y_40px_420_2 = []\n",
    "center_x_40px_420_2 = []\n",
    "#files = sorted(glob.glob (np.array(list(sorted(Path(ruta6).glob('20241015-p776-14-sepX-40mu-d-*.png'))))))\n",
    "template_width, template_height = template.shape  \n",
    "for file in  UF_sep40_2vortices420: \n",
    "    img = cv2.imread(file)\n",
    "    img = np.mean(img, axis=2)  \n",
    "    resulting_image = match_template(img, template)\n",
    "    #plt.figure(num=None, figsize=(8, 6), dpi=80)\n",
    "    for x, y in peak_local_max(resulting_image, threshold_abs=0.70, \n",
    "                               exclude_border = 20):\n",
    "        rect = plt.Rectangle((y, x), template_height, template_width,\n",
    "                              color='r', fc='none')\n",
    "        center_y_40px_420_2.append(y)\n",
    "        center_x_40px_420_2.append (x)\n",
    "        #plt.gca().add_patch(rect)\n",
    "        #print(x,y)"
   ]
  },
  {
   "cell_type": "code",
   "execution_count": null,
   "id": "e5f1bbba-c808-4e73-8165-3fc8fd7fe483",
   "metadata": {},
   "outputs": [],
   "source": [
    "#plt.plot(center_y_40px_420_2, '*')"
   ]
  },
  {
   "cell_type": "code",
   "execution_count": null,
   "id": "b37799fb-3bc3-4b4e-ac8b-31abc301dabd",
   "metadata": {},
   "outputs": [],
   "source": [
    "#plt.plot(center_x_40px_420_2, '*')"
   ]
  },
  {
   "cell_type": "markdown",
   "id": "32604c6d-5b8b-4ddb-a0c5-6ee632a0b4be",
   "metadata": {},
   "source": [
    "# 4 vortices de 420 con 40px de separación\n"
   ]
  },
  {
   "cell_type": "code",
   "execution_count": null,
   "id": "1250dc87-dd3d-4bde-a06d-53d4af6d3be6",
   "metadata": {},
   "outputs": [],
   "source": [
    "img2 = cv2.imread(UF_sep40_4vortices420[15])\n",
    "#image = cv2.cvtColor(img,cv2.COLOR_BGR2GRAY)  \n",
    "img2 = cv2.GaussianBlur(img2,(21,21), 0)\n",
    "img2 = np.mean(img2, axis=2)\n",
    "template2 = img2[470:530,680:724]\n",
    "plt.imshow(template2)"
   ]
  },
  {
   "cell_type": "code",
   "execution_count": null,
   "id": "cac5871b-baef-4872-badc-3e4e2c8ca98f",
   "metadata": {},
   "outputs": [],
   "source": [
    "img = cv2.imread(UF_sep50_4vortices420[16])\n",
    "img = np.mean(img, axis=2)\n",
    "\n",
    "resulting_image = match_template(img, template2)\n",
    "plt.figure(num=None, figsize=(8, 6), dpi=80)\n",
    "imshow(resulting_image, cmap='magma');"
   ]
  },
  {
   "cell_type": "code",
   "execution_count": null,
   "id": "e3c8392b-ae77-44a3-8b0b-e470b7f426aa",
   "metadata": {},
   "outputs": [],
   "source": [
    "x, y = np.unravel_index(np.argmax(resulting_image), resulting_image.shape)\n",
    "template_width, template_height = template2.shape\n",
    "rect = plt.Rectangle((y, x), template_height, template_width, \n",
    "                     color='r', fc='none')\n",
    "plt.figure(num=None, figsize=(8, 6), dpi=80)\n",
    "plt.gca().add_patch(rect)\n",
    "imshow(img);"
   ]
  },
  {
   "cell_type": "code",
   "execution_count": null,
   "id": "946adfce-fde2-4520-89b6-20129df4fbdc",
   "metadata": {},
   "outputs": [],
   "source": [
    "template_width, template_height = template2.shape    \n",
    "plt.figure(num=None, figsize=(8, 6), dpi=80)\n",
    "for x, y in peak_local_max(resulting_image, threshold_abs=0.65, \n",
    "                           exclude_border = 20):\n",
    "    rect = plt.Rectangle((y, x), template_height, template_width,\n",
    "                          color='r', fc='none')\n",
    "    plt.gca().add_patch(rect)\n",
    "    print(x,y)\n",
    "imshow(img);"
   ]
  },
  {
   "cell_type": "code",
   "execution_count": null,
   "id": "25bb7902-ab20-43bc-bd12-716988f71fbf",
   "metadata": {},
   "outputs": [],
   "source": [
    "F40_4V1 =[(443,624),(469,695),(507,774),(536,837)]\n",
    "\n",
    "\n",
    "F40_4V2 =[(483,428),(503,472),(527,523),(547,564)]\n",
    "F40_4V3 =[(481,437),(501,481),(528,534),(549,577)]\n",
    "F40_4V4 =[(482,449),(500,495),(531,549),(552,594)]\n",
    "F40_4V5 =[(477,466),(500,510),(529,571),(555,613)]\n",
    "F40_4V6 =[(479,480),(497,526),(531,587),(554,631)]\n",
    "F40_4V7 =[(473,492),(501,539),(531,605),(560,646)]   \n",
    "F40_4V8 =[(474,507),(495,556),(533,621),(561,666)]   \n",
    "F40_4V9 =[(473,519),(494,566),(534,638),(564,681)]\n",
    "F40_4V10 =[(471,534),(498,580),(537,653),(567,698)]\n",
    "F40_4V11 =[(471,547),(493,595),(536,674),(569,716)]   \n",
    "F40_4V12 =[(468,566),(485,615),(538,691),(567,738)]\n",
    "F40_4V13 =[(469,580),(495,629),(535,713),(567,757)]\n",
    "F40_4V14 =[(466,595),(480,646),(536,730),(571,774)]\n",
    "F40_4V15 =[(469,617),(499,664),(537,756),(573,800)]\n",
    "F40_4V16 =[(470,635),(500,680),(540,775),(576,819)]\n",
    "F40_4V17 =[(469,639),(499,686),(543,783),(581,826)]\n"
   ]
  },
  {
   "cell_type": "code",
   "execution_count": null,
   "id": "5f5ebd0c-0174-4ae6-8a8d-c7be38db42da",
   "metadata": {},
   "outputs": [],
   "source": [
    "center_4V_y_40px_420 = []\n",
    "center_4V_x_40px_420 = []\n",
    "#files = sorted(glob.glob (np.array(list(sorted(Path(ruta6).glob('20241015-p776-14-sepX-40mu-d-*.png'))))))\n",
    "template_width, template_height = template2.shape  \n",
    "for file in  UF_sep40_4vortices420: \n",
    "    img = cv2.imread(file)\n",
    "    img = np.mean(img, axis=2)  \n",
    "    resulting_image = match_template(img, template2)\n",
    "    #plt.figure(num=None, figsize=(8, 6), dpi=80)\n",
    "    for x, y in peak_local_max(resulting_image, threshold_abs=0.62, \n",
    "                               exclude_border = 20):\n",
    "        rect = plt.Rectangle((y, x), template_height, template_width,\n",
    "                              color='r', fc='none')\n",
    "        center_4V_y_40px_420.append(y)\n",
    "        center_4V_x_40px_420.append (x)\n",
    "        #plt.gca().add_patch(rect)\n",
    "        #print(x,y)"
   ]
  },
  {
   "cell_type": "code",
   "execution_count": null,
   "id": "cb1377d8-9d69-42c0-8957-9c87c40c95f0",
   "metadata": {},
   "outputs": [],
   "source": [
    "plt.plot(center_4V_y_40px_420, '+')"
   ]
  },
  {
   "cell_type": "code",
   "execution_count": null,
   "id": "cb0e89e9-b329-4636-87c2-6922fab7d844",
   "metadata": {},
   "outputs": [],
   "source": [
    "plt.plot(center_4V_x_40px_420, '*')"
   ]
  },
  {
   "cell_type": "markdown",
   "id": "e94e218d-8896-489a-a97b-bd54fe77b1a0",
   "metadata": {},
   "source": [
    "## Análisis para fotos con separación de 30 px y 2 vórtices en azul"
   ]
  },
  {
   "cell_type": "code",
   "execution_count": null,
   "id": "f827d6a6-7d9b-4add-b6f1-91f066fa62d5",
   "metadata": {},
   "outputs": [],
   "source": [
    "img2 = cv2.imread(UF_sep30_2vortices420[9])\n",
    "#image = cv2.cvtColor(img,cv2.COLOR_BGR2GRAY)  \n",
    "img2 = cv2.GaussianBlur(img2,(21,21), 0)\n",
    "img2 = np.mean(img2, axis=2)\n",
    "template30 = img2[540:600,650:700]\n",
    "plt.imshow(template30)"
   ]
  },
  {
   "cell_type": "code",
   "execution_count": null,
   "id": "5bbaafba-51f2-42dc-ae56-ae8c9d94d5a0",
   "metadata": {},
   "outputs": [],
   "source": [
    "img = cv2.imread(UF_sep30_2vortices420[0])\n",
    "img = np.mean(img, axis=2)\n",
    "\n",
    "resulting_image = match_template(img, template30)\n",
    "plt.figure(num=None, figsize=(8, 6), dpi=80)\n",
    "imshow(resulting_image, cmap='magma');"
   ]
  },
  {
   "cell_type": "code",
   "execution_count": null,
   "id": "33b14099-4f39-4bbb-9189-00f9fd15b2a7",
   "metadata": {},
   "outputs": [],
   "source": [
    "x, y = np.unravel_index(np.argmax(resulting_image), resulting_image.shape)\n",
    "template_width, template_height = template30.shape\n",
    "rect = plt.Rectangle((y, x), template_height, template_width, \n",
    "                     color='r', fc='none')\n",
    "plt.figure(num=None, figsize=(8, 6), dpi=80)\n",
    "plt.gca().add_patch(rect)\n",
    "imshow(img);"
   ]
  },
  {
   "cell_type": "code",
   "execution_count": null,
   "id": "45184324-796d-4630-a18f-acbab47d379b",
   "metadata": {},
   "outputs": [],
   "source": [
    "template_width, template_height = template30.shape    \n",
    "plt.figure(num=None, figsize=(8, 6), dpi=80)\n",
    "for x, y in peak_local_max(resulting_image, threshold_abs=0.85, \n",
    "                           exclude_border = 20):\n",
    "    rect = plt.Rectangle((y, x), template_height, template_width,\n",
    "                          color='r', fc='none')\n",
    "    plt.gca().add_patch(rect)\n",
    "    print(x,y)\n",
    "imshow(img);"
   ]
  },
  {
   "cell_type": "code",
   "execution_count": null,
   "id": "1a6d390c-38d9-4866-8387-4070490fa68a",
   "metadata": {},
   "outputs": [],
   "source": [
    "A1 = [(507,437),(540,493)]\n",
    "A2 = [(506,452),(541,509)]\n",
    "A3 = [(504,465),(540,527)]\n",
    "A4 = [(502,483),(541,545)]\n",
    "A5 = [(501,497),(541,559)]\n",
    "A6 = [(500,512),(540,576)]\n",
    "A7 = [(499,530),(542,594)]\n",
    "A8 = [(498,544),(541,613)]\n",
    "A9 = [(497,565),(541,634)]\n",
    "A10 = [(497,579),(540,650)]\n",
    "A11 = [(495,596),(540,669)]\n",
    "A12 = [(493,611),(542,690)]\n",
    "A13 = [(494,628),(540,706)]\n",
    "A14 = [(492,649),(542,729)]\n",
    "A15 = [(495,677),(541,755)]\n",
    "A16 = [(494,698),(542,778)]\n",
    "A17 = [(492,709),(540,789)]"
   ]
  },
  {
   "cell_type": "code",
   "execution_count": null,
   "id": "5c1710ac-bc98-407e-aa18-19b7d5523366",
   "metadata": {},
   "outputs": [],
   "source": [
    "A=[A1,A2,A3,A4,A5,A6,A7,A8,A9,A10,A11,A12,A13,A14,A15,A16,A17]"
   ]
  },
  {
   "cell_type": "code",
   "execution_count": null,
   "id": "4cceaaa6-4876-43c1-8125-beccdafeeb75",
   "metadata": {},
   "outputs": [],
   "source": [
    "a30_1x=[]\n",
    "a30_2x=[]\n",
    "a30_1y=[]\n",
    "a30_2y=[]\n",
    "a30_420_2xT=[]\n",
    "a30_420_2yT=[]\n",
    "\n",
    "for i in A:\n",
    "    a30_1x.append(i[0][0])\n",
    "    a30_2x.append(i[1][0]) \n",
    "    difx =(np.abs(i[0][0]-i[1][0])/2)*5.2\n",
    "    a30_420_2xT.append(difx)\n",
    "    a30_1y.append(i[0][1])\n",
    "    a30_2y.append(i[1][1])\n",
    "    dify =(np.abs(i[0][1]-i[1][1])/2)*5.2\n",
    "    a30_420_2yT.append(dify)"
   ]
  },
  {
   "cell_type": "code",
   "execution_count": null,
   "id": "1f0e9094-c9e9-46ce-a443-0f0792edee4f",
   "metadata": {},
   "outputs": [],
   "source": [
    "plt.plot(a30_420_2xT,a30_420_2yT,'*')"
   ]
  },
  {
   "cell_type": "code",
   "execution_count": null,
   "id": "0a1f829a-269e-4bcb-b0a4-66c9ce465fa8",
   "metadata": {},
   "outputs": [],
   "source": [
    "plt.figure(\"foto vs cuentas \")\n",
    "plt.figure(figsize=(8,6))\n",
    "plt.plot(a30_1x,'*')\n",
    "plt.plot(a30_2x,'*')"
   ]
  },
  {
   "cell_type": "code",
   "execution_count": null,
   "id": "d2deb9a5-4034-497b-b5c0-a931c62b312c",
   "metadata": {},
   "outputs": [],
   "source": [
    "plt.figure(\"foto vs cuentas \")\n",
    "plt.figure(figsize=(8,6))\n",
    "plt.plot(a30_1y,'*')\n",
    "plt.plot(a30_2y,'*')"
   ]
  },
  {
   "cell_type": "code",
   "execution_count": null,
   "id": "4f4ac145-8065-48e9-8da1-317c7ec3f733",
   "metadata": {},
   "outputs": [],
   "source": [
    "center_y_30px_420 = []\n",
    "center_x_30px_420 = []\n",
    "#files = sorted(glob.glob (np.array(list(sorted(Path(ruta6).glob('20241015-p776-14-sepX-40mu-d-*.png'))))))\n",
    "template_width, template_height = template30.shape  \n",
    "for file in  UF_sep30_2vortices420: \n",
    "    img = cv2.imread(file)\n",
    "    img = np.mean(img, axis=2)  \n",
    "    resulting_image = match_template(img, template30)\n",
    "    for x, y in peak_local_max(resulting_image, threshold_abs=0.75, \n",
    "                               exclude_border = 20):\n",
    "        rect = plt.Rectangle((y, x), template_height, template_width,\n",
    "                              color='r', fc='none')\n",
    "        center_y_30px_420.append(y)\n",
    "        center_x_30px_420.append(x)        "
   ]
  },
  {
   "cell_type": "code",
   "execution_count": null,
   "id": "c75b1291-3290-4e81-8352-258e3b0f27ce",
   "metadata": {},
   "outputs": [],
   "source": [
    "#center_y_30px_420"
   ]
  },
  {
   "cell_type": "code",
   "execution_count": null,
   "id": "ecb1b204-8dbd-4d3e-9bdc-186641956345",
   "metadata": {},
   "outputs": [],
   "source": [
    "#plt.plot(center_y_30px_420,'*')"
   ]
  },
  {
   "cell_type": "code",
   "execution_count": null,
   "id": "9e042f82-f329-4ca8-8c55-ad5f7b0b2a9b",
   "metadata": {},
   "outputs": [],
   "source": [
    "#center_y_30px_420"
   ]
  },
  {
   "cell_type": "code",
   "execution_count": null,
   "id": "05a8e85f-732e-4b28-89a3-2b3402d7f797",
   "metadata": {},
   "outputs": [],
   "source": []
  },
  {
   "cell_type": "markdown",
   "id": "1b929d1b-e922-4f56-81c1-2ba3919af9a5",
   "metadata": {},
   "source": [
    "## Análisis para fotos con separación de 30 px en 4 vórtices azul"
   ]
  },
  {
   "cell_type": "code",
   "execution_count": null,
   "id": "21eab771-caf2-4425-aaa3-b0428ebc011d",
   "metadata": {},
   "outputs": [],
   "source": [
    "img2 = cv2.imread(UF_sep30_4vortices420[15])\n",
    "#image = cv2.cvtColor(img,cv2.COLOR_BGR2GRAY)  \n",
    "img2 = cv2.GaussianBlur(img2,(21,21), 0)\n",
    "img2 = np.mean(img2, axis=2)\n",
    "template4 = img2[500:550,680:720]\n",
    "plt.imshow(template4)"
   ]
  },
  {
   "cell_type": "code",
   "execution_count": null,
   "id": "2bd78a54-fc7d-4a37-9187-8041d82537ee",
   "metadata": {},
   "outputs": [],
   "source": [
    "img2 = cv2.imread(UF_sep30_4vortices420[15])\n",
    "#image = cv2.cvtColor(img,cv2.COLOR_BGR2GRAY)  \n",
    "img2 = cv2.GaussianBlur(img2,(21,21), 0)\n",
    "img2 = np.mean(img2, axis=2)\n",
    "template5 = img2[540:600,775:825]\n",
    "plt.imshow(template5)"
   ]
  },
  {
   "cell_type": "code",
   "execution_count": null,
   "id": "a6ce4933-5fe7-49dc-8ad2-4fd853384c85",
   "metadata": {},
   "outputs": [],
   "source": [
    "img = cv2.imread(UF_sep30_4vortices420[16])\n",
    "img = np.mean(img, axis=2)\n",
    "\n",
    "resulting_image = match_template(img, template5)\n",
    "plt.figure(num=None, figsize=(8, 6), dpi=80)\n",
    "imshow(resulting_image, cmap='magma');"
   ]
  },
  {
   "cell_type": "code",
   "execution_count": null,
   "id": "d16af16e-2249-45de-bc6d-861ec36a4f13",
   "metadata": {},
   "outputs": [],
   "source": [
    "x, y = np.unravel_index(np.argmax(resulting_image), resulting_image.shape)\n",
    "template_width, template_height = template5.shape\n",
    "rect = plt.Rectangle((y, x), template_height, template_width, \n",
    "                     color='r', fc='none')\n",
    "plt.figure(num=None, figsize=(8, 6), dpi=80)\n",
    "plt.gca().add_patch(rect)\n",
    "imshow(img);"
   ]
  },
  {
   "cell_type": "code",
   "execution_count": null,
   "id": "9259d714-e1d7-43c2-876f-6732a4bd9a4b",
   "metadata": {},
   "outputs": [],
   "source": [
    "template_width, template_height = template5.shape    \n",
    "plt.figure(num=None, figsize=(8, 6), dpi=80)\n",
    "for x, y in peak_local_max(resulting_image, threshold_abs=0.68, \n",
    "                           exclude_border = 20):\n",
    "    rect = plt.Rectangle((y, x), template_height, template_width,\n",
    "                          color='r', fc='none')\n",
    "    plt.gca().add_patch(rect)\n",
    "    print(x,y)\n",
    "imshow(img);"
   ]
  },
  {
   "cell_type": "code",
   "execution_count": null,
   "id": "9a8a9ecc-620b-4c09-bb7b-8928a3115e87",
   "metadata": {},
   "outputs": [],
   "source": [
    "F30_4V1 =[(485,403),(506,445),(528,494),(545,535)]\n",
    "F30_4V2 =[(483,428),(503,472),(527,523),(547,564)]\n",
    "F30_4V3 =[(481,437),(501,481),(528,534),(549,577)]\n",
    "F30_4V4 =[(482,449),(500,495),(531,549),(552,594)]\n",
    "F30_4V5 =[(477,466),(500,510),(529,571),(555,613)]\n",
    "F30_4V6 =[(479,480),(497,526),(531,587),(554,631)]\n",
    "F30_4V7 =[(473,492),(501,539),(531,605),(560,646)]   #Foto 6\n",
    "F30_4V8 =[(474,507),(495,556),(533,621),(561,666)]   #Foto 7\n",
    "F30_4V9 =[(473,519),(494,566),(534,638),(564,681)]\n",
    "F30_4V10 =[(471,534),(498,580),(537,653),(567,698)]\n",
    "F30_4V11 =[(471,547),(493,595),(536,674),(569,716)]   \n",
    "F30_4V12 =[(468,566),(485,615),(538,691),(567,738)]\n",
    "F30_4V13 =[(469,580),(495,629),(535,713),(567,757)]\n",
    "F30_4V14 =[(466,595),(480,646),(536,730),(571,774)]\n",
    "F30_4V15 =[(469,617),(499,664),(537,756),(573,800)]\n",
    "F30_4V16 =[(470,635),(500,680),(540,775),(576,819)]\n",
    "F30_4V17 =[(469,639),(499,686),(543,783),(581,826)]"
   ]
  },
  {
   "cell_type": "code",
   "execution_count": null,
   "id": "0e656197-7381-4679-9640-36ac3ea668a1",
   "metadata": {},
   "outputs": [],
   "source": [
    "F30 =[F30_4V1,F30_4V2,F30_4V3,F30_4V4,F30_4V5,F30_4V6,F30_4V7,F30_4V8,F30_4V9,F30_4V10,F30_4V11,F30_4V12,F30_4V13,F30_4V14,F30_4V15,F30_4V16,F30_4V17]"
   ]
  },
  {
   "cell_type": "code",
   "execution_count": null,
   "id": "27916c3c-f827-4a26-b9f0-bb09c23cac43",
   "metadata": {},
   "outputs": [],
   "source": [
    "e1x=[]\n",
    "e2x=[]\n",
    "e3x=[]\n",
    "e4x=[]\n",
    "e12x=[]\n",
    "e14x=[]\n",
    "e23x=[]\n",
    "e34x=[]\n",
    "e1y=[]\n",
    "e2y=[]\n",
    "e3y=[]\n",
    "e4y=[]\n",
    "e12y=[]\n",
    "e14y=[]\n",
    "e23y=[]\n",
    "e34y=[]\n",
    "for i in F30:\n",
    "    e1x.append(i[0][0])\n",
    "    e2x.append(i[1][0]) \n",
    "    e3x.append(i[2][0])\n",
    "    e4x.append(i[3][0])\n",
    "    dif12x=(np.abs(i[0][0]-i[1][0])/2)*5.2\n",
    "    e12x.append(dif12x)\n",
    "    dif14x=(np.abs(i[0][0]-i[3][0])/2)*5.2\n",
    "    e14x.append(dif14x)\n",
    "    dif23x=(np.abs(i[1][0]-i[2][0])/2)*5.2\n",
    "    e23x.append(dif23x)\n",
    "    dif34x=(np.abs(i[2][0]-i[3][0])/2)*5.2\n",
    "    e34x.append(dif34x)\n",
    "    e1y.append(i[0][1])\n",
    "    e2y.append(i[1][1])\n",
    "    e3y.append(i[2][1])\n",
    "    e4y.append(i[3][1]) \n",
    "    dif12y=(np.abs(i[0][1]-i[1][1])/2)*5.2\n",
    "    e12y.append(dif12y)\n",
    "    dif14y=(np.abs(i[0][1]-i[3][1])/2)*5.2\n",
    "    e14y.append(dif14y)\n",
    "    dif23y=(np.abs(i[1][1]-i[2][1])/2)*5.2\n",
    "    e23y.append(dif23y)\n",
    "    dif34y=(np.abs(i[2][1]-i[3][1])/2)*5.2\n",
    "    e34y.append(dif34y)"
   ]
  },
  {
   "cell_type": "code",
   "execution_count": null,
   "id": "4dec0c21-9a08-4b5f-886e-21e742b0a2f3",
   "metadata": {},
   "outputs": [],
   "source": [
    "plt.figure(\"foto vs cuentas \")\n",
    "plt.figure(figsize=(8,6))\n",
    "#plt.plot(c34x,c34y,'*')\n",
    "plt.plot(e23x,e23y,'*')\n",
    "plt.xlabel(\"X[$\\mu m$]\")\n",
    "plt.ylabel(\"Y[$\\mu m$]\")"
   ]
  },
  {
   "cell_type": "code",
   "execution_count": null,
   "id": "1e1b7c73-ee05-4df4-b148-dc15072cfa09",
   "metadata": {},
   "outputs": [],
   "source": [
    "plt.figure(\"foto vs cuentas \")\n",
    "plt.figure(figsize=(8,6))\n",
    "#plt.plot(c34x,c34y,'*')\n",
    "plt.plot(e14x,e14y,'*')\n",
    "plt.xlabel(\"X[$\\mu m$]\")\n",
    "plt.ylabel(\"Y[$\\mu m$]\")"
   ]
  },
  {
   "cell_type": "code",
   "execution_count": null,
   "id": "edf46f2a-4b0d-4f38-a7e4-1e6ef17d4407",
   "metadata": {},
   "outputs": [],
   "source": [
    "plt.figure(\"foto vs cuentas \")\n",
    "plt.figure(figsize=(8,6))\n",
    "plt.plot(e1x,'*')\n",
    "plt.plot(e2x,'*')\n",
    "plt.plot(e3x,'*')\n",
    "plt.plot(e4x,'*')"
   ]
  },
  {
   "cell_type": "code",
   "execution_count": null,
   "id": "3c0e26ea-2069-41cd-b5cc-c6ee74e9a25a",
   "metadata": {},
   "outputs": [],
   "source": [
    "plt.figure(\"foto vs cuentas \")\n",
    "plt.figure(figsize=(8,6))\n",
    "plt.plot(e1y,'*')\n",
    "plt.plot(e2y,'*')\n",
    "plt.plot(e3y,'*')\n",
    "plt.plot(e4y,'*')"
   ]
  },
  {
   "cell_type": "markdown",
   "id": "3a16f805-da09-46d8-966d-f781f81533eb",
   "metadata": {},
   "source": [
    "## Análisis para fotos con separación de 30 px en 776"
   ]
  },
  {
   "cell_type": "code",
   "execution_count": null,
   "id": "c26ad910-b2c1-4372-94d5-adfd222383d4",
   "metadata": {},
   "outputs": [],
   "source": [
    "img2 = cv2.imread(UF_sep30_4vortices776[10])\n",
    "#image = cv2.cvtColor(img,cv2.COLOR_BGR2GRAY)  \n",
    "img2 = cv2.GaussianBlur(img2,(21,21), 0)\n",
    "img2 = np.mean(img2, axis=2)\n",
    "template6 = img2[505:555,460:500]\n",
    "plt.imshow(template6)"
   ]
  },
  {
   "cell_type": "code",
   "execution_count": null,
   "id": "fefa7482-6456-4e6f-819e-ce87499aa155",
   "metadata": {},
   "outputs": [],
   "source": [
    "img = cv2.imread(UF_sep30_4vortices776[10])\n",
    "img = np.mean(img, axis=2)\n",
    "\n",
    "resulting_image = match_template(img, template6)\n",
    "plt.figure(num=None, figsize=(8, 6), dpi=80)\n",
    "imshow(resulting_image, cmap='magma');"
   ]
  },
  {
   "cell_type": "code",
   "execution_count": null,
   "id": "120b8f6d-6260-4ac9-8290-f264a9721719",
   "metadata": {},
   "outputs": [],
   "source": [
    "x, y = np.unravel_index(np.argmax(resulting_image), resulting_image.shape)\n",
    "template_width, template_height = template6.shape\n",
    "rect = plt.Rectangle((y, x), template_height, template_width, \n",
    "                     color='r', fc='none')\n",
    "plt.figure(num=None, figsize=(8, 6), dpi=80)\n",
    "plt.gca().add_patch(rect)\n",
    "imshow(img);"
   ]
  },
  {
   "cell_type": "code",
   "execution_count": null,
   "id": "272eedea-2095-47fc-bd8f-5946e24be143",
   "metadata": {},
   "outputs": [],
   "source": [
    "template_width, template_height = template6.shape    \n",
    "plt.figure(num=None, figsize=(8, 6), dpi=80)\n",
    "for x, y in peak_local_max(resulting_image, threshold_abs=0.68, \n",
    "                           exclude_border = 20):\n",
    "    rect = plt.Rectangle((y, x), template_height, template_width,\n",
    "                          color='r', fc='none')\n",
    "    plt.gca().add_patch(rect)\n",
    "    print(x,y)\n",
    "imshow(img);"
   ]
  },
  {
   "cell_type": "code",
   "execution_count": null,
   "id": "68968a63-589a-460b-b1ed-9ad6d84a9cbe",
   "metadata": {},
   "outputs": [],
   "source": [
    "J1=[(),(),(),()]"
   ]
  },
  {
   "cell_type": "code",
   "execution_count": null,
   "id": "67f630be-5ea4-4536-b504-8c3a6120eb8f",
   "metadata": {},
   "outputs": [],
   "source": [
    "center_4V_y_30px_420 = []\n",
    "center_4V_x_30px_420 = []\n",
    "#files = sorted(glob.glob (np.array(list(sorted(Path(ruta6).glob('20241015-p776-14-sepX-40mu-d-*.png'))))))\n",
    "template_width, template_height = template4.shape  \n",
    "for file in  UF_sep30_4vortices420: \n",
    "    img = cv2.imread(file)\n",
    "    img = np.mean(img, axis=2)  \n",
    "    resulting_image = match_template(img, template4)\n",
    "    #plt.figure(num=None, figsize=(8, 6), dpi=80)\n",
    "    for x, y in peak_local_max(resulting_image, threshold_abs=0.78, \n",
    "                               exclude_border = 20):\n",
    "        rect = plt.Rectangle((y, x), template_height, template_width,\n",
    "                              color='r', fc='none')\n",
    "        center_4V_y_30px_420.append(y)\n",
    "        center_4V_x_30px_420.append (x)\n",
    "        #plt.gca().add_patch(rect)\n",
    "        #print(x,y)"
   ]
  },
  {
   "cell_type": "code",
   "execution_count": null,
   "id": "2ab381ac-2b65-4555-81cc-5a046cff647a",
   "metadata": {},
   "outputs": [],
   "source": [
    "#plt.plot(center_4V_x_30px_420, '*')"
   ]
  },
  {
   "cell_type": "markdown",
   "id": "2d3b1ed3-3860-4a3b-8d26-1793d6a23c76",
   "metadata": {},
   "source": [
    "# Análisis para fotos con separación de 50 px en 4 vórtices en azul"
   ]
  },
  {
   "cell_type": "code",
   "execution_count": null,
   "id": "20e7a0ab-2780-4b79-8ead-f0c9dff24b3f",
   "metadata": {},
   "outputs": [],
   "source": [
    "img2 = cv2.imread(UF_sep50_4vortices420[15])\n",
    "#image = cv2.cvtColor(img,cv2.COLOR_BGR2GRAY)  \n",
    "img2 = cv2.GaussianBlur(img2,(21,21), 0)\n",
    "img2 = np.mean(img2, axis=2)\n",
    "template50 = img2[450:550,660:730]\n",
    "plt.imshow(template50)"
   ]
  },
  {
   "cell_type": "code",
   "execution_count": null,
   "id": "fdc14886-d33c-4409-8a18-d954ad8fe3df",
   "metadata": {},
   "outputs": [],
   "source": [
    "img = cv2.imread(UF_sep50_4vortices420[10])\n",
    "img = np.mean(img, axis=2)\n",
    "\n",
    "resulting_image = match_template(img, template50)\n",
    "plt.figure(num=None, figsize=(8, 6), dpi=80)\n",
    "imshow(resulting_image, cmap='magma');"
   ]
  },
  {
   "cell_type": "code",
   "execution_count": null,
   "id": "9034c976-3777-4383-b1fb-efa7f5eb8e9a",
   "metadata": {},
   "outputs": [],
   "source": [
    "x, y = np.unravel_index(np.argmax(resulting_image), resulting_image.shape)\n",
    "template_width, template_height = template50.shape\n",
    "rect = plt.Rectangle((y, x), template_height, template_width, \n",
    "                     color='r', fc='none')\n",
    "plt.figure(num=None, figsize=(8, 6), dpi=80)\n",
    "plt.gca().add_patch(rect)\n",
    "print(x,y)\n",
    "imshow(img);"
   ]
  },
  {
   "cell_type": "code",
   "execution_count": null,
   "id": "3703a73c-db3c-4de0-9e79-5bafccea153b",
   "metadata": {},
   "outputs": [],
   "source": [
    "template_width, template_height = template50.shape    \n",
    "plt.figure(num=None, figsize=(8, 6), dpi=80)\n",
    "for x, y in peak_local_max(resulting_image, threshold_abs=0.67, \n",
    "                           exclude_border = 20):\n",
    "    rect = plt.Rectangle((y, x), template_height, template_width,\n",
    "                          color='r', fc='none')\n",
    "    plt.gca().add_patch(rect)\n",
    "    print(x,y)\n",
    "imshow(img);"
   ]
  },
  {
   "cell_type": "code",
   "execution_count": null,
   "id": "e135551d-79c6-4e20-ac85-b291b7a11cc2",
   "metadata": {},
   "outputs": [],
   "source": [
    "center_4V_y_50px_420 = []\n",
    "center_4V_x_50px_420 = []\n",
    "center_4V=[]\n",
    "#files = sorted(glob.glob (np.array(list(sorted(Path(ruta6).glob('20241015-p776-14-sepX-40mu-d-*.png'))))))\n",
    "template_width, template_height = template50.shape  \n",
    "for file in  UF_sep50_4vortices420: \n",
    "    img = cv2.imread(file)\n",
    "    img = np.mean(img, axis=2)  \n",
    "    resulting_image = match_template(img, template50)\n",
    "    #plt.figure(num=None, figsize=(8, 6), dpi=80)\n",
    "    for x, y in peak_local_max(resulting_image, threshold_abs=0.67, \n",
    "                               exclude_border = 20):\n",
    "        rect = plt.Rectangle((y, x), template_height, template_width,\n",
    "                              color='r', fc='none')\n",
    "        center_4V_y_50px_420.append(y)\n",
    "        center_4V_x_50px_420.append (x)\n",
    "        #center_4V.append(x,y)\n",
    "        #plt.gca().add_patch(rect)\n",
    "        #print(x,y)"
   ]
  },
  {
   "cell_type": "code",
   "execution_count": null,
   "id": "029796bb-0f76-47ae-b3f9-d7b2f2727b98",
   "metadata": {},
   "outputs": [],
   "source": []
  },
  {
   "cell_type": "code",
   "execution_count": null,
   "id": "a306595b-da38-45c1-bb81-b115639ecdc9",
   "metadata": {},
   "outputs": [],
   "source": [
    "plt.plot(center_4V_y_50px_420, '*')"
   ]
  },
  {
   "cell_type": "code",
   "execution_count": null,
   "id": "58b0be6b-fa7a-4d98-9b2e-b41da1d55ba9",
   "metadata": {},
   "outputs": [],
   "source": [
    "plt.plot(center_4V_x_50px_420, '*')"
   ]
  },
  {
   "cell_type": "markdown",
   "id": "6fefdeaf-a79b-4493-aea5-44a09b96a2d8",
   "metadata": {},
   "source": [
    "## Análisis para el 776 con 4 vórtices y con separación de 50px\n",
    "Se van a divir las fotos en dos partes, ya que el ajuste con un patron no funciona bien para todas. "
   ]
  },
  {
   "cell_type": "code",
   "execution_count": null,
   "id": "b4ab776f-6562-4906-a7ae-076000bcb514",
   "metadata": {},
   "outputs": [],
   "source": [
    "img2 = cv2.imread(UF_sep50_4vortices776[19])\n",
    "#image = cv2.cvtColor(img,cv2.COLOR_BGR2GRAY)  \n",
    "img2 = cv2.GaussianBlur(img2,(21,21), 0)\n",
    "img2 = np.mean(img2, axis=2)\n",
    "template50_776 = img2[540:585,510:545]\n",
    "plt.imshow(template50_776)"
   ]
  },
  {
   "cell_type": "code",
   "execution_count": null,
   "id": "fb59d6c4-2544-4bb4-9553-8e7a594b2c71",
   "metadata": {},
   "outputs": [],
   "source": [
    "img = cv2.imread(UF_sep50_4vortices776[3])\n",
    "img = np.mean(img, axis=2)\n",
    "\n",
    "resulting_image = match_template(img, template50_776)\n",
    "plt.figure(num=None, figsize=(8, 6), dpi=80)\n",
    "imshow(resulting_image, cmap='magma');"
   ]
  },
  {
   "cell_type": "code",
   "execution_count": null,
   "id": "dbadbcdf-e4d7-4058-a78f-f024b649de34",
   "metadata": {},
   "outputs": [],
   "source": [
    "x, y = np.unravel_index(np.argmax(resulting_image), resulting_image.shape)\n",
    "template_width, template_height = template50_776.shape\n",
    "rect = plt.Rectangle((y, x), template_height, template_width, \n",
    "                     color='r', fc='none')\n",
    "plt.figure(num=None, figsize=(8, 6), dpi=80)\n",
    "plt.gca().add_patch(rect)\n",
    "print(x,y)\n",
    "imshow(img);"
   ]
  },
  {
   "cell_type": "code",
   "execution_count": null,
   "id": "7cc7e7eb-0d33-49e1-b69a-40d6beb6bd83",
   "metadata": {},
   "outputs": [],
   "source": [
    "template_width, template_height = template50_776.shape    \n",
    "plt.figure(num=None, figsize=(8, 6), dpi=80)\n",
    "for x, y in peak_local_max(resulting_image, threshold_abs=0.65, \n",
    "                           exclude_border = 20):\n",
    "    rect = plt.Rectangle((y, x), template_height, template_width,\n",
    "                          color='r', fc='none')\n",
    "    plt.gca().add_patch(rect)\n",
    "    print(x,y)\n",
    "imshow(img);"
   ]
  },
  {
   "cell_type": "code",
   "execution_count": null,
   "id": "1633e062-f337-467d-9ba4-47d220042b52",
   "metadata": {},
   "outputs": [],
   "source": [
    "L1=[(582,825),(536,755),(509,628),(474,549)]   # Foto 25\n",
    "L2=[(577,905),(534,832),(507,718),(472,638)]  # Foto 24\n",
    "L3=[(576,882),(535,811),(505,700),(471,621)]   # Foto 23\n",
    "L4=[(574,917),(530,848),(498,741),(469,661)]   # Foto 22\n",
    "L5=[(571,895),(527,829),(495,729),(466,648)]   # Foto 21\n",
    "L6=[(569,876),(524,808),(503,706),(471,632)]   # Foto 20\n",
    "L7=[(570,855),(530,790),(503,693),(472,618)]   # Foto 19\n",
    "L8=[(566,837),(524,770),(508,680),(477,604)]   # Foto 18\n",
    "L9=[(566,822),(528,756),(505,665),(480,593)]  # Foto 17\n",
    "L10=[(564,795),(527,732),(508,645),(476,575)]   # Foto 16\n",
    "L11=[(562,774),(529,713),(506,629),(482,560)]   # Foto 15\n",
    "L12=[(564,755),(533,693),(510,615),(485,546)]   # Foto 14\n",
    "L13=[(561,736),(529,675),(513,599),(485,534)]   # Foto 13\n",
    "L14=[(558,718),(527,659),(514,584),(488,520)]   # Foto 12\n",
    "L15=[(557,699),(527,643),(517,571),(490,508)]   # Foto 11\n",
    "L16=[(556,679),(526,625),(519,554),(494,492)]   # Foto 10\n",
    "L17=[(551,669),(527,608),(522,540),(499,479)]\n",
    "L18=[(548,651),(528,592),(526,527),(503,467)]\n",
    "L19=[(547,631),(526,575),(526,514),(506,455)]\n",
    "L20=[(545,610),(527,555),(528,500),(508,444)]\n",
    "L21=[(543,590),(527,540),(527,484),(512,427)]\n",
    "L22=[(536,587),(526,530),(526,476),(518,412)]\n",
    "L23=[(534,552),(531,496),(529,444),(522,387)]\n",
    "L24=[(532,545),(529,493),(532,440),(525,386)]\n",
    "#L24 = [(545,554),(540,503),(543,452),(538,399)]   # Foto 2\n",
    "#L25 = [(544,544),(539,493),(547,442),(542,389)]   # Foto 1"
   ]
  },
  {
   "cell_type": "code",
   "execution_count": null,
   "id": "27f1c7f5-66e6-40f1-b508-4252be80ff46",
   "metadata": {},
   "outputs": [],
   "source": [
    "L=[L1,L2,L3,L4,L5,L6,L7,L8,L9,L10,L11,L12,L13,L14,L15,L16,L17,L18,L19,L20,L21,L22,L23]"
   ]
  },
  {
   "cell_type": "code",
   "execution_count": null,
   "id": "09808737-5caa-483d-bb19-ebbc6005b300",
   "metadata": {},
   "outputs": [],
   "source": [
    "c1x=[]\n",
    "c2x=[]\n",
    "c3x=[]\n",
    "c4x=[]\n",
    "c12x=[]\n",
    "c14x=[]\n",
    "c23x=[]\n",
    "c34x=[]\n",
    "c1y=[]\n",
    "c2y=[]\n",
    "c3y=[]\n",
    "c4y=[]\n",
    "c12y=[]\n",
    "c14y=[]\n",
    "c23y=[]\n",
    "c34y=[]\n",
    "for i in L:\n",
    "    c1x.append(i[0][0])\n",
    "    c2x.append(i[1][0]) \n",
    "    c3x.append(i[2][0])\n",
    "    c4x.append(i[3][0])\n",
    "    dif12x=(np.abs(i[0][0]-i[1][0])/2)*5.2\n",
    "    c12x.append(dif12x)\n",
    "    dif14x=(np.abs(i[0][0]-i[3][0])/2)*5.2\n",
    "    c14x.append(dif14x)\n",
    "    dif23x=(np.abs(i[1][0]-i[2][0])/2)*5.2\n",
    "    c23x.append(dif23x)\n",
    "    dif34x=(np.abs(i[2][0]-i[3][0])/2)*5.2\n",
    "    c34x.append(dif34x)\n",
    "    c1y.append(i[0][1])\n",
    "    c2y.append(i[1][1])\n",
    "    c3y.append(i[2][1])\n",
    "    c4y.append(i[3][1]) \n",
    "    dif12y=(np.abs(i[0][1]-i[1][1])/2)*5.2\n",
    "    c12y.append(dif12y)\n",
    "    dif14y=(np.abs(i[0][1]-i[3][1])/2)*5.2\n",
    "    c14y.append(dif14y)\n",
    "    dif23y=(np.abs(i[1][1]-i[2][1])/2)*5.2\n",
    "    c23y.append(dif23y)\n",
    "    dif34y=(np.abs(i[2][1]-i[3][1])/2)*5.2\n",
    "    c34y.append(dif34y)"
   ]
  },
  {
   "cell_type": "code",
   "execution_count": null,
   "id": "ac912f7d-c8d3-434d-b21d-7d3723edf153",
   "metadata": {},
   "outputs": [],
   "source": [
    "plt.figure(\"foto vs cuentas \")\n",
    "plt.figure(figsize=(8,6))\n",
    "#plt.plot(c34x,c34y,'*')\n",
    "plt.plot(c23x,c23y,'*')\n",
    "plt.xlabel(\"X[$\\mu m$]\")\n",
    "plt.ylabel(\"Y[$\\mu m$]\")\n",
    "#plt.plot(c23x,c23y,'*')"
   ]
  },
  {
   "cell_type": "code",
   "execution_count": null,
   "id": "17dd9412-43f3-4a92-9f82-c8fb4fab74e1",
   "metadata": {},
   "outputs": [],
   "source": [
    "plt.plot(c23x,c23y,'*')"
   ]
  },
  {
   "cell_type": "code",
   "execution_count": null,
   "id": "b508a16d-5f6f-4f05-ae8e-e22fe2285157",
   "metadata": {},
   "outputs": [],
   "source": [
    "plt.figure(\"foto vs cuentas \")\n",
    "plt.figure(figsize=(8,6))\n",
    "plt.plot(c1x,'*')\n",
    "plt.plot(c2x,'*')\n",
    "plt.plot(c3x,'*')\n",
    "plt.plot(c4x,'*')"
   ]
  },
  {
   "cell_type": "code",
   "execution_count": null,
   "id": "e6ea2572-6061-47ba-ac6a-6b749b5c3ea8",
   "metadata": {},
   "outputs": [],
   "source": [
    "plt.figure(\"foto vs cuentas \")\n",
    "plt.figure(figsize=(8,6))\n",
    "plt.plot(c1y,'*')\n",
    "plt.plot(c2y,'*')\n",
    "plt.plot(c3y,'*')\n",
    "plt.plot(c4y,'*')"
   ]
  },
  {
   "cell_type": "markdown",
   "id": "09f149ab-242d-46a7-8ef6-a87edba2076f",
   "metadata": {},
   "source": [
    "# Análisis para el azul con 2 vortices y separación de 50 px "
   ]
  },
  {
   "cell_type": "code",
   "execution_count": null,
   "id": "806098e2-045a-49ae-b25f-cdc79222d633",
   "metadata": {},
   "outputs": [],
   "source": [
    "img2 = cv2.imread(UF_sep50_2vortices420[15])\n",
    "#image = cv2.cvtColor(img,cv2.COLOR_BGR2GRAY)  \n",
    "img2 = cv2.GaussianBlur(img2,(21,21), 0)\n",
    "img2 = np.mean(img2, axis=2)\n",
    "template50_420_2V = img2[450:510,650:710]\n",
    "plt.imshow(template50_420_2V)"
   ]
  },
  {
   "cell_type": "code",
   "execution_count": null,
   "id": "15bde6e9-9e78-4282-98ee-22e97cd2f9fa",
   "metadata": {},
   "outputs": [],
   "source": [
    "img2 = cv2.imread(UF_sep50_2vortices420[15])\n",
    "#image = cv2.cvtColor(img,cv2.COLOR_BGR2GRAY)  \n",
    "img2 = cv2.GaussianBlur(img2,(21,21), 0)\n",
    "img2 = np.mean(img2, axis=2)\n",
    "template50_420_2VI = img2[520:570,745:795]\n",
    "plt.imshow(template50_420_2VI)"
   ]
  },
  {
   "cell_type": "code",
   "execution_count": null,
   "id": "20cfaa83-c52c-4deb-bd53-f5ef13982177",
   "metadata": {},
   "outputs": [],
   "source": [
    "img = cv2.imread(UF_sep50_2vortices420[1])\n",
    "img = np.mean(img, axis=2)\n",
    "\n",
    "resulting_image = match_template(img, template50_420_2VI)\n",
    "plt.figure(num=None, figsize=(8, 6), dpi=80)\n",
    "imshow(resulting_image, cmap='magma');"
   ]
  },
  {
   "cell_type": "code",
   "execution_count": null,
   "id": "2879712d-5d68-4516-967c-50fdd1cd69da",
   "metadata": {},
   "outputs": [],
   "source": [
    "x, y = np.unravel_index(np.argmax(resulting_image), resulting_image.shape)\n",
    "template_width, template_height = template50_420_2VI.shape\n",
    "rect = plt.Rectangle((y, x), template_height, template_width, \n",
    "                     color='r', fc='none')\n",
    "plt.figure(num=None, figsize=(8, 6), dpi=80)\n",
    "plt.gca().add_patch(rect)\n",
    "print(x,y)\n",
    "imshow(img);"
   ]
  },
  {
   "cell_type": "code",
   "execution_count": null,
   "id": "ed993df4-7d70-4aed-8af9-ca97d9028882",
   "metadata": {},
   "outputs": [],
   "source": [
    "template_width, template_height = template50_420_2VI.shape    \n",
    "plt.figure(num=None, figsize=(8, 6), dpi=80)\n",
    "for x, y in peak_local_max(resulting_image, threshold_abs=0.65, \n",
    "                           exclude_border = 20):\n",
    "    rect = plt.Rectangle((y, x), template_height, template_width,\n",
    "                          color='r', fc='none')\n",
    "    plt.gca().add_patch(rect)\n",
    "    print(x,y)\n",
    "imshow(img);"
   ]
  },
  {
   "cell_type": "code",
   "execution_count": null,
   "id": "fcacf368-6984-4a5b-8475-420e78f58fb2",
   "metadata": {},
   "outputs": [],
   "source": [
    "A50_1=[(449,410),(495,485)]\n",
    "A50_2=[(449,423),(493,501)]\n",
    "A50_3=[(446,442),(498,519)]\n",
    "A50_4=[(448,453),(498,533)]\n",
    "A50_5=[(446,471),(499,551)]\n",
    "A50_6=[(447,486),(503,566)]\n",
    "A50_7=[(446,502),(502,585)]\n",
    "A50_8=[(446,519),(506,602)]\n",
    "A50_9=[(444,537),(505,625)]\n",
    "A50_10=[(443,555),(508,644)]\n",
    "A50_11=[(443,568),(506,660)]\n",
    "A50_12=[(443,583),(511,676)]\n",
    "A50_13=[(443,599),(511,696)]\n",
    "A50_14=[(443,616),(514,714)]\n",
    "A50_15=[(448,636),(516,733)]\n",
    "A50_16=[(449,650),(521,745)]\n",
    "A50_17=[(449,664),(523,762)]"
   ]
  },
  {
   "cell_type": "code",
   "execution_count": null,
   "id": "94c69a29-d6f3-49b0-9b3a-4a27ab67b007",
   "metadata": {},
   "outputs": [],
   "source": [
    "A2V = [A50_1,A50_2,A50_3,A50_4,A50_5,A50_6,A50_7,A50_8,A50_9,A50_10,A50_11,A50_12,A50_13,A50_14,A50_15,A50_16,A50_17]"
   ]
  },
  {
   "cell_type": "code",
   "execution_count": null,
   "id": "84841090-f28d-4f3a-9919-993fc82502c3",
   "metadata": {},
   "outputs": [],
   "source": [
    "b1x=[]\n",
    "b2x=[]\n",
    "b1y=[]\n",
    "b2y=[]\n",
    "b2xT=[]\n",
    "b2yT=[]\n",
    "for i in A2V:\n",
    "    b1x.append(i[0][0])\n",
    "    b2x.append(i[1][0]) \n",
    "    difx=np.abs(i[0][0]-i[1][0])\n",
    "    b2xT.append(difx)\n",
    "    b1y.append(i[0][1])\n",
    "    b2y.append(i[1][1])\n",
    "    dify=np.abs(i[0][1]-i[1][1])\n",
    "    b2yT.append(dify)\n",
    "    "
   ]
  },
  {
   "cell_type": "code",
   "execution_count": null,
   "id": "9160e220-aad4-4736-a3a5-7aebdb68eac4",
   "metadata": {},
   "outputs": [],
   "source": [
    "\n",
    "plt.plot(b2xT,b2yT,'*')"
   ]
  },
  {
   "cell_type": "code",
   "execution_count": null,
   "id": "eee2959a-9cb0-4c58-8071-b825c50f433b",
   "metadata": {},
   "outputs": [],
   "source": [
    "plt.plot(b2yT,'*')"
   ]
  },
  {
   "cell_type": "code",
   "execution_count": null,
   "id": "c2229db5-cd04-45e7-9691-04eb2fe02ba7",
   "metadata": {},
   "outputs": [],
   "source": [
    "plt.figure(\"foto vs cuentas \")\n",
    "plt.figure(figsize=(8,6))\n",
    "plt.plot(b1y,'*')\n",
    "plt.plot(b2y,'*')"
   ]
  },
  {
   "cell_type": "code",
   "execution_count": null,
   "id": "11c937ea-dcb3-4e29-a958-faabf2610d2a",
   "metadata": {},
   "outputs": [],
   "source": [
    "plt.figure(\"foto vs cuentas \")\n",
    "plt.figure(figsize=(8,6))\n",
    "plt.plot(b1x,'*')\n",
    "plt.plot(b2x,'*')"
   ]
  },
  {
   "cell_type": "code",
   "execution_count": null,
   "id": "a228d8aa-9277-4b5d-af4f-0951314741cb",
   "metadata": {},
   "outputs": [],
   "source": [
    "center_4V_y_50px_776 = []\n",
    "center_4V_x_50px_776 = []\n",
    "#files = sorted(glob.glob (np.array(list(sorted(Path(ruta6).glob('20241015-p776-14-sepX-40mu-d-*.png'))))))\n",
    "template_width, template_height = template50_776.shape  \n",
    "for file in  UF_sep50_4vortices776: \n",
    "    img = cv2.imread(file)\n",
    "    img = np.mean(img, axis=2)  \n",
    "    resulting_image = match_template(img, template50_776)\n",
    "    #plt.figure(num=None, figsize=(8, 6), dpi=80)\n",
    "    for x, y in peak_local_max(resulting_image, threshold_abs=0.70, \n",
    "                               exclude_border = 20):\n",
    "        rect = plt.Rectangle((y, x), template_height, template_width,\n",
    "                              color='r', fc='none')\n",
    "        center_4V_y_50px_776.append(y)\n",
    "        center_4V_x_50px_776.append (x)\n",
    "        #plt.gca().add_patch(rect)\n",
    "        #print(x,y)"
   ]
  },
  {
   "cell_type": "code",
   "execution_count": null,
   "id": "f42012df-c9a1-4156-a5ff-81ba535883a5",
   "metadata": {},
   "outputs": [],
   "source": [
    "plt.plot(center_4V_y_50px_776[0:60], '*')"
   ]
  },
  {
   "cell_type": "code",
   "execution_count": null,
   "id": "e6d7d6b9-ff33-4a48-998f-aab249d82f6b",
   "metadata": {},
   "outputs": [],
   "source": [
    "plt.plot(center_4V_x_50px_776[0:60], '*')"
   ]
  },
  {
   "cell_type": "markdown",
   "id": "32894430-75f7-4c35-a236-98c23e31bc83",
   "metadata": {},
   "source": [
    "### Segunda parte de fotos 776"
   ]
  },
  {
   "cell_type": "code",
   "execution_count": null,
   "id": "1bee39fb-e74c-41e1-97f4-b7553ec391cd",
   "metadata": {},
   "outputs": [],
   "source": [
    "img2 = cv2.imread(UF_sep50_4vortices776[19])\n",
    "#image = cv2.cvtColor(img,cv2.COLOR_BGR2GRAY)  \n",
    "img2 = cv2.GaussianBlur(img2,(21,21), 0)\n",
    "img2 = np.mean(img2, axis=2)\n",
    "template50_776_2 = img2[530:600,790:850]\n",
    "plt.imshow(template50_776_2)"
   ]
  },
  {
   "cell_type": "code",
   "execution_count": null,
   "id": "5104560e-44c1-4171-b6f2-dc4e59331dc5",
   "metadata": {},
   "outputs": [],
   "source": [
    "img = cv2.imread(UF_sep50_4vortices776[23])\n",
    "img = np.mean(img, axis=2)\n",
    "\n",
    "resulting_image = match_template(img, template50_776_2)\n",
    "plt.figure(num=None, figsize=(8, 6), dpi=80)\n",
    "imshow(resulting_image, cmap='magma');"
   ]
  },
  {
   "cell_type": "code",
   "execution_count": null,
   "id": "dbc691a9-7963-45ce-ba7a-abe28b24d00c",
   "metadata": {},
   "outputs": [],
   "source": [
    "x, y = np.unravel_index(np.argmax(resulting_image), resulting_image.shape)\n",
    "template_width, template_height = template50_776_2.shape\n",
    "rect = plt.Rectangle((y, x), template_height, template_width, \n",
    "                     color='r', fc='none')\n",
    "plt.figure(num=None, figsize=(8, 6), dpi=80)\n",
    "plt.gca().add_patch(rect)\n",
    "print(x,y)\n",
    "imshow(img);"
   ]
  },
  {
   "cell_type": "code",
   "execution_count": null,
   "id": "dac5beed-c41d-42a6-b570-3b8e2ed75543",
   "metadata": {},
   "outputs": [],
   "source": [
    "template_width, template_height = template50_776_2.shape    \n",
    "plt.figure(num=None, figsize=(8, 6), dpi=80)\n",
    "for x, y in peak_local_max(resulting_image, threshold_abs=0.67, \n",
    "                           exclude_border = 20):\n",
    "    rect = plt.Rectangle((y, x), template_height, template_width,\n",
    "                          color='r', fc='none')\n",
    "    plt.gca().add_patch(rect)\n",
    "    print(x,y)\n",
    "imshow(img);"
   ]
  },
  {
   "cell_type": "code",
   "execution_count": null,
   "id": "edf85a92-b59a-4526-b0a0-00168a355aeb",
   "metadata": {},
   "outputs": [],
   "source": [
    "\n",
    "L1=[(582,825),(536,755),(509,628),(474,549)]   # Foto 25\n",
    "L2=[(577,905),(534,832),(507,718),(472,638)]  # Foto 24\n",
    "L3=[(576,882),(535,811),(505,700),(471,621)]   # Foto 23\n",
    "L4=[(574,917),(530,848),(498,741),(469,661)]   # Foto 22\n",
    "L5=[(571,895),(527,829),(495,729),(466,648)]   # Foto 21\n",
    "L6=[(569,876),(524,808),(503,706),(471,632)]   # Foto 20\n",
    "L7=[(570,855),(530,790),(503,693),(472,618)]   # Foto 19\n",
    "L8=[(566,837),(524,770),(508,680),(477,604)]   # Foto 18\n",
    "L9=[(566,822),(528,756),(505,665),(480,593)]  # Foto 17\n",
    "L10=[(564,795),(527,732),(508,645),(476,575)]   # Foto 16\n",
    "L11=[(562,774),(529,713),(506,629),(482,560)]   # Foto 15\n",
    "L12=[(564,755),(533,693),(510,615),(485,546)]   # Foto 14\n",
    "L13=[(561,736),(529,675),(513,599),(485,534)]   # Foto 13\n",
    "L14=[(558,718),(527,659),(514,584),(488,520)]   # Foto 12\n",
    "L15=[(557,699),(527,643),(517,571),(490,508)]   # Foto 11\n",
    "L16=[(556,679),(526,625),(519,554),(494,492)]   # Foto 10\n",
    "L17=[(551,669),(527,608),(522,540),(499,479)]\n",
    "L18=[(548,651),(528,592),(526,527),(503,467)]\n",
    "L19=[(547,631),(526,575),(526,514),(506,455)]\n",
    "L20=[(545,610),(527,555),(528,500),(508,444)]\n",
    "L21=[(543,590),(527,540),(527,484),(512,427)]\n",
    "L22=[(536,587),(526,530),(526,476),(518,412)]\n",
    "L23=[(534,552),(531,496),(529,444),(522,387)]\n",
    "L24=[(532,545),(529,493),(532,440),(525,386)]\n",
    "L25=[(532,545),(529,493),(532,440),(525,386)]"
   ]
  },
  {
   "cell_type": "code",
   "execution_count": null,
   "id": "e3735926-9469-411f-8569-b03e72961096",
   "metadata": {},
   "outputs": [],
   "source": [
    "center_4V_y_50px_776_2 = []\n",
    "center_4V_x_50px_776_2 = []\n",
    "#files = sorted(glob.glob (np.array(list(sorted(Path(ruta6).glob('20241015-p776-14-sepX-40mu-d-*.png'))))))\n",
    "template_width, template_height = template50_776_2.shape  \n",
    "for file in  UF_sep50_4vortices776: \n",
    "    img = cv2.imread(file)\n",
    "    img = np.mean(img, axis=2)  \n",
    "    resulting_image = match_template(img, template50_776)\n",
    "    #plt.figure(num=None, figsize=(8, 6), dpi=80)\n",
    "    for x, y in peak_local_max(resulting_image, threshold_abs=0.62, \n",
    "                               exclude_border = 20):\n",
    "        rect = plt.Rectangle((y, x), template_height, template_width,\n",
    "                              color='r', fc='none')\n",
    "        center_4V_y_50px_776_2.append(y)\n",
    "        center_4V_x_50px_776_2.append (x)\n",
    "        #plt.gca().add_patch(rect)\n",
    "        #print(x,y)"
   ]
  },
  {
   "cell_type": "code",
   "execution_count": null,
   "id": "c6926633-68d2-4e5e-9f36-84c561b0b98d",
   "metadata": {},
   "outputs": [],
   "source": [
    "plt.plot(center_4V_y_50px_776_2[50:], '*')"
   ]
  },
  {
   "cell_type": "code",
   "execution_count": null,
   "id": "c2c35169-2675-4072-abb3-6e01d51f18c9",
   "metadata": {},
   "outputs": [],
   "source": []
  },
  {
   "cell_type": "code",
   "execution_count": null,
   "id": "32e80d47-8e1b-4e8e-b303-bd100b2272c5",
   "metadata": {},
   "outputs": [],
   "source": [
    "img = cv2.imread(UF_sep40_2vortices420[16])\n",
    "#gray_image=cv2.cvtColor(image,cv2.COLOR_BGR2GRAY)\n",
    "#rgb_image=cv2.cvtColor(image,cv2.COLOR_BGR2RGB)\n",
    "image = cv2.cvtColor(img,cv2.COLOR_BGR2GRAY)  \n",
    "\n",
    "image = cv2.GaussianBlur(image,(21,21), 0)\n",
    "#just use grayscale, but you could make separate template for each r,g,b channel \n",
    "img = np.mean(img, axis=2)\n",
    "\n",
    "normccf = skimage.feature.match_template(img, template,pad_input=True)\n",
    "\n",
    "#center pixel\n",
    "(i,j) = np.unravel_index( np.argmax(normccf), normccf.shape)\n",
    "\n",
    "plt.imshow(image)\n",
    "plt.plot(j,i,'r*')\n",
    "#plt.plot(template)\n",
    "print(i,j)"
   ]
  },
  {
   "cell_type": "code",
   "execution_count": null,
   "id": "59208437-88ac-49cf-b35a-953df3c309c7",
   "metadata": {},
   "outputs": [],
   "source": [
    "#3,4,5,6,7,8,9,10,11,12,13,14,15,16\n",
    "482,481,485,484,483,482,482,473,483, 483, 478, 483, 481,490 "
   ]
  },
  {
   "cell_type": "markdown",
   "id": "e2f52fe3-afdb-4799-a23f-f585cf8c3f92",
   "metadata": {},
   "source": [
    "## Rotación para vortices con separacion de 40 pixeles "
   ]
  },
  {
   "cell_type": "code",
   "execution_count": null,
   "id": "2ac94959-bb85-42e0-a67d-48096637db11",
   "metadata": {},
   "outputs": [],
   "source": [
    "center_y_40px_776 = []\n",
    "center_x_40px_776 = []\n",
    "#files = sorted(glob.glob (np.array(list(sorted(Path(ruta6).glob('20241015-p776-14-sepX-40mu-d-*.png'))))))\n",
    "for file in  UF_sep40_2vortices776:  \n",
    "    img = cv2.imread(file)\n",
    "    img = np.mean(img, axis=2)\n",
    "    normccf = skimage.feature.match_template(img, template,pad_input=True)\n",
    "    #center pixel\n",
    "    (i,j) = np.unravel_index( np.argmax(normccf), normccf.shape)\n",
    "    center_y_40px_776.append(i)\n",
    "    center_x_40px_776.append (j)"
   ]
  },
  {
   "cell_type": "code",
   "execution_count": null,
   "id": "82861748-3e1d-4f8e-baac-0e523fc53045",
   "metadata": {},
   "outputs": [],
   "source": [
    "center_y_40px_776 = center_y_40px_776[1:14]\n",
    "#center_y"
   ]
  },
  {
   "cell_type": "code",
   "execution_count": null,
   "id": "da5fdfe9-0ee8-41b6-babb-8c2b13a64e58",
   "metadata": {},
   "outputs": [],
   "source": [
    "plt.plot(center_y_40px_776, '*')"
   ]
  },
  {
   "cell_type": "markdown",
   "id": "3438fb88-4a7e-4d02-9de7-603a3211cec3",
   "metadata": {},
   "source": [
    "### Rotación para el azul"
   ]
  },
  {
   "cell_type": "code",
   "execution_count": null,
   "id": "0cd6c139-6245-4f66-960e-bc2c2a7bae49",
   "metadata": {},
   "outputs": [],
   "source": [
    "center_y_40px_420 = []\n",
    "center_x_40px_420 = []\n",
    "#files = sorted(glob.glob (np.array(list(sorted(Path(ruta6).glob('20241015-p776-14-sepX-40mu-d-*.png'))))))\n",
    "for file in  UF_sep40_2vortices420:  \n",
    "    img = cv2.imread(file)\n",
    "    img = cv2.GaussianBlur(img,(21,21), 0)\n",
    "    img = np.mean(img, axis=2)\n",
    "    normccf = skimage.feature.match_template(img, template,pad_input=True)\n",
    "    #center pixel\n",
    "    (i,j) = np.unravel_index( np.argmax(normccf), normccf.shape)\n",
    "    center_y_40px_420.append(i)\n",
    "    center_x_40px_420.append (j)"
   ]
  },
  {
   "cell_type": "code",
   "execution_count": null,
   "id": "6a1d36a1-15d4-4fc8-8897-0a170b32c9d8",
   "metadata": {},
   "outputs": [],
   "source": [
    "plt.plot(center_y_40px_420)"
   ]
  },
  {
   "cell_type": "code",
   "execution_count": null,
   "id": "960902de-6dde-4af8-a61c-a8e53dd50389",
   "metadata": {},
   "outputs": [],
   "source": []
  },
  {
   "cell_type": "markdown",
   "id": "0ffaac4d-d6f4-4a0d-a79c-9705fc37470d",
   "metadata": {},
   "source": [
    "## Rotación para vórtices con separación de 30 px"
   ]
  },
  {
   "cell_type": "code",
   "execution_count": null,
   "id": "cf71ba8d-9d4e-4816-bb4c-7427764a76d7",
   "metadata": {},
   "outputs": [],
   "source": [
    "center_y_30px_776 = []\n",
    "center_x_30px_776 = []\n",
    "#files = sorted(glob.glob (np.array(list(sorted(Path(ruta6).glob('20241015-p776-14-sepX-40mu-d-*.png'))))))\n",
    "for file in  UF_sep30_2vortices776:  \n",
    "    img = cv2.imread(file)\n",
    "    img = np.mean(img, axis=2)\n",
    "    normccf = skimage.feature.match_template(img, template,pad_input=True)\n",
    "    #center pixel\n",
    "    (i,j) = np.unravel_index( np.argmax(normccf), normccf.shape)\n",
    "    center_y_30px_776.append(i)\n",
    "    center_x_30px_776.append (j)"
   ]
  },
  {
   "cell_type": "code",
   "execution_count": null,
   "id": "b8ca8254-cd59-478a-b90e-7639950e83ed",
   "metadata": {},
   "outputs": [],
   "source": [
    "center_y_30px_776 = center_y_30px_776[1:10]"
   ]
  },
  {
   "cell_type": "code",
   "execution_count": null,
   "id": "27e2050d-baf2-4fef-93b7-e943df6d7e0e",
   "metadata": {},
   "outputs": [],
   "source": [
    "plt.plot(center_y_30px_776, '*')"
   ]
  },
  {
   "cell_type": "markdown",
   "id": "ef5c99fa-edd1-4dd4-aef7-b52529de0b9e",
   "metadata": {},
   "source": [
    "### Rotación para el azul"
   ]
  },
  {
   "cell_type": "code",
   "execution_count": null,
   "id": "2821322b-d673-49b1-85e9-a4172e9c2ea7",
   "metadata": {},
   "outputs": [],
   "source": [
    "center_y_30px_420 = []\n",
    "center_x_30px_420 = []\n",
    "#files = sorted(glob.glob (np.array(list(sorted(Path(ruta6).glob('20241015-p776-14-sepX-40mu-d-*.png'))))))\n",
    "for file in  UF_sep30_2vortices420:  \n",
    "    img = cv2.imread(file)\n",
    "    img = np.mean(img, axis=2)\n",
    "    normccf = skimage.feature.match_template(img, template,pad_input=True)\n",
    "    #center pixel\n",
    "    (i,j) = np.unravel_index( np.argmax(normccf), normccf.shape)\n",
    "    center_y_30px_420.append(i)\n",
    "    center_x_30px_420.append (j)"
   ]
  },
  {
   "cell_type": "code",
   "execution_count": null,
   "id": "2ce13c5e-e98b-49ef-973e-e6ff1749040a",
   "metadata": {},
   "outputs": [],
   "source": [
    "plt.plot(center_y_30px_420[4:16])"
   ]
  },
  {
   "cell_type": "markdown",
   "id": "bf33d97d-985a-443b-8f7b-cea887f5773d",
   "metadata": {},
   "source": [
    "##  Rotación para vortices con separación de 50 px"
   ]
  },
  {
   "cell_type": "code",
   "execution_count": null,
   "id": "78ddde8e-49f1-4bd3-a4f7-f02234543a2e",
   "metadata": {},
   "outputs": [],
   "source": [
    "center_y_50px_776 = []\n",
    "center_x_50px_776 = []\n",
    "#files = sorted(glob.glob (np.array(list(sorted(Path(ruta6).glob('20241015-p776-14-sepX-40mu-d-*.png'))))))\n",
    "for file in  UF_sep50_2vortices776:  \n",
    "    img = cv2.imread(file)\n",
    "    img = np.mean(img, axis=2)\n",
    "    normccf = skimage.feature.match_template(img, template,pad_input=True)\n",
    "    #center pixel\n",
    "    (i,j) = np.unravel_index( np.argmax(normccf), normccf.shape)\n",
    "    center_y_50px_776.append(i)\n",
    "    center_x_50px_776.append (j)"
   ]
  },
  {
   "cell_type": "code",
   "execution_count": null,
   "id": "decf0620-e679-4eee-a0fa-fe21872ca3c2",
   "metadata": {},
   "outputs": [],
   "source": [
    "center_y_50px_776_1 = center_y_50px_776[1:13]\n",
    "#center_y_50px_776_2 = (center_y_50px_776[14:24])\n",
    "#center_y_50px_776_2 = center_y_50px_776_2-576\n",
    "#-576)*(-1)+580"
   ]
  },
  {
   "cell_type": "code",
   "execution_count": null,
   "id": "b71d168f-b98c-45da-ab27-34c60e23f8bc",
   "metadata": {},
   "outputs": [],
   "source": [
    "plt.plot(center_y_50px_776_1, '*')"
   ]
  },
  {
   "cell_type": "markdown",
   "id": "751f2775-a158-4e04-b6c3-a1a7ddd2df39",
   "metadata": {},
   "source": [
    "### Rotación para el azul"
   ]
  },
  {
   "cell_type": "code",
   "execution_count": null,
   "id": "99bda420-67d8-4cf5-9962-7d8cfb85603b",
   "metadata": {},
   "outputs": [],
   "source": [
    "center_y_50px_420 = []\n",
    "center_x_50px_420 = []\n",
    "#files = sorted(glob.glob (np.array(list(sorted(Path(ruta6).glob('20241015-p776-14-sepX-40mu-d-*.png'))))))\n",
    "for file in  UF_sep50_2vortices420:  \n",
    "    img = cv2.imread(file)\n",
    "    img = np.mean(img, axis=2)\n",
    "    normccf = skimage.feature.match_template(img, template,pad_input=True)\n",
    "    #center pixel\n",
    "    (i,j) = np.unravel_index( np.argmax(normccf), normccf.shape)\n",
    "    center_y_50px_420.append(i)\n",
    "    center_x_50px_420.append (j)"
   ]
  },
  {
   "cell_type": "code",
   "execution_count": null,
   "id": "36ebaea5-2e10-4593-845e-c3bb5f1b1373",
   "metadata": {},
   "outputs": [],
   "source": [
    "plt.plot(center_y_50px_420[3:16])"
   ]
  },
  {
   "cell_type": "code",
   "execution_count": null,
   "id": "3ac13010-33ed-437b-8fb3-c33becf0a464",
   "metadata": {},
   "outputs": [],
   "source": [
    "img = cv2.imread(UF_sep40_2vortices776[8],0)\n",
    "ret,thresh = cv2.threshold(img,3,255,cv2.THRESH_BINARY)\n",
    "cv2.imwrite('output.png',thresh)"
   ]
  },
  {
   "cell_type": "code",
   "execution_count": null,
   "id": "4738925d-0d7c-4717-8387-59f1798b4793",
   "metadata": {},
   "outputs": [],
   "source": [
    "img = cv2.imread(UF_sep40_2vortices776[8])\n",
    "#gray_image=cv2.cvtColor(image,cv2.COLOR_BGR2GRAY)\n",
    "#rgb_image=cv2.cvtColor(image,cv2.COLOR_BGR2RGB)\n",
    "\n",
    "#just use grayscale, but you could make separate template for each r,g,b channel \n",
    "img = np.mean(img, axis=2)\n",
    "img"
   ]
  },
  {
   "cell_type": "code",
   "execution_count": null,
   "id": "fdac5788-bb43-43cb-9c49-a1e7cf82bac5",
   "metadata": {},
   "outputs": [],
   "source": []
  }
 ],
 "metadata": {
  "kernelspec": {
   "display_name": "Python 3 (ipykernel)",
   "language": "python",
   "name": "python3"
  },
  "language_info": {
   "codemirror_mode": {
    "name": "ipython",
    "version": 3
   },
   "file_extension": ".py",
   "mimetype": "text/x-python",
   "name": "python",
   "nbconvert_exporter": "python",
   "pygments_lexer": "ipython3",
   "version": "3.12.4"
  }
 },
 "nbformat": 4,
 "nbformat_minor": 5
}
